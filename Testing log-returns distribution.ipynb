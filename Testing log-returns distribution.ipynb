{
 "cells": [
  {
   "cell_type": "code",
   "execution_count": 2,
   "id": "renewable-integer",
   "metadata": {},
   "outputs": [],
   "source": [
    "import numpy as np\n",
    "import pandas as pd\n",
    "import seaborn as sns\n",
    "import matplotlib.pyplot as plt\n",
    "import statsmodels.api as sm\n",
    "import scipy.stats as sts\n",
    "%matplotlib inline\n",
    "\n",
    "\n",
    "import warnings\n",
    "warnings.filterwarnings(\"ignore\")"
   ]
  },
  {
   "cell_type": "code",
   "execution_count": 3,
   "id": "indoor-framing",
   "metadata": {},
   "outputs": [
    {
     "data": {
      "text/html": [
       "<div>\n",
       "<style scoped>\n",
       "    .dataframe tbody tr th:only-of-type {\n",
       "        vertical-align: middle;\n",
       "    }\n",
       "\n",
       "    .dataframe tbody tr th {\n",
       "        vertical-align: top;\n",
       "    }\n",
       "\n",
       "    .dataframe thead th {\n",
       "        text-align: right;\n",
       "    }\n",
       "</style>\n",
       "<table border=\"1\" class=\"dataframe\">\n",
       "  <thead>\n",
       "    <tr style=\"text-align: right;\">\n",
       "      <th></th>\n",
       "      <th>Date</th>\n",
       "      <th>Open</th>\n",
       "      <th>High</th>\n",
       "      <th>Low</th>\n",
       "      <th>Close</th>\n",
       "      <th>Adj Close</th>\n",
       "      <th>Volume</th>\n",
       "    </tr>\n",
       "  </thead>\n",
       "  <tbody>\n",
       "    <tr>\n",
       "      <th>0</th>\n",
       "      <td>2017-01-03</td>\n",
       "      <td>28.950001</td>\n",
       "      <td>29.082500</td>\n",
       "      <td>28.690001</td>\n",
       "      <td>29.037500</td>\n",
       "      <td>27.459938</td>\n",
       "      <td>115127600</td>\n",
       "    </tr>\n",
       "    <tr>\n",
       "      <th>1</th>\n",
       "      <td>2017-01-04</td>\n",
       "      <td>28.962500</td>\n",
       "      <td>29.127501</td>\n",
       "      <td>28.937500</td>\n",
       "      <td>29.004999</td>\n",
       "      <td>27.429203</td>\n",
       "      <td>84472400</td>\n",
       "    </tr>\n",
       "    <tr>\n",
       "      <th>2</th>\n",
       "      <td>2017-01-05</td>\n",
       "      <td>28.980000</td>\n",
       "      <td>29.215000</td>\n",
       "      <td>28.952499</td>\n",
       "      <td>29.152500</td>\n",
       "      <td>27.568691</td>\n",
       "      <td>88774400</td>\n",
       "    </tr>\n",
       "    <tr>\n",
       "      <th>3</th>\n",
       "      <td>2017-01-06</td>\n",
       "      <td>29.195000</td>\n",
       "      <td>29.540001</td>\n",
       "      <td>29.117500</td>\n",
       "      <td>29.477501</td>\n",
       "      <td>27.876030</td>\n",
       "      <td>127007600</td>\n",
       "    </tr>\n",
       "    <tr>\n",
       "      <th>4</th>\n",
       "      <td>2017-01-09</td>\n",
       "      <td>29.487499</td>\n",
       "      <td>29.857500</td>\n",
       "      <td>29.485001</td>\n",
       "      <td>29.747499</td>\n",
       "      <td>28.131361</td>\n",
       "      <td>134247600</td>\n",
       "    </tr>\n",
       "    <tr>\n",
       "      <th>...</th>\n",
       "      <td>...</td>\n",
       "      <td>...</td>\n",
       "      <td>...</td>\n",
       "      <td>...</td>\n",
       "      <td>...</td>\n",
       "      <td>...</td>\n",
       "      <td>...</td>\n",
       "    </tr>\n",
       "    <tr>\n",
       "      <th>1001</th>\n",
       "      <td>2020-12-23</td>\n",
       "      <td>132.160004</td>\n",
       "      <td>132.429993</td>\n",
       "      <td>130.779999</td>\n",
       "      <td>130.960007</td>\n",
       "      <td>130.764603</td>\n",
       "      <td>88223700</td>\n",
       "    </tr>\n",
       "    <tr>\n",
       "      <th>1002</th>\n",
       "      <td>2020-12-24</td>\n",
       "      <td>131.320007</td>\n",
       "      <td>133.460007</td>\n",
       "      <td>131.100006</td>\n",
       "      <td>131.970001</td>\n",
       "      <td>131.773087</td>\n",
       "      <td>54930100</td>\n",
       "    </tr>\n",
       "    <tr>\n",
       "      <th>1003</th>\n",
       "      <td>2020-12-28</td>\n",
       "      <td>133.990005</td>\n",
       "      <td>137.339996</td>\n",
       "      <td>133.509995</td>\n",
       "      <td>136.690002</td>\n",
       "      <td>136.486053</td>\n",
       "      <td>124486200</td>\n",
       "    </tr>\n",
       "    <tr>\n",
       "      <th>1004</th>\n",
       "      <td>2020-12-29</td>\n",
       "      <td>138.050003</td>\n",
       "      <td>138.789993</td>\n",
       "      <td>134.339996</td>\n",
       "      <td>134.869995</td>\n",
       "      <td>134.668762</td>\n",
       "      <td>121047300</td>\n",
       "    </tr>\n",
       "    <tr>\n",
       "      <th>1005</th>\n",
       "      <td>2020-12-30</td>\n",
       "      <td>135.580002</td>\n",
       "      <td>135.990005</td>\n",
       "      <td>133.399994</td>\n",
       "      <td>133.720001</td>\n",
       "      <td>133.520477</td>\n",
       "      <td>96452100</td>\n",
       "    </tr>\n",
       "  </tbody>\n",
       "</table>\n",
       "<p>1006 rows × 7 columns</p>\n",
       "</div>"
      ],
      "text/plain": [
       "            Date        Open        High         Low       Close   Adj Close  \\\n",
       "0     2017-01-03   28.950001   29.082500   28.690001   29.037500   27.459938   \n",
       "1     2017-01-04   28.962500   29.127501   28.937500   29.004999   27.429203   \n",
       "2     2017-01-05   28.980000   29.215000   28.952499   29.152500   27.568691   \n",
       "3     2017-01-06   29.195000   29.540001   29.117500   29.477501   27.876030   \n",
       "4     2017-01-09   29.487499   29.857500   29.485001   29.747499   28.131361   \n",
       "...          ...         ...         ...         ...         ...         ...   \n",
       "1001  2020-12-23  132.160004  132.429993  130.779999  130.960007  130.764603   \n",
       "1002  2020-12-24  131.320007  133.460007  131.100006  131.970001  131.773087   \n",
       "1003  2020-12-28  133.990005  137.339996  133.509995  136.690002  136.486053   \n",
       "1004  2020-12-29  138.050003  138.789993  134.339996  134.869995  134.668762   \n",
       "1005  2020-12-30  135.580002  135.990005  133.399994  133.720001  133.520477   \n",
       "\n",
       "         Volume  \n",
       "0     115127600  \n",
       "1      84472400  \n",
       "2      88774400  \n",
       "3     127007600  \n",
       "4     134247600  \n",
       "...         ...  \n",
       "1001   88223700  \n",
       "1002   54930100  \n",
       "1003  124486200  \n",
       "1004  121047300  \n",
       "1005   96452100  \n",
       "\n",
       "[1006 rows x 7 columns]"
      ]
     },
     "execution_count": 3,
     "metadata": {},
     "output_type": "execute_result"
    }
   ],
   "source": [
    "## Stock of Apple Inc from January 2017 to December 2020\n",
    "data = pd.read_csv(\"AAPL.csv\")\n",
    "data"
   ]
  },
  {
   "cell_type": "code",
   "execution_count": 4,
   "id": "clean-immunology",
   "metadata": {
    "scrolled": true
   },
   "outputs": [],
   "source": [
    "## using 756 sample from the data representing a period of 756 trading days in 3 years.\n",
    "close_price = np.array(data.Close[:756])"
   ]
  },
  {
   "cell_type": "code",
   "execution_count": 5,
   "id": "deadly-julian",
   "metadata": {},
   "outputs": [
    {
     "data": {
      "image/png": "[encoded data removed]",
      "text/plain": [
       "<Figure size 720x576 with 1 Axes>"
      ]
     },
     "metadata": {
      "needs_background": "light"
     },
     "output_type": "display_data"
    }
   ],
   "source": [
    "## Visualizing the stock trajectory \n",
    "plt.figure(figsize = (10,8))\n",
    "plt.plot(close_price, c= 'purple')\n",
    "plt.grid()\n",
    "plt.show()"
   ]
  },
  {
   "cell_type": "code",
   "execution_count": 6,
   "id": "comprehensive-portal",
   "metadata": {},
   "outputs": [],
   "source": [
    "### Computing the daily log returns of the asset\n",
    "\n",
    "def daily_log_RETURN(close_price):\n",
    "    r_i = np.zeros(len(close_price))\n",
    "    \n",
    "    for i in range(len(close_price)):\n",
    "        if i != (len(close_price)-1):\n",
    "            r_i[i] = np.log((close_price[i+1])/(close_price[i]))\n",
    "        elif i == (len(close_price)-1):\n",
    "            print(\"Done\")\n",
    "    return r_i"
   ]
  },
  {
   "cell_type": "code",
   "execution_count": 7,
   "id": "incident-count",
   "metadata": {
    "scrolled": false
   },
   "outputs": [
    {
     "name": "stdout",
     "output_type": "stream",
     "text": [
      "Done\n"
     ]
    }
   ],
   "source": [
    "## Get returns\n",
    "returns = daily_log_RETURN(close_price)"
   ]
  },
  {
   "cell_type": "markdown",
   "id": "outstanding-report",
   "metadata": {},
   "source": [
    "## Question 2"
   ]
  },
  {
   "cell_type": "code",
   "execution_count": 8,
   "id": "convenient-tactics",
   "metadata": {},
   "outputs": [
    {
     "name": "stdout",
     "output_type": "stream",
     "text": [
      "The sample mean of the data:  0.001243778329455727\n"
     ]
    }
   ],
   "source": [
    "### Computing the sample mean of the data\n",
    "def sample_mean(returns):\n",
    "    return (1/len(returns))*(np.sum(returns))\n",
    "print(\"The sample mean of the data: \", sample_mean(returns))"
   ]
  },
  {
   "cell_type": "code",
   "execution_count": 9,
   "id": "divine-tooth",
   "metadata": {},
   "outputs": [],
   "source": [
    "### Computing the standard deviation and scalin of the data\n",
    "def scaler(returns):\n",
    "    mean = sample_mean(returns)\n",
    "    dev = []\n",
    "    for i in returns:\n",
    "        dev.append((i-mean)**2)   \n",
    "    var = (1/(len(returns)-1))*np.sum(dev)\n",
    "    \n",
    "    stdev = np.sqrt(var)\n",
    "    scaled_df = (returns-mean)/stdev\n",
    "    return stdev, scaled_df"
   ]
  },
  {
   "cell_type": "code",
   "execution_count": 10,
   "id": "electoral-punch",
   "metadata": {},
   "outputs": [
    {
     "name": "stdout",
     "output_type": "stream",
     "text": [
      "The standard deviation of the data is :  0.015592252340809949\n"
     ]
    }
   ],
   "source": [
    "## Get standard deviation and scaled data.\n",
    "Standard_deviation, scaled_data = scaler(returns)\n",
    "print(\"The standard deviation of the data is : \", Standard_deviation)"
   ]
  },
  {
   "cell_type": "markdown",
   "id": "blind-necklace",
   "metadata": {},
   "source": [
    "## Question 3"
   ]
  },
  {
   "cell_type": "markdown",
   "id": "straight-resistance",
   "metadata": {},
   "source": [
    "### Empirical Probability Distribution"
   ]
  },
  {
   "cell_type": "code",
   "execution_count": 11,
   "id": "structural-parameter",
   "metadata": {
    "scrolled": false
   },
   "outputs": [
    {
     "data": {
      "image/png": "[encoded data removed]",
      "text/plain": [
       "<Figure size 720x576 with 1 Axes>"
      ]
     },
     "metadata": {
      "needs_background": "light"
     },
     "output_type": "display_data"
    }
   ],
   "source": [
    "plt.figure(figsize = (10,8))\n",
    "plt.hist(scaled_data, bins = 30, density=True)\n",
    "\n",
    "plt.grid()\n",
    "plt.show()"
   ]
  },
  {
   "cell_type": "markdown",
   "id": "martial-motor",
   "metadata": {},
   "source": [
    "### Normal Distribution Curve"
   ]
  },
  {
   "cell_type": "code",
   "execution_count": 12,
   "id": "revolutionary-sustainability",
   "metadata": {
    "scrolled": false
   },
   "outputs": [
    {
     "data": {
      "image/png": "[encoded data removed]",
      "text/plain": [
       "<Figure size 720x576 with 1 Axes>"
      ]
     },
     "metadata": {
      "needs_background": "light"
     },
     "output_type": "display_data"
    }
   ],
   "source": [
    "### Distribution plot with the Kernel densitor estimate.\n",
    "plt.figure(figsize = (10,8))\n",
    "sns.distplot(scaled_data, norm_hist= True,bins=30, color = 'black')\n",
    "\n",
    "plt.grid()\n",
    "plt.show()"
   ]
  },
  {
   "cell_type": "markdown",
   "id": "separate-wages",
   "metadata": {},
   "source": [
    "- Histograms and kernel density estimators are only the first step in trying to get an overall idea about how the data looks and to investigate if it behaves like any other known distribution. \n",
    "\n",
    "- It's evidenced that the histogram has heavy tails"
   ]
  },
  {
   "cell_type": "markdown",
   "id": "polyphonic-carroll",
   "metadata": {},
   "source": [
    "## Question 4"
   ]
  },
  {
   "cell_type": "markdown",
   "id": "affecting-integration",
   "metadata": {},
   "source": [
    "- The Q-Q plot is a probability plot which is a graphic in which the empirical order statistics on the Y-axis are compared to expected values of some theoretical order statistics located on the X-axis."
   ]
  },
  {
   "cell_type": "code",
   "execution_count": 13,
   "id": "minute-trail",
   "metadata": {
    "scrolled": false
   },
   "outputs": [
    {
     "data": {
      "image/png": "[encoded data removed]",
      "text/plain": [
       "<Figure size 864x576 with 1 Axes>"
      ]
     },
     "metadata": {
      "needs_background": "light"
     },
     "output_type": "display_data"
    }
   ],
   "source": [
    "#### Q-Q plot for the returns.\n",
    "plt.rc(\"figure\", figsize=(12,8))\n",
    "sm.qqplot(scaled_data, line = '45')\n",
    "plt.grid()\n",
    "plt.show()"
   ]
  },
  {
   "cell_type": "markdown",
   "id": "tracked-cooperation",
   "metadata": {},
   "source": [
    "## Report"
   ]
  },
  {
   "cell_type": "markdown",
   "id": "pressing-temperature",
   "metadata": {},
   "source": [
    " - As we are testing for normality the Q-Q plots will plot the standardized empirical quantiles of the observed data against the quantile of a standardnormal random variable.\n",
    " \n",
    " - A  quantile is  a figure that a certain  percentage, or fraction, of the data lies below in the distribution.\n",
    " \n",
    " - The 0.25,  0.50,  and 0.75-quantiles are commonly known as  the  first,  second  and  third  quartiles respectively.   The  0.01,  0.02,  0.03,...-quantiles are called the first, second, third, ...  percentiles respectively. \n",
    " - The Q-Q plot is then the plot of these percentiles of the empirical distribution against the theoretical distribution that we wish to compare it to.\n",
    " \n",
    " - Assuming that the data is normally distributed we will expect to observe a linear plot except for some random fluctuations in the data\n",
    " \n",
    " - Any systematic deviation from the red line indicates that the data is non-normal.\n",
    " \n",
    " - For a heavy-tailed distribution one would expect to see the upper tails of  the  Q-Q  plot  turning  upwards  and  the  lower  tails  bending  downwards.\n",
    " \n",
    " - Hence, our log returns have heavy tails which tend to exhibit random fluctuations in in the linearity of the quantile plot as well as lower tails bending downwards and upper tails bending upwards. "
   ]
  },
  {
   "cell_type": "markdown",
   "id": "biological-partition",
   "metadata": {},
   "source": []
  }
 ],
 "metadata": {
  "kernelspec": {
   "display_name": "Python 3",
   "language": "python",
   "name": "python3"
  },
  "language_info": {
   "codemirror_mode": {
    "name": "ipython",
    "version": 3
   },
   "file_extension": ".py",
   "mimetype": "text/x-python",
   "name": "python",
   "nbconvert_exporter": "python",
   "pygments_lexer": "ipython3",
   "version": "3.8.5"
  }
 },
 "nbformat": 4,
 "nbformat_minor": 5
}
