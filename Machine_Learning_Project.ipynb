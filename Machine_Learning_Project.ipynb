{
  "nbformat": 4,
  "nbformat_minor": 0,
  "metadata": {
    "accelerator": "TPU",
    "colab": {
      "name": "Machine_Learning_Project.ipynb",
      "provenance": [],
      "collapsed_sections": [
        "eCebb0tML4mq",
        "8Z5rhmhKL4m0",
        "vGY6DgqlL4m0",
        "pGrqMiEfL4m2",
        "S48GBHZyL4m4",
        "8FQQ_Y2vL4m6",
        "udmWh7E4L4m-",
        "xhG8P4TxL4m_",
        "rCEdY-kQL4nA",
        "GTU20Q74L4nD"
      ],
      "toc_visible": true
    },
    "kernelspec": {
      "display_name": "Python 3",
      "language": "python",
      "name": "python3"
    },
    "language_info": {
      "codemirror_mode": {
        "name": "ipython",
        "version": 3
      },
      "file_extension": ".py",
      "mimetype": "text/x-python",
      "name": "python",
      "nbconvert_exporter": "python",
      "pygments_lexer": "ipython3",
      "version": "3.8.5"
    }
  },
  "cells": [
    {
      "cell_type": "markdown",
      "metadata": {
        "id": "q7AUlleZNGqv"
      },
      "source": [
        "![aims_logo.png](attachment:aims_logo.png)"
      ]
    },
    {
      "cell_type": "markdown",
      "metadata": {
        "id": "R_cvuAZkL4mU"
      },
      "source": [
        "## MACHINE LEARNING PROJECT"
      ]
    },
    {
      "cell_type": "markdown",
      "metadata": {
        "id": "HZ5DZ-E7rX9X"
      },
      "source": [
        "GROUP CODE: GRP6700RV"
      ]
    },
    {
      "cell_type": "markdown",
      "metadata": {
        "id": "A1em_qm6NGq0"
      },
      "source": [
        "# Introduction\n",
        "The project focused on classifying fraud transactions from normal transactions using data with 284,807 observations against 30 features. After exploratory data analysis and preprocessing we notice that the distribution of the two classes is biased in favor of the normal transactions, thus, fraud transaction is less than 0.2% of the total observations. We therefore employed various techniques necessary to make meaning to the classification algorithms and performances using the Support Vector Machine, Random Forest Classifier and Artificial Neural Network models.\n"
      ]
    },
    {
      "cell_type": "markdown",
      "metadata": {
        "id": "Xkrg5aS7NGq1"
      },
      "source": [
        "# Summary\n",
        "### In a nutshell, below is what is contained in this notebook;\n",
        "- First, after data cleaning and preprocessing we performed train-test-split on the data as it was and fitted the models and measured the performances. The performance was good for Random Forest as compared to the other two models, however, there were some improvement we adjusted to. And one major discovery was the fact the model performances will be best measured by F1-score, while giving credits to Precision and Recall either than just accuracy which seemed to favor the prediction power for the majority class.\n",
        "\n",
        "- Secondly, we did cross validation using StratifiedKFold to check the possibility of best split and performances since StratifiedKFold gives credits to the minority class during the splitting of each fold. The results was good in all cases of the Random Forest Classifier than SVM and ANN.\n",
        "\n",
        "- Moreover, and lastly we employed the techniques of resampling from both majority class in the case of undersampling and also the minority class in the case of oversampling to fit each model and measure the performance. In the case of undersampling, due to lost of data during resampling of the majority class, the models all did not performed well but for the case of oversampling the minority class, the model had enough data to fit and made good performances. Among the three models Random Forest Classifier performed better and hence was the best classifier. "
      ]
    },
    {
      "cell_type": "markdown",
      "metadata": {
        "id": "4vkx2pinL4mW"
      },
      "source": [
        "##### Standard Modules Importations"
      ]
    },
    {
      "cell_type": "code",
      "metadata": {
        "id": "8o5TSkFlL4mX"
      },
      "source": [
        "import pandas as pd\n",
        "import numpy as np\n",
        "import matplotlib.pyplot as plt\n",
        "import seaborn as sns\n",
        "%matplotlib inline\n",
        "import tensorflow as tf\n",
        "from tensorflow import keras\n",
        "\n",
        "import warnings\n",
        "\n",
        "warnings. simplefilter(action = \"ignore\", category = Warning)"
      ],
      "execution_count": null,
      "outputs": []
    },
    {
      "cell_type": "code",
      "metadata": {
        "colab": {
          "base_uri": "https://localhost:8080/"
        },
        "id": "NBUaxQ8wNSsw",
        "outputId": "4a815690-fc7f-4e34-800f-337d5ec39ef1"
      },
      "source": [
        "from google.colab import drive\n",
        "drive.mount('/content/drive')"
      ],
      "execution_count": null,
      "outputs": [
        {
          "output_type": "stream",
          "text": [
            "Drive already mounted at /content/drive; to attempt to forcibly remount, call drive.mount(\"/content/drive\", force_remount=True).\n"
          ],
          "name": "stdout"
        }
      ]
    },
    {
      "cell_type": "code",
      "metadata": {
        "id": "lWfyWwIBL4mZ"
      },
      "source": [
        "data = pd.read_csv(\"/content/drive/MyDrive/KOBBY/ML_project/fraud.csv\")"
      ],
      "execution_count": null,
      "outputs": []
    },
    {
      "cell_type": "code",
      "metadata": {
        "colab": {
          "base_uri": "https://localhost:8080/",
          "height": 226
        },
        "id": "9N-yaUUxL4mZ",
        "outputId": "f2b4db9f-ec73-44ca-b79c-9ea9b4ebe89b"
      },
      "source": [
        "data.head()"
      ],
      "execution_count": null,
      "outputs": [
        {
          "output_type": "execute_result",
          "data": {
            "text/html": [
              "<div>\n",
              "<style scoped>\n",
              "    .dataframe tbody tr th:only-of-type {\n",
              "        vertical-align: middle;\n",
              "    }\n",
              "\n",
              "    .dataframe tbody tr th {\n",
              "        vertical-align: top;\n",
              "    }\n",
              "\n",
              "    .dataframe thead th {\n",
              "        text-align: right;\n",
              "    }\n",
              "</style>\n",
              "<table border=\"1\" class=\"dataframe\">\n",
              "  <thead>\n",
              "    <tr style=\"text-align: right;\">\n",
              "      <th></th>\n",
              "      <th>Time</th>\n",
              "      <th>V1</th>\n",
              "      <th>V2</th>\n",
              "      <th>V3</th>\n",
              "      <th>V4</th>\n",
              "      <th>V5</th>\n",
              "      <th>V6</th>\n",
              "      <th>V7</th>\n",
              "      <th>V8</th>\n",
              "      <th>V9</th>\n",
              "      <th>V10</th>\n",
              "      <th>V11</th>\n",
              "      <th>V12</th>\n",
              "      <th>V13</th>\n",
              "      <th>V14</th>\n",
              "      <th>V15</th>\n",
              "      <th>V16</th>\n",
              "      <th>V17</th>\n",
              "      <th>V18</th>\n",
              "      <th>V19</th>\n",
              "      <th>V20</th>\n",
              "      <th>V21</th>\n",
              "      <th>V22</th>\n",
              "      <th>V23</th>\n",
              "      <th>V24</th>\n",
              "      <th>V25</th>\n",
              "      <th>V26</th>\n",
              "      <th>V27</th>\n",
              "      <th>V28</th>\n",
              "      <th>Amount</th>\n",
              "      <th>Class</th>\n",
              "    </tr>\n",
              "  </thead>\n",
              "  <tbody>\n",
              "    <tr>\n",
              "      <th>0</th>\n",
              "      <td>0.0</td>\n",
              "      <td>-1.359807</td>\n",
              "      <td>-0.072781</td>\n",
              "      <td>2.536347</td>\n",
              "      <td>1.378155</td>\n",
              "      <td>-0.338321</td>\n",
              "      <td>0.462388</td>\n",
              "      <td>0.239599</td>\n",
              "      <td>0.098698</td>\n",
              "      <td>0.363787</td>\n",
              "      <td>0.090794</td>\n",
              "      <td>-0.551600</td>\n",
              "      <td>-0.617801</td>\n",
              "      <td>-0.991390</td>\n",
              "      <td>-0.311169</td>\n",
              "      <td>1.468177</td>\n",
              "      <td>-0.470401</td>\n",
              "      <td>0.207971</td>\n",
              "      <td>0.025791</td>\n",
              "      <td>0.403993</td>\n",
              "      <td>0.251412</td>\n",
              "      <td>-0.018307</td>\n",
              "      <td>0.277838</td>\n",
              "      <td>-0.110474</td>\n",
              "      <td>0.066928</td>\n",
              "      <td>0.128539</td>\n",
              "      <td>-0.189115</td>\n",
              "      <td>0.133558</td>\n",
              "      <td>-0.021053</td>\n",
              "      <td>149.62</td>\n",
              "      <td>0</td>\n",
              "    </tr>\n",
              "    <tr>\n",
              "      <th>1</th>\n",
              "      <td>0.0</td>\n",
              "      <td>1.191857</td>\n",
              "      <td>0.266151</td>\n",
              "      <td>0.166480</td>\n",
              "      <td>0.448154</td>\n",
              "      <td>0.060018</td>\n",
              "      <td>-0.082361</td>\n",
              "      <td>-0.078803</td>\n",
              "      <td>0.085102</td>\n",
              "      <td>-0.255425</td>\n",
              "      <td>-0.166974</td>\n",
              "      <td>1.612727</td>\n",
              "      <td>1.065235</td>\n",
              "      <td>0.489095</td>\n",
              "      <td>-0.143772</td>\n",
              "      <td>0.635558</td>\n",
              "      <td>0.463917</td>\n",
              "      <td>-0.114805</td>\n",
              "      <td>-0.183361</td>\n",
              "      <td>-0.145783</td>\n",
              "      <td>-0.069083</td>\n",
              "      <td>-0.225775</td>\n",
              "      <td>-0.638672</td>\n",
              "      <td>0.101288</td>\n",
              "      <td>-0.339846</td>\n",
              "      <td>0.167170</td>\n",
              "      <td>0.125895</td>\n",
              "      <td>-0.008983</td>\n",
              "      <td>0.014724</td>\n",
              "      <td>2.69</td>\n",
              "      <td>0</td>\n",
              "    </tr>\n",
              "    <tr>\n",
              "      <th>2</th>\n",
              "      <td>1.0</td>\n",
              "      <td>-1.358354</td>\n",
              "      <td>-1.340163</td>\n",
              "      <td>1.773209</td>\n",
              "      <td>0.379780</td>\n",
              "      <td>-0.503198</td>\n",
              "      <td>1.800499</td>\n",
              "      <td>0.791461</td>\n",
              "      <td>0.247676</td>\n",
              "      <td>-1.514654</td>\n",
              "      <td>0.207643</td>\n",
              "      <td>0.624501</td>\n",
              "      <td>0.066084</td>\n",
              "      <td>0.717293</td>\n",
              "      <td>-0.165946</td>\n",
              "      <td>2.345865</td>\n",
              "      <td>-2.890083</td>\n",
              "      <td>1.109969</td>\n",
              "      <td>-0.121359</td>\n",
              "      <td>-2.261857</td>\n",
              "      <td>0.524980</td>\n",
              "      <td>0.247998</td>\n",
              "      <td>0.771679</td>\n",
              "      <td>0.909412</td>\n",
              "      <td>-0.689281</td>\n",
              "      <td>-0.327642</td>\n",
              "      <td>-0.139097</td>\n",
              "      <td>-0.055353</td>\n",
              "      <td>-0.059752</td>\n",
              "      <td>378.66</td>\n",
              "      <td>0</td>\n",
              "    </tr>\n",
              "    <tr>\n",
              "      <th>3</th>\n",
              "      <td>1.0</td>\n",
              "      <td>-0.966272</td>\n",
              "      <td>-0.185226</td>\n",
              "      <td>1.792993</td>\n",
              "      <td>-0.863291</td>\n",
              "      <td>-0.010309</td>\n",
              "      <td>1.247203</td>\n",
              "      <td>0.237609</td>\n",
              "      <td>0.377436</td>\n",
              "      <td>-1.387024</td>\n",
              "      <td>-0.054952</td>\n",
              "      <td>-0.226487</td>\n",
              "      <td>0.178228</td>\n",
              "      <td>0.507757</td>\n",
              "      <td>-0.287924</td>\n",
              "      <td>-0.631418</td>\n",
              "      <td>-1.059647</td>\n",
              "      <td>-0.684093</td>\n",
              "      <td>1.965775</td>\n",
              "      <td>-1.232622</td>\n",
              "      <td>-0.208038</td>\n",
              "      <td>-0.108300</td>\n",
              "      <td>0.005274</td>\n",
              "      <td>-0.190321</td>\n",
              "      <td>-1.175575</td>\n",
              "      <td>0.647376</td>\n",
              "      <td>-0.221929</td>\n",
              "      <td>0.062723</td>\n",
              "      <td>0.061458</td>\n",
              "      <td>123.50</td>\n",
              "      <td>0</td>\n",
              "    </tr>\n",
              "    <tr>\n",
              "      <th>4</th>\n",
              "      <td>2.0</td>\n",
              "      <td>-1.158233</td>\n",
              "      <td>0.877737</td>\n",
              "      <td>1.548718</td>\n",
              "      <td>0.403034</td>\n",
              "      <td>-0.407193</td>\n",
              "      <td>0.095921</td>\n",
              "      <td>0.592941</td>\n",
              "      <td>-0.270533</td>\n",
              "      <td>0.817739</td>\n",
              "      <td>0.753074</td>\n",
              "      <td>-0.822843</td>\n",
              "      <td>0.538196</td>\n",
              "      <td>1.345852</td>\n",
              "      <td>-1.119670</td>\n",
              "      <td>0.175121</td>\n",
              "      <td>-0.451449</td>\n",
              "      <td>-0.237033</td>\n",
              "      <td>-0.038195</td>\n",
              "      <td>0.803487</td>\n",
              "      <td>0.408542</td>\n",
              "      <td>-0.009431</td>\n",
              "      <td>0.798278</td>\n",
              "      <td>-0.137458</td>\n",
              "      <td>0.141267</td>\n",
              "      <td>-0.206010</td>\n",
              "      <td>0.502292</td>\n",
              "      <td>0.219422</td>\n",
              "      <td>0.215153</td>\n",
              "      <td>69.99</td>\n",
              "      <td>0</td>\n",
              "    </tr>\n",
              "  </tbody>\n",
              "</table>\n",
              "</div>"
            ],
            "text/plain": [
              "   Time        V1        V2        V3  ...       V27       V28  Amount  Class\n",
              "0   0.0 -1.359807 -0.072781  2.536347  ...  0.133558 -0.021053  149.62      0\n",
              "1   0.0  1.191857  0.266151  0.166480  ... -0.008983  0.014724    2.69      0\n",
              "2   1.0 -1.358354 -1.340163  1.773209  ... -0.055353 -0.059752  378.66      0\n",
              "3   1.0 -0.966272 -0.185226  1.792993  ...  0.062723  0.061458  123.50      0\n",
              "4   2.0 -1.158233  0.877737  1.548718  ...  0.219422  0.215153   69.99      0\n",
              "\n",
              "[5 rows x 31 columns]"
            ]
          },
          "metadata": {
            "tags": []
          },
          "execution_count": 4
        }
      ]
    },
    {
      "cell_type": "markdown",
      "metadata": {
        "id": "V1wYy6CzL4mb"
      },
      "source": [
        "- We shall explore the data to see if we have some cleaning to do."
      ]
    },
    {
      "cell_type": "code",
      "metadata": {
        "colab": {
          "base_uri": "https://localhost:8080/"
        },
        "id": "qvBeosAdL4mb",
        "outputId": "859aa7b9-36bb-41c8-9f21-f4a1a0a4b353"
      },
      "source": [
        "## We shall check for the number of features and observations we have in our datasets.\n",
        "data.shape"
      ],
      "execution_count": null,
      "outputs": [
        {
          "output_type": "execute_result",
          "data": {
            "text/plain": [
              "(284807, 31)"
            ]
          },
          "metadata": {
            "tags": []
          },
          "execution_count": 5
        }
      ]
    },
    {
      "cell_type": "markdown",
      "metadata": {
        "id": "uJmzAuMQL4mb"
      },
      "source": [
        "- We have $ 284, 807 $ observations against $30$ features."
      ]
    },
    {
      "cell_type": "markdown",
      "metadata": {
        "id": "NsdEo0hdL4mc"
      },
      "source": [
        "We will visualize the data distribution from the Class varibale"
      ]
    },
    {
      "cell_type": "code",
      "metadata": {
        "colab": {
          "base_uri": "https://localhost:8080/",
          "height": 296
        },
        "id": "JX9qJ0W1L4mc",
        "outputId": "c1e80540-e106-466c-a08f-b2e1d33f0bd4"
      },
      "source": [
        "## We want to see if we have a fair distribution of our dataset for a model to learn from.\n",
        "\n",
        "import seaborn as sns\n",
        "\n",
        "sns.countplot(data['Class'])"
      ],
      "execution_count": null,
      "outputs": [
        {
          "output_type": "execute_result",
          "data": {
            "text/plain": [
              "<matplotlib.axes._subplots.AxesSubplot at 0x7ff7380a9dd0>"
            ]
          },
          "metadata": {
            "tags": []
          },
          "execution_count": 6
        },
        {
          "output_type": "display_data",
          "data": {
            "image/png": "[encoded data removed]",
            "text/plain": [
              "<Figure size 432x288 with 1 Axes>"
            ]
          },
          "metadata": {
            "tags": [],
            "needs_background": "light"
          }
        }
      ]
    },
    {
      "cell_type": "markdown",
      "metadata": {
        "id": "GYFt13TPL4md"
      },
      "source": [
        "- It is clearly seen by the count plot that the data distribution for the Class is higher in class 1 than class 0. "
      ]
    },
    {
      "cell_type": "code",
      "metadata": {
        "colab": {
          "base_uri": "https://localhost:8080/",
          "height": 296
        },
        "id": "EkcZF545NGrB",
        "outputId": "1680da70-2daf-47ba-b0f4-5f1b9d7587aa"
      },
      "source": [
        "### Data distribution plot\n",
        "sns.distplot(data['Class'])"
      ],
      "execution_count": null,
      "outputs": [
        {
          "output_type": "execute_result",
          "data": {
            "text/plain": [
              "<matplotlib.axes._subplots.AxesSubplot at 0x7ff737fdc490>"
            ]
          },
          "metadata": {
            "tags": []
          },
          "execution_count": 7
        },
        {
          "output_type": "display_data",
          "data": {
            "image/png": "[encoded data removed]",
            "text/plain": [
              "<Figure size 432x288 with 1 Axes>"
            ]
          },
          "metadata": {
            "tags": [],
            "needs_background": "light"
          }
        }
      ]
    },
    {
      "cell_type": "markdown",
      "metadata": {
        "id": "jjX2wIqvNGrC"
      },
      "source": [
        "- Using the distribution plot we can see that almost all our data is highly densed on one class where the other class is approximately zero. "
      ]
    },
    {
      "cell_type": "code",
      "metadata": {
        "colab": {
          "base_uri": "https://localhost:8080/"
        },
        "id": "4D7wf9UeNGrD",
        "outputId": "1ec849b3-725d-4184-8deb-d98f2f3d0ae4"
      },
      "source": [
        "from scipy.stats import norm, skew\n",
        "print(\"Skewness: %f\" % data['Class'].skew())\n",
        "print(\"Kurtosis: %f\" % data['Class'].kurt())"
      ],
      "execution_count": null,
      "outputs": [
        {
          "output_type": "stream",
          "text": [
            "Skewness: 23.997579\n",
            "Kurtosis: 573.887843\n"
          ],
          "name": "stdout"
        }
      ]
    },
    {
      "cell_type": "markdown",
      "metadata": {
        "id": "70txAbQZNGrD"
      },
      "source": [
        "Skewness is a measure of the symmetry in a distribution.  A symmetrical dataset will have a skewness equal to 0.  So, a normal distribution will have a skewness of 0.   Skewness essentially measures the relative size of the two tails. Hence;\n",
        "\n",
        "- If the skewness is between -0.5 and 0.5, the data are fairly symmetrical\n",
        "- If the skewness is between -1 and – 0.5 or between 0.5 and 1, the data are moderately skewed\n",
        "- If the skewness is less than -1 or greater than 1, the data are highly skewed and this is exactly our case. "
      ]
    },
    {
      "cell_type": "markdown",
      "metadata": {
        "id": "-2gdnLZoNGrD"
      },
      "source": [
        "Similary;\n",
        "Kurtosis is a measure of the combined sizes of the two tails.  It measures the amount of probability in the tails.  The value is often compared to the kurtosis of the normal distribution, which is equal to 3.  \n",
        "- If the kurtosis is greater than 3, then the dataset has heavier tails than a normal distribution (more in the tails).  \n",
        "- If the kurtosis is less than 3, then the dataset has lighter tails than a normal distribution (less in the tails). \n",
        "- Therefore we can conclude that the dataset has heavier tails than a normally distributed data and hence we will handle such cases strategically in curb the robustness in the model performance."
      ]
    },
    {
      "cell_type": "markdown",
      "metadata": {
        "id": "b89skDfTNGrE"
      },
      "source": [
        "### Descriptive Analysis"
      ]
    },
    {
      "cell_type": "code",
      "metadata": {
        "colab": {
          "base_uri": "https://localhost:8080/",
          "height": 320
        },
        "id": "j6thb5f3L4mh",
        "scrolled": true,
        "outputId": "46a33174-0976-4d7d-b38a-1193cb355124"
      },
      "source": [
        "data.describe()"
      ],
      "execution_count": null,
      "outputs": [
        {
          "output_type": "execute_result",
          "data": {
            "text/html": [
              "<div>\n",
              "<style scoped>\n",
              "    .dataframe tbody tr th:only-of-type {\n",
              "        vertical-align: middle;\n",
              "    }\n",
              "\n",
              "    .dataframe tbody tr th {\n",
              "        vertical-align: top;\n",
              "    }\n",
              "\n",
              "    .dataframe thead th {\n",
              "        text-align: right;\n",
              "    }\n",
              "</style>\n",
              "<table border=\"1\" class=\"dataframe\">\n",
              "  <thead>\n",
              "    <tr style=\"text-align: right;\">\n",
              "      <th></th>\n",
              "      <th>Time</th>\n",
              "      <th>V1</th>\n",
              "      <th>V2</th>\n",
              "      <th>V3</th>\n",
              "      <th>V4</th>\n",
              "      <th>V5</th>\n",
              "      <th>V6</th>\n",
              "      <th>V7</th>\n",
              "      <th>V8</th>\n",
              "      <th>V9</th>\n",
              "      <th>V10</th>\n",
              "      <th>V11</th>\n",
              "      <th>V12</th>\n",
              "      <th>V13</th>\n",
              "      <th>V14</th>\n",
              "      <th>V15</th>\n",
              "      <th>V16</th>\n",
              "      <th>V17</th>\n",
              "      <th>V18</th>\n",
              "      <th>V19</th>\n",
              "      <th>V20</th>\n",
              "      <th>V21</th>\n",
              "      <th>V22</th>\n",
              "      <th>V23</th>\n",
              "      <th>V24</th>\n",
              "      <th>V25</th>\n",
              "      <th>V26</th>\n",
              "      <th>V27</th>\n",
              "      <th>V28</th>\n",
              "      <th>Amount</th>\n",
              "      <th>Class</th>\n",
              "    </tr>\n",
              "  </thead>\n",
              "  <tbody>\n",
              "    <tr>\n",
              "      <th>count</th>\n",
              "      <td>284807.000000</td>\n",
              "      <td>2.848070e+05</td>\n",
              "      <td>2.848070e+05</td>\n",
              "      <td>2.848070e+05</td>\n",
              "      <td>2.848070e+05</td>\n",
              "      <td>2.848070e+05</td>\n",
              "      <td>2.848070e+05</td>\n",
              "      <td>2.848070e+05</td>\n",
              "      <td>2.848070e+05</td>\n",
              "      <td>2.848070e+05</td>\n",
              "      <td>2.848070e+05</td>\n",
              "      <td>2.848070e+05</td>\n",
              "      <td>2.848070e+05</td>\n",
              "      <td>2.848070e+05</td>\n",
              "      <td>2.848070e+05</td>\n",
              "      <td>2.848070e+05</td>\n",
              "      <td>2.848070e+05</td>\n",
              "      <td>2.848070e+05</td>\n",
              "      <td>2.848070e+05</td>\n",
              "      <td>2.848070e+05</td>\n",
              "      <td>2.848070e+05</td>\n",
              "      <td>2.848070e+05</td>\n",
              "      <td>2.848070e+05</td>\n",
              "      <td>2.848070e+05</td>\n",
              "      <td>2.848070e+05</td>\n",
              "      <td>2.848070e+05</td>\n",
              "      <td>2.848070e+05</td>\n",
              "      <td>2.848070e+05</td>\n",
              "      <td>2.848070e+05</td>\n",
              "      <td>284807.000000</td>\n",
              "      <td>284807.000000</td>\n",
              "    </tr>\n",
              "    <tr>\n",
              "      <th>mean</th>\n",
              "      <td>94813.859575</td>\n",
              "      <td>3.919560e-15</td>\n",
              "      <td>5.688174e-16</td>\n",
              "      <td>-8.769071e-15</td>\n",
              "      <td>2.782312e-15</td>\n",
              "      <td>-1.552563e-15</td>\n",
              "      <td>2.010663e-15</td>\n",
              "      <td>-1.694249e-15</td>\n",
              "      <td>-1.927028e-16</td>\n",
              "      <td>-3.137024e-15</td>\n",
              "      <td>1.768627e-15</td>\n",
              "      <td>9.170318e-16</td>\n",
              "      <td>-1.810658e-15</td>\n",
              "      <td>1.693438e-15</td>\n",
              "      <td>1.479045e-15</td>\n",
              "      <td>3.482336e-15</td>\n",
              "      <td>1.392007e-15</td>\n",
              "      <td>-7.528491e-16</td>\n",
              "      <td>4.328772e-16</td>\n",
              "      <td>9.049732e-16</td>\n",
              "      <td>5.085503e-16</td>\n",
              "      <td>1.537294e-16</td>\n",
              "      <td>7.959909e-16</td>\n",
              "      <td>5.367590e-16</td>\n",
              "      <td>4.458112e-15</td>\n",
              "      <td>1.453003e-15</td>\n",
              "      <td>1.699104e-15</td>\n",
              "      <td>-3.660161e-16</td>\n",
              "      <td>-1.206049e-16</td>\n",
              "      <td>88.349619</td>\n",
              "      <td>0.001727</td>\n",
              "    </tr>\n",
              "    <tr>\n",
              "      <th>std</th>\n",
              "      <td>47488.145955</td>\n",
              "      <td>1.958696e+00</td>\n",
              "      <td>1.651309e+00</td>\n",
              "      <td>1.516255e+00</td>\n",
              "      <td>1.415869e+00</td>\n",
              "      <td>1.380247e+00</td>\n",
              "      <td>1.332271e+00</td>\n",
              "      <td>1.237094e+00</td>\n",
              "      <td>1.194353e+00</td>\n",
              "      <td>1.098632e+00</td>\n",
              "      <td>1.088850e+00</td>\n",
              "      <td>1.020713e+00</td>\n",
              "      <td>9.992014e-01</td>\n",
              "      <td>9.952742e-01</td>\n",
              "      <td>9.585956e-01</td>\n",
              "      <td>9.153160e-01</td>\n",
              "      <td>8.762529e-01</td>\n",
              "      <td>8.493371e-01</td>\n",
              "      <td>8.381762e-01</td>\n",
              "      <td>8.140405e-01</td>\n",
              "      <td>7.709250e-01</td>\n",
              "      <td>7.345240e-01</td>\n",
              "      <td>7.257016e-01</td>\n",
              "      <td>6.244603e-01</td>\n",
              "      <td>6.056471e-01</td>\n",
              "      <td>5.212781e-01</td>\n",
              "      <td>4.822270e-01</td>\n",
              "      <td>4.036325e-01</td>\n",
              "      <td>3.300833e-01</td>\n",
              "      <td>250.120109</td>\n",
              "      <td>0.041527</td>\n",
              "    </tr>\n",
              "    <tr>\n",
              "      <th>min</th>\n",
              "      <td>0.000000</td>\n",
              "      <td>-5.640751e+01</td>\n",
              "      <td>-7.271573e+01</td>\n",
              "      <td>-4.832559e+01</td>\n",
              "      <td>-5.683171e+00</td>\n",
              "      <td>-1.137433e+02</td>\n",
              "      <td>-2.616051e+01</td>\n",
              "      <td>-4.355724e+01</td>\n",
              "      <td>-7.321672e+01</td>\n",
              "      <td>-1.343407e+01</td>\n",
              "      <td>-2.458826e+01</td>\n",
              "      <td>-4.797473e+00</td>\n",
              "      <td>-1.868371e+01</td>\n",
              "      <td>-5.791881e+00</td>\n",
              "      <td>-1.921433e+01</td>\n",
              "      <td>-4.498945e+00</td>\n",
              "      <td>-1.412985e+01</td>\n",
              "      <td>-2.516280e+01</td>\n",
              "      <td>-9.498746e+00</td>\n",
              "      <td>-7.213527e+00</td>\n",
              "      <td>-5.449772e+01</td>\n",
              "      <td>-3.483038e+01</td>\n",
              "      <td>-1.093314e+01</td>\n",
              "      <td>-4.480774e+01</td>\n",
              "      <td>-2.836627e+00</td>\n",
              "      <td>-1.029540e+01</td>\n",
              "      <td>-2.604551e+00</td>\n",
              "      <td>-2.256568e+01</td>\n",
              "      <td>-1.543008e+01</td>\n",
              "      <td>0.000000</td>\n",
              "      <td>0.000000</td>\n",
              "    </tr>\n",
              "    <tr>\n",
              "      <th>25%</th>\n",
              "      <td>54201.500000</td>\n",
              "      <td>-9.203734e-01</td>\n",
              "      <td>-5.985499e-01</td>\n",
              "      <td>-8.903648e-01</td>\n",
              "      <td>-8.486401e-01</td>\n",
              "      <td>-6.915971e-01</td>\n",
              "      <td>-7.682956e-01</td>\n",
              "      <td>-5.540759e-01</td>\n",
              "      <td>-2.086297e-01</td>\n",
              "      <td>-6.430976e-01</td>\n",
              "      <td>-5.354257e-01</td>\n",
              "      <td>-7.624942e-01</td>\n",
              "      <td>-4.055715e-01</td>\n",
              "      <td>-6.485393e-01</td>\n",
              "      <td>-4.255740e-01</td>\n",
              "      <td>-5.828843e-01</td>\n",
              "      <td>-4.680368e-01</td>\n",
              "      <td>-4.837483e-01</td>\n",
              "      <td>-4.988498e-01</td>\n",
              "      <td>-4.562989e-01</td>\n",
              "      <td>-2.117214e-01</td>\n",
              "      <td>-2.283949e-01</td>\n",
              "      <td>-5.423504e-01</td>\n",
              "      <td>-1.618463e-01</td>\n",
              "      <td>-3.545861e-01</td>\n",
              "      <td>-3.171451e-01</td>\n",
              "      <td>-3.269839e-01</td>\n",
              "      <td>-7.083953e-02</td>\n",
              "      <td>-5.295979e-02</td>\n",
              "      <td>5.600000</td>\n",
              "      <td>0.000000</td>\n",
              "    </tr>\n",
              "    <tr>\n",
              "      <th>50%</th>\n",
              "      <td>84692.000000</td>\n",
              "      <td>1.810880e-02</td>\n",
              "      <td>6.548556e-02</td>\n",
              "      <td>1.798463e-01</td>\n",
              "      <td>-1.984653e-02</td>\n",
              "      <td>-5.433583e-02</td>\n",
              "      <td>-2.741871e-01</td>\n",
              "      <td>4.010308e-02</td>\n",
              "      <td>2.235804e-02</td>\n",
              "      <td>-5.142873e-02</td>\n",
              "      <td>-9.291738e-02</td>\n",
              "      <td>-3.275735e-02</td>\n",
              "      <td>1.400326e-01</td>\n",
              "      <td>-1.356806e-02</td>\n",
              "      <td>5.060132e-02</td>\n",
              "      <td>4.807155e-02</td>\n",
              "      <td>6.641332e-02</td>\n",
              "      <td>-6.567575e-02</td>\n",
              "      <td>-3.636312e-03</td>\n",
              "      <td>3.734823e-03</td>\n",
              "      <td>-6.248109e-02</td>\n",
              "      <td>-2.945017e-02</td>\n",
              "      <td>6.781943e-03</td>\n",
              "      <td>-1.119293e-02</td>\n",
              "      <td>4.097606e-02</td>\n",
              "      <td>1.659350e-02</td>\n",
              "      <td>-5.213911e-02</td>\n",
              "      <td>1.342146e-03</td>\n",
              "      <td>1.124383e-02</td>\n",
              "      <td>22.000000</td>\n",
              "      <td>0.000000</td>\n",
              "    </tr>\n",
              "    <tr>\n",
              "      <th>75%</th>\n",
              "      <td>139320.500000</td>\n",
              "      <td>1.315642e+00</td>\n",
              "      <td>8.037239e-01</td>\n",
              "      <td>1.027196e+00</td>\n",
              "      <td>7.433413e-01</td>\n",
              "      <td>6.119264e-01</td>\n",
              "      <td>3.985649e-01</td>\n",
              "      <td>5.704361e-01</td>\n",
              "      <td>3.273459e-01</td>\n",
              "      <td>5.971390e-01</td>\n",
              "      <td>4.539234e-01</td>\n",
              "      <td>7.395934e-01</td>\n",
              "      <td>6.182380e-01</td>\n",
              "      <td>6.625050e-01</td>\n",
              "      <td>4.931498e-01</td>\n",
              "      <td>6.488208e-01</td>\n",
              "      <td>5.232963e-01</td>\n",
              "      <td>3.996750e-01</td>\n",
              "      <td>5.008067e-01</td>\n",
              "      <td>4.589494e-01</td>\n",
              "      <td>1.330408e-01</td>\n",
              "      <td>1.863772e-01</td>\n",
              "      <td>5.285536e-01</td>\n",
              "      <td>1.476421e-01</td>\n",
              "      <td>4.395266e-01</td>\n",
              "      <td>3.507156e-01</td>\n",
              "      <td>2.409522e-01</td>\n",
              "      <td>9.104512e-02</td>\n",
              "      <td>7.827995e-02</td>\n",
              "      <td>77.165000</td>\n",
              "      <td>0.000000</td>\n",
              "    </tr>\n",
              "    <tr>\n",
              "      <th>max</th>\n",
              "      <td>172792.000000</td>\n",
              "      <td>2.454930e+00</td>\n",
              "      <td>2.205773e+01</td>\n",
              "      <td>9.382558e+00</td>\n",
              "      <td>1.687534e+01</td>\n",
              "      <td>3.480167e+01</td>\n",
              "      <td>7.330163e+01</td>\n",
              "      <td>1.205895e+02</td>\n",
              "      <td>2.000721e+01</td>\n",
              "      <td>1.559499e+01</td>\n",
              "      <td>2.374514e+01</td>\n",
              "      <td>1.201891e+01</td>\n",
              "      <td>7.848392e+00</td>\n",
              "      <td>7.126883e+00</td>\n",
              "      <td>1.052677e+01</td>\n",
              "      <td>8.877742e+00</td>\n",
              "      <td>1.731511e+01</td>\n",
              "      <td>9.253526e+00</td>\n",
              "      <td>5.041069e+00</td>\n",
              "      <td>5.591971e+00</td>\n",
              "      <td>3.942090e+01</td>\n",
              "      <td>2.720284e+01</td>\n",
              "      <td>1.050309e+01</td>\n",
              "      <td>2.252841e+01</td>\n",
              "      <td>4.584549e+00</td>\n",
              "      <td>7.519589e+00</td>\n",
              "      <td>3.517346e+00</td>\n",
              "      <td>3.161220e+01</td>\n",
              "      <td>3.384781e+01</td>\n",
              "      <td>25691.160000</td>\n",
              "      <td>1.000000</td>\n",
              "    </tr>\n",
              "  </tbody>\n",
              "</table>\n",
              "</div>"
            ],
            "text/plain": [
              "                Time            V1  ...         Amount          Class\n",
              "count  284807.000000  2.848070e+05  ...  284807.000000  284807.000000\n",
              "mean    94813.859575  3.919560e-15  ...      88.349619       0.001727\n",
              "std     47488.145955  1.958696e+00  ...     250.120109       0.041527\n",
              "min         0.000000 -5.640751e+01  ...       0.000000       0.000000\n",
              "25%     54201.500000 -9.203734e-01  ...       5.600000       0.000000\n",
              "50%     84692.000000  1.810880e-02  ...      22.000000       0.000000\n",
              "75%    139320.500000  1.315642e+00  ...      77.165000       0.000000\n",
              "max    172792.000000  2.454930e+00  ...   25691.160000       1.000000\n",
              "\n",
              "[8 rows x 31 columns]"
            ]
          },
          "metadata": {
            "tags": []
          },
          "execution_count": 9
        }
      ]
    },
    {
      "cell_type": "markdown",
      "metadata": {
        "id": "YhRB1-6tNGrN"
      },
      "source": [
        "###### Pearson Correlation Matrix"
      ]
    },
    {
      "cell_type": "code",
      "metadata": {
        "colab": {
          "base_uri": "https://localhost:8080/",
          "height": 1000
        },
        "id": "X0HlmSFNNGrN",
        "outputId": "6d382de7-0a07-4725-9543-8e2a6b95c2b8"
      },
      "source": [
        "correlation_matrix = data.corr()\n",
        "plt.figure(figsize = (30,22))\n",
        "sns.heatmap(\n",
        "    correlation_matrix, annot = True,\n",
        "    square = True,\n",
        "    cmap = plt.cm.CMRmap_r\n",
        ")\n",
        "plt.show()"
      ],
      "execution_count": null,
      "outputs": [
        {
          "output_type": "display_data",
          "data": {
            "image/png": "[encoded data removed]",
            "text/plain": [
              "<Figure size 2160x1584 with 2 Axes>"
            ]
          },
          "metadata": {
            "tags": [],
            "needs_background": "light"
          }
        }
      ]
    },
    {
      "cell_type": "markdown",
      "metadata": {
        "id": "mJF-UVxUNGrO"
      },
      "source": [
        "- There is an inverse correlation between the time variables and the target. Also amount has a correlation between with the target."
      ]
    },
    {
      "cell_type": "markdown",
      "metadata": {
        "id": "QjADUovbNGrO"
      },
      "source": [
        "### Data Cleaning "
      ]
    },
    {
      "cell_type": "code",
      "metadata": {
        "colab": {
          "base_uri": "https://localhost:8080/"
        },
        "id": "i21UAXhJL4me",
        "outputId": "1d2d82bf-d262-414f-f349-d8f422828e40"
      },
      "source": [
        "## checking for the types of inputs in our data\n",
        "data.dtypes "
      ],
      "execution_count": null,
      "outputs": [
        {
          "output_type": "execute_result",
          "data": {
            "text/plain": [
              "Time      float64\n",
              "V1        float64\n",
              "V2        float64\n",
              "V3        float64\n",
              "V4        float64\n",
              "V5        float64\n",
              "V6        float64\n",
              "V7        float64\n",
              "V8        float64\n",
              "V9        float64\n",
              "V10       float64\n",
              "V11       float64\n",
              "V12       float64\n",
              "V13       float64\n",
              "V14       float64\n",
              "V15       float64\n",
              "V16       float64\n",
              "V17       float64\n",
              "V18       float64\n",
              "V19       float64\n",
              "V20       float64\n",
              "V21       float64\n",
              "V22       float64\n",
              "V23       float64\n",
              "V24       float64\n",
              "V25       float64\n",
              "V26       float64\n",
              "V27       float64\n",
              "V28       float64\n",
              "Amount    float64\n",
              "Class       int64\n",
              "dtype: object"
            ]
          },
          "metadata": {
            "tags": []
          },
          "execution_count": 11
        }
      ]
    },
    {
      "cell_type": "code",
      "metadata": {
        "colab": {
          "base_uri": "https://localhost:8080/"
        },
        "id": "vPlmhO2UL4md",
        "outputId": "eaca202f-482b-4c11-9413-e24c6d0eac90"
      },
      "source": [
        "# Let's check for nan values\n",
        "data.isna().sum()"
      ],
      "execution_count": null,
      "outputs": [
        {
          "output_type": "execute_result",
          "data": {
            "text/plain": [
              "Time      0\n",
              "V1        0\n",
              "V2        0\n",
              "V3        0\n",
              "V4        0\n",
              "V5        0\n",
              "V6        0\n",
              "V7        0\n",
              "V8        0\n",
              "V9        0\n",
              "V10       0\n",
              "V11       0\n",
              "V12       0\n",
              "V13       0\n",
              "V14       0\n",
              "V15       0\n",
              "V16       0\n",
              "V17       0\n",
              "V18       0\n",
              "V19       0\n",
              "V20       0\n",
              "V21       0\n",
              "V22       0\n",
              "V23       0\n",
              "V24       0\n",
              "V25       0\n",
              "V26       0\n",
              "V27       0\n",
              "V28       0\n",
              "Amount    0\n",
              "Class     0\n",
              "dtype: int64"
            ]
          },
          "metadata": {
            "tags": []
          },
          "execution_count": 12
        }
      ]
    },
    {
      "cell_type": "markdown",
      "metadata": {
        "id": "z_yW6_GZL4me"
      },
      "source": [
        "- Fortunately we have no 'Nan' values to deal with in our data."
      ]
    },
    {
      "cell_type": "markdown",
      "metadata": {
        "id": "HNFgziPKL4mf"
      },
      "source": [
        "- We also have no object types to handle. This sounds good so far."
      ]
    },
    {
      "cell_type": "code",
      "metadata": {
        "scrolled": true,
        "colab": {
          "base_uri": "https://localhost:8080/",
          "height": 278
        },
        "id": "m2GCJzb3NGrR",
        "outputId": "89112c02-8280-423a-ecc1-451cfeb99441"
      },
      "source": [
        "### We shall check for duplicates observations in the datasets.\n",
        "\n",
        "duplicates = [data[data.duplicated()==True]][0] # Since this returns a list of dataframe we shall pick by slicing \n",
        "print(duplicates.Class.value_counts())\n",
        "duplicates.head()"
      ],
      "execution_count": null,
      "outputs": [
        {
          "output_type": "stream",
          "text": [
            "0    1062\n",
            "1      19\n",
            "Name: Class, dtype: int64\n"
          ],
          "name": "stdout"
        },
        {
          "output_type": "execute_result",
          "data": {
            "text/html": [
              "<div>\n",
              "<style scoped>\n",
              "    .dataframe tbody tr th:only-of-type {\n",
              "        vertical-align: middle;\n",
              "    }\n",
              "\n",
              "    .dataframe tbody tr th {\n",
              "        vertical-align: top;\n",
              "    }\n",
              "\n",
              "    .dataframe thead th {\n",
              "        text-align: right;\n",
              "    }\n",
              "</style>\n",
              "<table border=\"1\" class=\"dataframe\">\n",
              "  <thead>\n",
              "    <tr style=\"text-align: right;\">\n",
              "      <th></th>\n",
              "      <th>Time</th>\n",
              "      <th>V1</th>\n",
              "      <th>V2</th>\n",
              "      <th>V3</th>\n",
              "      <th>V4</th>\n",
              "      <th>V5</th>\n",
              "      <th>V6</th>\n",
              "      <th>V7</th>\n",
              "      <th>V8</th>\n",
              "      <th>V9</th>\n",
              "      <th>V10</th>\n",
              "      <th>V11</th>\n",
              "      <th>V12</th>\n",
              "      <th>V13</th>\n",
              "      <th>V14</th>\n",
              "      <th>V15</th>\n",
              "      <th>V16</th>\n",
              "      <th>V17</th>\n",
              "      <th>V18</th>\n",
              "      <th>V19</th>\n",
              "      <th>V20</th>\n",
              "      <th>V21</th>\n",
              "      <th>V22</th>\n",
              "      <th>V23</th>\n",
              "      <th>V24</th>\n",
              "      <th>V25</th>\n",
              "      <th>V26</th>\n",
              "      <th>V27</th>\n",
              "      <th>V28</th>\n",
              "      <th>Amount</th>\n",
              "      <th>Class</th>\n",
              "    </tr>\n",
              "  </thead>\n",
              "  <tbody>\n",
              "    <tr>\n",
              "      <th>33</th>\n",
              "      <td>26.0</td>\n",
              "      <td>-0.529912</td>\n",
              "      <td>0.873892</td>\n",
              "      <td>1.347247</td>\n",
              "      <td>0.145457</td>\n",
              "      <td>0.414209</td>\n",
              "      <td>0.100223</td>\n",
              "      <td>0.711206</td>\n",
              "      <td>0.176066</td>\n",
              "      <td>-0.286717</td>\n",
              "      <td>-0.484688</td>\n",
              "      <td>0.872490</td>\n",
              "      <td>0.851636</td>\n",
              "      <td>-0.571745</td>\n",
              "      <td>0.100974</td>\n",
              "      <td>-1.519772</td>\n",
              "      <td>-0.284376</td>\n",
              "      <td>-0.310524</td>\n",
              "      <td>-0.404248</td>\n",
              "      <td>-0.823374</td>\n",
              "      <td>-0.290348</td>\n",
              "      <td>0.046949</td>\n",
              "      <td>0.208105</td>\n",
              "      <td>-0.185548</td>\n",
              "      <td>0.001031</td>\n",
              "      <td>0.098816</td>\n",
              "      <td>-0.552904</td>\n",
              "      <td>-0.073288</td>\n",
              "      <td>0.023307</td>\n",
              "      <td>6.14</td>\n",
              "      <td>0</td>\n",
              "    </tr>\n",
              "    <tr>\n",
              "      <th>35</th>\n",
              "      <td>26.0</td>\n",
              "      <td>-0.535388</td>\n",
              "      <td>0.865268</td>\n",
              "      <td>1.351076</td>\n",
              "      <td>0.147575</td>\n",
              "      <td>0.433680</td>\n",
              "      <td>0.086983</td>\n",
              "      <td>0.693039</td>\n",
              "      <td>0.179742</td>\n",
              "      <td>-0.285642</td>\n",
              "      <td>-0.482474</td>\n",
              "      <td>0.871800</td>\n",
              "      <td>0.853447</td>\n",
              "      <td>-0.571822</td>\n",
              "      <td>0.102252</td>\n",
              "      <td>-1.519991</td>\n",
              "      <td>-0.285912</td>\n",
              "      <td>-0.309633</td>\n",
              "      <td>-0.403902</td>\n",
              "      <td>-0.823743</td>\n",
              "      <td>-0.283264</td>\n",
              "      <td>0.049526</td>\n",
              "      <td>0.206537</td>\n",
              "      <td>-0.187108</td>\n",
              "      <td>0.000753</td>\n",
              "      <td>0.098117</td>\n",
              "      <td>-0.553471</td>\n",
              "      <td>-0.078306</td>\n",
              "      <td>0.025427</td>\n",
              "      <td>1.77</td>\n",
              "      <td>0</td>\n",
              "    </tr>\n",
              "    <tr>\n",
              "      <th>113</th>\n",
              "      <td>74.0</td>\n",
              "      <td>1.038370</td>\n",
              "      <td>0.127486</td>\n",
              "      <td>0.184456</td>\n",
              "      <td>1.109950</td>\n",
              "      <td>0.441699</td>\n",
              "      <td>0.945283</td>\n",
              "      <td>-0.036715</td>\n",
              "      <td>0.350995</td>\n",
              "      <td>0.118950</td>\n",
              "      <td>-0.243289</td>\n",
              "      <td>0.578063</td>\n",
              "      <td>0.674730</td>\n",
              "      <td>-0.534231</td>\n",
              "      <td>0.446601</td>\n",
              "      <td>1.122885</td>\n",
              "      <td>-1.768001</td>\n",
              "      <td>1.241157</td>\n",
              "      <td>-2.449500</td>\n",
              "      <td>-1.747255</td>\n",
              "      <td>-0.335520</td>\n",
              "      <td>0.102520</td>\n",
              "      <td>0.605089</td>\n",
              "      <td>0.023092</td>\n",
              "      <td>-0.626463</td>\n",
              "      <td>0.479120</td>\n",
              "      <td>-0.166937</td>\n",
              "      <td>0.081247</td>\n",
              "      <td>0.001192</td>\n",
              "      <td>1.18</td>\n",
              "      <td>0</td>\n",
              "    </tr>\n",
              "    <tr>\n",
              "      <th>114</th>\n",
              "      <td>74.0</td>\n",
              "      <td>1.038370</td>\n",
              "      <td>0.127486</td>\n",
              "      <td>0.184456</td>\n",
              "      <td>1.109950</td>\n",
              "      <td>0.441699</td>\n",
              "      <td>0.945283</td>\n",
              "      <td>-0.036715</td>\n",
              "      <td>0.350995</td>\n",
              "      <td>0.118950</td>\n",
              "      <td>-0.243289</td>\n",
              "      <td>0.578063</td>\n",
              "      <td>0.674730</td>\n",
              "      <td>-0.534231</td>\n",
              "      <td>0.446601</td>\n",
              "      <td>1.122885</td>\n",
              "      <td>-1.768001</td>\n",
              "      <td>1.241157</td>\n",
              "      <td>-2.449500</td>\n",
              "      <td>-1.747255</td>\n",
              "      <td>-0.335520</td>\n",
              "      <td>0.102520</td>\n",
              "      <td>0.605089</td>\n",
              "      <td>0.023092</td>\n",
              "      <td>-0.626463</td>\n",
              "      <td>0.479120</td>\n",
              "      <td>-0.166937</td>\n",
              "      <td>0.081247</td>\n",
              "      <td>0.001192</td>\n",
              "      <td>1.18</td>\n",
              "      <td>0</td>\n",
              "    </tr>\n",
              "    <tr>\n",
              "      <th>115</th>\n",
              "      <td>74.0</td>\n",
              "      <td>1.038370</td>\n",
              "      <td>0.127486</td>\n",
              "      <td>0.184456</td>\n",
              "      <td>1.109950</td>\n",
              "      <td>0.441699</td>\n",
              "      <td>0.945283</td>\n",
              "      <td>-0.036715</td>\n",
              "      <td>0.350995</td>\n",
              "      <td>0.118950</td>\n",
              "      <td>-0.243289</td>\n",
              "      <td>0.578063</td>\n",
              "      <td>0.674730</td>\n",
              "      <td>-0.534231</td>\n",
              "      <td>0.446601</td>\n",
              "      <td>1.122885</td>\n",
              "      <td>-1.768001</td>\n",
              "      <td>1.241157</td>\n",
              "      <td>-2.449500</td>\n",
              "      <td>-1.747255</td>\n",
              "      <td>-0.335520</td>\n",
              "      <td>0.102520</td>\n",
              "      <td>0.605089</td>\n",
              "      <td>0.023092</td>\n",
              "      <td>-0.626463</td>\n",
              "      <td>0.479120</td>\n",
              "      <td>-0.166937</td>\n",
              "      <td>0.081247</td>\n",
              "      <td>0.001192</td>\n",
              "      <td>1.18</td>\n",
              "      <td>0</td>\n",
              "    </tr>\n",
              "  </tbody>\n",
              "</table>\n",
              "</div>"
            ],
            "text/plain": [
              "     Time        V1        V2        V3  ...       V27       V28  Amount  Class\n",
              "33   26.0 -0.529912  0.873892  1.347247  ... -0.073288  0.023307    6.14      0\n",
              "35   26.0 -0.535388  0.865268  1.351076  ... -0.078306  0.025427    1.77      0\n",
              "113  74.0  1.038370  0.127486  0.184456  ...  0.081247  0.001192    1.18      0\n",
              "114  74.0  1.038370  0.127486  0.184456  ...  0.081247  0.001192    1.18      0\n",
              "115  74.0  1.038370  0.127486  0.184456  ...  0.081247  0.001192    1.18      0\n",
              "\n",
              "[5 rows x 31 columns]"
            ]
          },
          "metadata": {
            "tags": []
          },
          "execution_count": 13
        }
      ]
    },
    {
      "cell_type": "code",
      "metadata": {
        "colab": {
          "base_uri": "https://localhost:8080/"
        },
        "id": "uqUBjgubNGrR",
        "outputId": "0f70de40-860a-4625-b3fb-f1b95a4c7100"
      },
      "source": [
        "## We shall drop all the duplicates\n",
        "new_data = data.drop_duplicates()\n",
        "\n",
        "### The data is cleared of duplicates\n",
        "new_data.duplicated()[0]"
      ],
      "execution_count": null,
      "outputs": [
        {
          "output_type": "execute_result",
          "data": {
            "text/plain": [
              "False"
            ]
          },
          "metadata": {
            "tags": []
          },
          "execution_count": 14
        }
      ]
    },
    {
      "cell_type": "code",
      "metadata": {
        "id": "nnNQnvnTL4mj"
      },
      "source": [
        "### creating a copy of the data\n",
        "df = new_data.copy()"
      ],
      "execution_count": null,
      "outputs": []
    },
    {
      "cell_type": "code",
      "metadata": {
        "id": "Y6W24VzTL4mk"
      },
      "source": [
        "### Getting data ready for training and testing\n",
        "\n",
        "X = df.drop(columns = ['Class'])  ### extracting the features into 'X'\n",
        "y = df[['Class']]   #### also extracting the response into the vector 'y'"
      ],
      "execution_count": null,
      "outputs": []
    },
    {
      "cell_type": "code",
      "metadata": {
        "id": "Bs8trP_qL4mk"
      },
      "source": [
        "### standard train and test importation from the sci-kit learn for data splitting.\n",
        "\n",
        "from sklearn.model_selection import train_test_split as tts\n",
        "\n",
        "X_train,X_test,y_train,y_test = tts(X,y, train_size = 0.8, random_state = 22)  ### maintaining train-size of 70% after splitting with 30% testing"
      ],
      "execution_count": null,
      "outputs": []
    },
    {
      "cell_type": "code",
      "metadata": {
        "id": "oJw3fZ-QL4ml",
        "colab": {
          "base_uri": "https://localhost:8080/"
        },
        "outputId": "f521ac25-fe5a-46de-aa55-bf359f86c5ee"
      },
      "source": [
        "X_train.shape,X_test.shape,y_train.shape,y_test.shape  ### Checking the size of train and test splits."
      ],
      "execution_count": null,
      "outputs": [
        {
          "output_type": "execute_result",
          "data": {
            "text/plain": [
              "((226980, 30), (56746, 30), (226980, 1), (56746, 1))"
            ]
          },
          "metadata": {
            "tags": []
          },
          "execution_count": 18
        }
      ]
    },
    {
      "cell_type": "code",
      "metadata": {
        "id": "SGbQqcpnL4mm",
        "colab": {
          "base_uri": "https://localhost:8080/"
        },
        "outputId": "06191773-f26b-4225-91dc-d5b327ec8db6"
      },
      "source": [
        "### Distribution of each class for fitting and testing without preprocessing\n",
        "y_train_ = pd.DataFrame(y_train)\n",
        "y_train_['Class'].value_counts()"
      ],
      "execution_count": null,
      "outputs": [
        {
          "output_type": "execute_result",
          "data": {
            "text/plain": [
              "0    226604\n",
              "1       376\n",
              "Name: Class, dtype: int64"
            ]
          },
          "metadata": {
            "tags": []
          },
          "execution_count": 19
        }
      ]
    },
    {
      "cell_type": "code",
      "metadata": {
        "id": "am_k0QdmNGrT"
      },
      "source": [
        "### We shall use this function for various split while working through this notebook.\n",
        "from sklearn.model_selection import train_test_split\n",
        "def split(X,y):\n",
        "    return train_test_split(X,y, test_size=0.2, random_state=22)"
      ],
      "execution_count": null,
      "outputs": []
    },
    {
      "cell_type": "code",
      "metadata": {
        "id": "RJl9agjfL4mn"
      },
      "source": [
        "### importing the classifier from the ensemble library within sklearn\n",
        "\n",
        "from sklearn.ensemble import RandomForestClassifier\n",
        "from sklearn.svm import SVC\n",
        "from sklearn.metrics import accuracy_score,confusion_matrix, classification_report"
      ],
      "execution_count": null,
      "outputs": []
    },
    {
      "cell_type": "code",
      "metadata": {
        "id": "p0HRyR4vL4mn"
      },
      "source": [
        "### Class of models we shall call to check th score and return the model when necessary.\n",
        "### instantiating the models\n",
        "class models:\n",
        "    def __init__(self, fun):\n",
        "        self.fun = fun\n",
        "    \n",
        "    def random_forest(fun):\n",
        "        X_train, X_test, y_train, y_test = fun\n",
        "        RFC = RandomForestClassifier(n_estimators = 100,random_state = 58)\n",
        "        RFC.fit(X_train,y_train)\n",
        "        Random_Forest_score = RFC.score(X_test,y_test)\n",
        "        return Random_Forest_score,RFC\n",
        "\n",
        "    def support_vector_machine(fun):\n",
        "        X_train, X_test, y_train, y_test = fun\n",
        "        svm_clf = SVC(C=1.0, kernel='rbf', random_state = 0)\n",
        "        svm_clf.fit(X_train,y_train)\n",
        "        svm_score = svm_clf.score(X_test,y_test)\n",
        "        return svm_score, svm_clf\n",
        "\n",
        "\n",
        "    def ann():\n",
        "        \n",
        "        model = keras.Sequential([\n",
        "        keras.layers.Dense(units = 500, input_shape = (30,),kernel_initializer = 'he_uniform', activation = 'relu'),\n",
        "        keras.layers.Dropout(0.5),\n",
        "        keras.layers.Dense(units = 200,kernel_initializer = 'he_uniform', activation = 'relu'),\n",
        "        keras.layers.Dropout(0.5),\n",
        "        keras.layers.Dense(units=1,kernel_initializer = 'glorot_uniform',activation = 'sigmoid')\n",
        "            ])  #### ANN with two hidden layers.\n",
        "\n",
        "        model.compile(optimizer = 'adam', \n",
        "                  loss = 'binary_crossentropy', \n",
        "                  metrics = ['accuracy'])\n",
        "        return model"
      ],
      "execution_count": null,
      "outputs": []
    },
    {
      "cell_type": "markdown",
      "metadata": {
        "id": "QmhI8KeNNGrV"
      },
      "source": [
        "### SUPPORT VECTOR MACHINE"
      ]
    },
    {
      "cell_type": "code",
      "metadata": {
        "id": "Q9I9D4ogNGrW",
        "outputId": "b8819da4-8364-4953-fc5f-c68b18610767"
      },
      "source": [
        "\n",
        "### Getting score and model for SVM classifier for classification report\n",
        "svm_score, svm = models.support_vector_machine(split(X,y))\n",
        "\n",
        "### We shall use the split function to make predictions and print classification report\n",
        "### To check for the model precision, recall and f1-score\n",
        "X_train, X_test, y_train,y_test = split(X,y)\n",
        "svm_preds = svm.predict(X_test)\n",
        "print(confusion_matrix(y_test,svm_preds))\n",
        "print(classification_report(y_test, svm_preds))\n",
        "print(svm_score)"
      ],
      "execution_count": null,
      "outputs": [
        {
          "output_type": "stream",
          "text": [
            "[[56649     0]\n",
            " [   97     0]]\n",
            "              precision    recall  f1-score   support\n",
            "\n",
            "           0       1.00      1.00      1.00     56649\n",
            "           1       0.00      0.00      0.00        97\n",
            "\n",
            "    accuracy                           1.00     56746\n",
            "   macro avg       0.50      0.50      0.50     56746\n",
            "weighted avg       1.00      1.00      1.00     56746\n",
            "\n",
            "0.9982906284143376\n"
          ],
          "name": "stdout"
        }
      ]
    },
    {
      "cell_type": "markdown",
      "metadata": {
        "id": "K5lhhU_NNGrX"
      },
      "source": [
        "- Support Vector Machine irrespective of the high score has a very poor performance for recall and f1-score."
      ]
    },
    {
      "cell_type": "code",
      "metadata": {
        "id": "snFdIcn_NGrX",
        "outputId": "c7fdf692-4ff2-4b6d-e512-d0ce888dc4c8"
      },
      "source": [
        "cm_svm = confusion_matrix(y_test,svm_preds)\n",
        "plt.figure(figsize = (6,4))\n",
        "sns.heatmap(cm_svm,annot = True,\n",
        "            linewidths = .5,\n",
        "            center = 0,\n",
        "            cbar = False, \n",
        "            cmap = None)\n",
        "plt.xlabel(\"Predicted Class\")\n",
        "plt.ylabel(\"True Class\")\n",
        "plt.show()"
      ],
      "execution_count": null,
      "outputs": [
        {
          "output_type": "display_data",
          "data": {
            "image/png": "[encoded data removed]",
            "text/plain": [
              "<Figure size 432x288 with 1 Axes>"
            ]
          },
          "metadata": {
            "tags": [],
            "needs_background": "light"
          }
        }
      ]
    },
    {
      "cell_type": "code",
      "metadata": {
        "id": "kcHakq17NGrX",
        "outputId": "4d37f75c-b03b-4ee4-bfea-65f29ef64fb8"
      },
      "source": [
        "##Getting score and model for classification report on the model performance\n",
        "rfc_score, rfc = models.random_forest(split(X,y))\n",
        "\n",
        "### We shall use the split function to make predictions and print classification report\n",
        "### To check for the model precision, recall and f1-score\n",
        "\n",
        "X_train, X_test, y_train,y_test = split(X,y)\n",
        "rfc_preds = rfc.predict(X_test)\n",
        "print(confusion_matrix(y_test,rfc_preds))\n",
        "print(classification_report(y_test, rfc_preds))\n",
        "print(rfc_score)"
      ],
      "execution_count": null,
      "outputs": [
        {
          "output_type": "stream",
          "text": [
            "[[56641     8]\n",
            " [   18    79]]\n",
            "              precision    recall  f1-score   support\n",
            "\n",
            "           0       1.00      1.00      1.00     56649\n",
            "           1       0.91      0.81      0.86        97\n",
            "\n",
            "    accuracy                           1.00     56746\n",
            "   macro avg       0.95      0.91      0.93     56746\n",
            "weighted avg       1.00      1.00      1.00     56746\n",
            "\n",
            "0.9995418179254926\n"
          ],
          "name": "stdout"
        }
      ]
    },
    {
      "cell_type": "markdown",
      "metadata": {
        "id": "_G_5dEFvNGra"
      },
      "source": [
        "- Random forest has good performance and recall and f1-score is better than Support Vector Machine. "
      ]
    },
    {
      "cell_type": "code",
      "metadata": {
        "id": "cs1d1xPrNGrb",
        "outputId": "6733b43f-abe8-4816-9896-eb3f889a3511"
      },
      "source": [
        "cm_rfc = confusion_matrix(y_test,rfc_preds)\n",
        "plt.figure(figsize = (6,4))\n",
        "sns.heatmap(cm_rfc,annot = True,\n",
        "            linewidths = .5,\n",
        "            center = 0,\n",
        "            cbar = False, \n",
        "            cmap = None)\n",
        "plt.xlabel(\"Predicted Class\")\n",
        "plt.ylabel(\"True Class\")\n",
        "plt.show()"
      ],
      "execution_count": null,
      "outputs": [
        {
          "output_type": "display_data",
          "data": {
            "image/png": "[encoded data removed]",
            "text/plain": [
              "<Figure size 432x288 with 1 Axes>"
            ]
          },
          "metadata": {
            "tags": [],
            "needs_background": "light"
          }
        }
      ]
    },
    {
      "cell_type": "code",
      "metadata": {
        "id": "-j-OQj6INGrb",
        "outputId": "647e2689-78b0-431b-ad50-5c968dd7592a"
      },
      "source": [
        "### instantiating the ann from the class models and fitting for prediction\n",
        "ann = models.ann()\n",
        "ann.fit(X_train,y_train, batch_size = 100, validation_data=(X_test,y_test),epochs = 10)"
      ],
      "execution_count": null,
      "outputs": [
        {
          "output_type": "stream",
          "text": [
            "Epoch 1/10\n",
            "2270/2270 [==============================] - 26s 11ms/step - loss: 109.6742 - accuracy: 0.9960 - val_loss: 0.1703 - val_accuracy: 0.9983\n",
            "Epoch 2/10\n",
            "2270/2270 [==============================] - 24s 11ms/step - loss: 0.4238 - accuracy: 0.9975 - val_loss: 0.0294 - val_accuracy: 0.9983\n",
            "Epoch 3/10\n",
            "2270/2270 [==============================] - 24s 11ms/step - loss: 0.1877 - accuracy: 0.9982 - val_loss: 0.0160 - val_accuracy: 0.9983\n",
            "Epoch 4/10\n",
            "2270/2270 [==============================] - 25s 11ms/step - loss: 0.0853 - accuracy: 0.9983 - val_loss: 0.0132 - val_accuracy: 0.9983\n",
            "Epoch 5/10\n",
            "2270/2270 [==============================] - 23s 10ms/step - loss: 0.0317 - accuracy: 0.9984 - val_loss: 0.0127 - val_accuracy: 0.9983\n",
            "Epoch 6/10\n",
            "2270/2270 [==============================] - 23s 10ms/step - loss: 0.0416 - accuracy: 0.9983 - val_loss: 0.0126 - val_accuracy: 0.9983\n",
            "Epoch 7/10\n",
            "2270/2270 [==============================] - 23s 10ms/step - loss: 0.0220 - accuracy: 0.9983 - val_loss: 0.0126 - val_accuracy: 0.9983\n",
            "Epoch 8/10\n",
            "2270/2270 [==============================] - 23s 10ms/step - loss: 0.0631 - accuracy: 0.9981 - val_loss: 0.0126 - val_accuracy: 0.9983\n",
            "Epoch 9/10\n",
            "2270/2270 [==============================] - 23s 10ms/step - loss: 0.0346 - accuracy: 0.9983 - val_loss: 0.0126 - val_accuracy: 0.9983\n",
            "Epoch 10/10\n",
            "2270/2270 [==============================] - 23s 10ms/step - loss: 0.1715 - accuracy: 0.9984 - val_loss: 0.0126 - val_accuracy: 0.9983\n"
          ],
          "name": "stdout"
        },
        {
          "output_type": "execute_result",
          "data": {
            "text/plain": [
              "<tensorflow.python.keras.callbacks.History at 0x7f175543f640>"
            ]
          },
          "metadata": {
            "tags": []
          },
          "execution_count": 25
        }
      ]
    },
    {
      "cell_type": "code",
      "metadata": {
        "id": "F9pNAnhPNGrc",
        "outputId": "f48ce6a0-fe4b-460d-e9a9-70adce384816"
      },
      "source": [
        "### We shall use the split function to make predictions and print classification report\n",
        "### To check for the model precision, recall and f1-score\n",
        "\n",
        "X_train, X_test, y_train,y_test = split(X,y)\n",
        "ann.evaluate(X_test,y_test)\n",
        "ann_preds = np.round(ann.predict(X_test))\n",
        "#ann_preds = [np.argmax(i) for i in ann_preds]\n",
        "print(confusion_matrix(y_test,ann_preds))\n",
        "print(classification_report(y_test, ann_preds))"
      ],
      "execution_count": null,
      "outputs": [
        {
          "output_type": "stream",
          "text": [
            "1774/1774 [==============================] - 5s 3ms/step - loss: 0.0126 - accuracy: 0.9983\n",
            "[[56649     0]\n",
            " [   97     0]]\n",
            "              precision    recall  f1-score   support\n",
            "\n",
            "           0       1.00      1.00      1.00     56649\n",
            "           1       0.00      0.00      0.00        97\n",
            "\n",
            "    accuracy                           1.00     56746\n",
            "   macro avg       0.50      0.50      0.50     56746\n",
            "weighted avg       1.00      1.00      1.00     56746\n",
            "\n"
          ],
          "name": "stdout"
        }
      ]
    },
    {
      "cell_type": "markdown",
      "metadata": {
        "id": "wxazWd0xNGrd"
      },
      "source": [
        "- Artificial Neural Network does not perform better for our data structure. The model is not able to learn for the fraud class. Although is has a high accuracy precision, recall and f1-score is extremely poor and hence not good."
      ]
    },
    {
      "cell_type": "code",
      "metadata": {
        "id": "TZY-MQZfL4my",
        "outputId": "e501c0ad-6dce-48ed-ad56-311e68e4bad0"
      },
      "source": [
        "cm_ann = confusion_matrix(y_test,ann_preds)\n",
        "plt.figure(figsize = (6,4))\n",
        "sns.heatmap(cm_ann,annot = True,\n",
        "            linewidths = .5,\n",
        "            center = 0,\n",
        "            cbar = False, \n",
        "            cmap = None)\n",
        "plt.xlabel(\"Predicted Class\")\n",
        "plt.ylabel(\"True Class\")\n",
        "plt.show()"
      ],
      "execution_count": null,
      "outputs": [
        {
          "output_type": "display_data",
          "data": {
            "image/png": "[encoded data removed]",
            "text/plain": [
              "<Figure size 432x288 with 1 Axes>"
            ]
          },
          "metadata": {
            "tags": [],
            "needs_background": "light"
          }
        }
      ]
    },
    {
      "cell_type": "markdown",
      "metadata": {
        "id": "IYJuKK5Z4zcR"
      },
      "source": [
        "- The confusion matrix shows that the predictions for the class 0 was not learned  by the neural network. We shall look for ways to improve this problem."
      ]
    },
    {
      "cell_type": "markdown",
      "metadata": {
        "id": "OSST4eeSNGrf"
      },
      "source": [
        "## Preprocessing "
      ]
    },
    {
      "cell_type": "code",
      "metadata": {
        "id": "aTns3eBvNGrf"
      },
      "source": [
        "## Scaling the 'Time' and 'Amount'\n",
        "from sklearn.preprocessing import StandardScaler\n",
        "scaler = StandardScaler()\n",
        "X_train[['Time', 'Amount']]=scaler.fit_transform(X_train[['Time', 'Amount']])\n",
        "X_test[['Time', 'Amount']]=scaler.fit_transform(X_test[['Time', 'Amount']])"
      ],
      "execution_count": null,
      "outputs": []
    },
    {
      "cell_type": "markdown",
      "metadata": {
        "id": "3EFfb2oXNGrf"
      },
      "source": [
        "### Random forest classifier"
      ]
    },
    {
      "cell_type": "code",
      "metadata": {
        "id": "Nmcrtf6TNGrg",
        "outputId": "a5889fd4-3cde-46a6-c9b1-066620e4c70c"
      },
      "source": [
        "rfc_score, rfc = models.random_forest(split(X_train,y_prep))\n",
        "\n",
        "### We shall use the split function to make predictions and print classification report\n",
        "### To check for the model precision, recall and f1-score\n",
        "X_train_new, X_test_new, y_train_new,y_test_new = split(X_prep,y_prep)\n",
        "\n",
        "rfc_preds_new = rfc.predict(X_test)\n",
        "print(confusion_matrix(y_test,rfc_preds_new))\n",
        "print(classification_report(y_test, rfc_preds_new))\n",
        "print(rfc_score)"
      ],
      "execution_count": null,
      "outputs": [
        {
          "output_type": "stream",
          "text": [
            "[[56638    11]\n",
            " [   18    79]]\n",
            "              precision    recall  f1-score   support\n",
            "\n",
            "           0       1.00      1.00      1.00     56649\n",
            "           1       0.88      0.81      0.84        97\n",
            "\n",
            "    accuracy                           1.00     56746\n",
            "   macro avg       0.94      0.91      0.92     56746\n",
            "weighted avg       1.00      1.00      1.00     56746\n",
            "\n",
            "0.9995418179254926\n"
          ],
          "name": "stdout"
        }
      ]
    },
    {
      "cell_type": "markdown",
      "metadata": {
        "id": "l2rnXXrVNGrh"
      },
      "source": [
        "- Random Forest Classifier without preprocessing"
      ]
    },
    {
      "cell_type": "code",
      "metadata": {
        "id": "kLwzehzYNGri",
        "outputId": "38bc115f-879c-4125-d3cb-d42af69bca0e"
      },
      "source": [
        "## After preprocessing\n",
        "RFC= RandomForestClassifier(n_estimators = 100)\n",
        "RFC.fit(X_train, y_train)"
      ],
      "execution_count": null,
      "outputs": [
        {
          "output_type": "execute_result",
          "data": {
            "text/plain": [
              "RandomForestClassifier()"
            ]
          },
          "metadata": {
            "tags": []
          },
          "execution_count": 31
        }
      ]
    },
    {
      "cell_type": "code",
      "metadata": {
        "id": "Gwc8yIf-NGri",
        "outputId": "5d1a8ddb-73ac-49b7-ca22-ee0a71c2f8cc"
      },
      "source": [
        "RFC_pred = RFC.predict(X_test)\n",
        "print(confusion_matrix(y_test,RFC_pred))\n",
        "print(classification_report(y_test, RFC_pred))"
      ],
      "execution_count": null,
      "outputs": [
        {
          "output_type": "stream",
          "text": [
            "[[56643     6]\n",
            " [   18    79]]\n",
            "              precision    recall  f1-score   support\n",
            "\n",
            "           0       1.00      1.00      1.00     56649\n",
            "           1       0.93      0.81      0.87        97\n",
            "\n",
            "    accuracy                           1.00     56746\n",
            "   macro avg       0.96      0.91      0.93     56746\n",
            "weighted avg       1.00      1.00      1.00     56746\n",
            "\n"
          ],
          "name": "stdout"
        }
      ]
    },
    {
      "cell_type": "markdown",
      "metadata": {
        "id": "np4VQp1SNGrj"
      },
      "source": [
        "- Random Forest performance did not change hugely after preprocessing "
      ]
    },
    {
      "cell_type": "markdown",
      "metadata": {
        "id": "OiNM1LmdNGrj"
      },
      "source": [
        "### Support Vector Classifier "
      ]
    },
    {
      "cell_type": "code",
      "metadata": {
        "scrolled": true,
        "id": "I8XlgmnXNGrj",
        "outputId": "df2ab64e-c6e0-401b-b35f-d7d2f2ae300b"
      },
      "source": [
        "### Getting score and model for SVM classifier for classification report\n",
        "svm_score, svm = models.support_vector_machine(split(X_prep,y_prep))\n",
        "\n",
        "### We shall use the split function to make predictions and print classification report\n",
        "### To check for the model precision, recall and f1-score\n",
        "X_train_new, X_test_new, y_train_new,y_test_new = split(X_prep,y_prep)\n",
        "svm_preds_new = svm.predict(X_test)\n",
        "print(confusion_matrix(y_test,svm_preds_new))\n",
        "print(classification_report(y_test, svm_preds_new))\n",
        "print(svm_score)"
      ],
      "execution_count": null,
      "outputs": [
        {
          "output_type": "stream",
          "text": [
            "[[56649     0]\n",
            " [   97     0]]\n",
            "              precision    recall  f1-score   support\n",
            "\n",
            "           0       1.00      1.00      1.00     56649\n",
            "           1       0.00      0.00      0.00        97\n",
            "\n",
            "    accuracy                           1.00     56746\n",
            "   macro avg       0.50      0.50      0.50     56746\n",
            "weighted avg       1.00      1.00      1.00     56746\n",
            "\n",
            "0.9994889507630493\n"
          ],
          "name": "stdout"
        }
      ]
    },
    {
      "cell_type": "markdown",
      "metadata": {
        "id": "PD7rPhpbNGrj"
      },
      "source": [
        "- Support Vector Machine with the raw data without preprocessing"
      ]
    },
    {
      "cell_type": "code",
      "metadata": {
        "id": "zuUHIEfYNGrk",
        "outputId": "33b9bbb1-3da8-46d6-cd36-bdc5e13f8123"
      },
      "source": [
        "svm = SVC(random_state=0)\n",
        "svm.fit(X_train, y_train)"
      ],
      "execution_count": null,
      "outputs": [
        {
          "output_type": "execute_result",
          "data": {
            "text/plain": [
              "SVC(random_state=0)"
            ]
          },
          "metadata": {
            "tags": []
          },
          "execution_count": 34
        }
      ]
    },
    {
      "cell_type": "code",
      "metadata": {
        "id": "wuYESSM9NGrk",
        "outputId": "56791c34-c655-4321-9631-bc1082f99d12"
      },
      "source": [
        "#After preprocessing \n",
        "\n",
        "svm_pred = svm.predict(X_test)\n",
        "print(confusion_matrix(y_test,svm_pred))\n",
        "print(classification_report(y_test, svm_pred))"
      ],
      "execution_count": null,
      "outputs": [
        {
          "output_type": "stream",
          "text": [
            "[[56644     5]\n",
            " [   24    73]]\n",
            "              precision    recall  f1-score   support\n",
            "\n",
            "           0       1.00      1.00      1.00     56649\n",
            "           1       0.94      0.75      0.83        97\n",
            "\n",
            "    accuracy                           1.00     56746\n",
            "   macro avg       0.97      0.88      0.92     56746\n",
            "weighted avg       1.00      1.00      1.00     56746\n",
            "\n"
          ],
          "name": "stdout"
        }
      ]
    },
    {
      "cell_type": "markdown",
      "metadata": {
        "id": "shNn46aQNGrk"
      },
      "source": [
        "- Support Vector Machine has performed pretty good after preprocessing. Classification report is better than before."
      ]
    },
    {
      "cell_type": "markdown",
      "metadata": {
        "id": "RWSZuff6NGrk"
      },
      "source": [
        "### Artificial Neural Network"
      ]
    },
    {
      "cell_type": "code",
      "metadata": {
        "id": "G4YY1rzwNGrl",
        "outputId": "94ea09bb-c9eb-4649-bf78-3f9e2139d61e"
      },
      "source": [
        "ann = models.ann()\n",
        "model_hist = ann.fit(X_train_new,y_train_new, batch_size = 100, validation_data=(X_test,y_test),epochs = 8)"
      ],
      "execution_count": null,
      "outputs": [
        {
          "output_type": "stream",
          "text": [
            "Epoch 1/8\n",
            "2270/2270 [==============================] - 26s 11ms/step - loss: 0.0329 - accuracy: 0.9956 - val_loss: 287.4443 - val_accuracy: 0.9983\n",
            "Epoch 2/8\n",
            "2270/2270 [==============================] - 25s 11ms/step - loss: 0.0064 - accuracy: 0.9992 - val_loss: 293.4338 - val_accuracy: 0.9983\n",
            "Epoch 3/8\n",
            "2270/2270 [==============================] - 26s 11ms/step - loss: 0.0049 - accuracy: 0.9993 - val_loss: 342.2417 - val_accuracy: 0.9983\n",
            "Epoch 4/8\n",
            "2270/2270 [==============================] - 32s 14ms/step - loss: 0.0040 - accuracy: 0.9994 - val_loss: 314.7098 - val_accuracy: 0.9983\n",
            "Epoch 5/8\n",
            "2270/2270 [==============================] - 25s 11ms/step - loss: 0.0044 - accuracy: 0.9993 - val_loss: 401.4920 - val_accuracy: 0.9983\n",
            "Epoch 6/8\n",
            "2270/2270 [==============================] - 26s 11ms/step - loss: 0.0040 - accuracy: 0.9993 - val_loss: 565.1943 - val_accuracy: 0.9983\n",
            "Epoch 7/8\n",
            "2270/2270 [==============================] - 30s 13ms/step - loss: 0.0043 - accuracy: 0.9993 - val_loss: 254.8937 - val_accuracy: 0.9983\n",
            "Epoch 8/8\n",
            "2270/2270 [==============================] - 27s 12ms/step - loss: 0.0031 - accuracy: 0.9994 - val_loss: 485.3320 - val_accuracy: 0.9983\n"
          ],
          "name": "stdout"
        }
      ]
    },
    {
      "cell_type": "code",
      "metadata": {
        "scrolled": true,
        "id": "Ctl7avkwNGrm",
        "outputId": "6d7d66d3-0937-4fd3-985a-8e440cc01963"
      },
      "source": [
        "ann.evaluate(X_test_new,y_test_new)\n",
        "ann_preds_new = np.round(ann.predict(X_test))\n",
        "print(confusion_matrix(y_test_new,ann_preds_new))\n",
        "print(classification_report(y_test, ann_preds_new))"
      ],
      "execution_count": null,
      "outputs": [
        {
          "output_type": "stream",
          "text": [
            "1774/1774 [==============================] - 6s 3ms/step - loss: 0.0026 - accuracy: 0.9995\n",
            "[[56649     0]\n",
            " [   97     0]]\n",
            "              precision    recall  f1-score   support\n",
            "\n",
            "           0       1.00      1.00      1.00     56649\n",
            "           1       0.00      0.00      0.00        97\n",
            "\n",
            "    accuracy                           1.00     56746\n",
            "   macro avg       0.50      0.50      0.50     56746\n",
            "weighted avg       1.00      1.00      1.00     56746\n",
            "\n"
          ],
          "name": "stdout"
        }
      ]
    },
    {
      "cell_type": "markdown",
      "metadata": {
        "id": "cEywXrXsNGrm"
      },
      "source": [
        "- Before preprocessing ANN performance did not realize any improvement on the dataset."
      ]
    },
    {
      "cell_type": "code",
      "metadata": {
        "id": "4DA1yd3BNGrm",
        "outputId": "944eb626-ff98-44c8-8474-d9ec52e882f4"
      },
      "source": [
        "## For visualization  of the convergence\n",
        "plt.plot(model_hist.history['loss'])\n",
        "plt.plot(model_hist.history['val_loss'])\n",
        "plt.title('model loss')\n",
        "plt.ylabel('loss')\n",
        "plt.xlabel('epoch')\n",
        "plt.legend(['train', 'test'], loc='upper left')\n",
        "plt.show()"
      ],
      "execution_count": null,
      "outputs": [
        {
          "output_type": "display_data",
          "data": {
            "image/png": "[encoded data removed]",
            "text/plain": [
              "<Figure size 432x288 with 1 Axes>"
            ]
          },
          "metadata": {
            "tags": [],
            "needs_background": "light"
          }
        }
      ]
    },
    {
      "cell_type": "markdown",
      "metadata": {
        "id": "O_j3UbhMNGrn"
      },
      "source": [
        "- Training has a good convergence but it does not perform well for the dataset, hence the very weak performance of the Neural Network."
      ]
    },
    {
      "cell_type": "code",
      "metadata": {
        "id": "-hyyxdBvNGro",
        "outputId": "6284432b-c30d-415d-b2ee-d5515af65322"
      },
      "source": [
        "### for accuracy performance with regards to epochs\n",
        "plt.plot(model_hist.history['accuracy'])\n",
        "plt.plot(model_hist.history['val_accuracy'])\n",
        "plt.title('model accuracy')\n",
        "plt.ylabel('accuracy')\n",
        "plt.xlabel('epochs')\n",
        "plt.legend(['train', 'test'], loc='upper left')\n",
        "plt.show()"
      ],
      "execution_count": null,
      "outputs": [
        {
          "output_type": "display_data",
          "data": {
            "image/png": "[encoded data removed]",
            "text/plain": [
              "<Figure size 432x288 with 1 Axes>"
            ]
          },
          "metadata": {
            "tags": [],
            "needs_background": "light"
          }
        }
      ]
    },
    {
      "cell_type": "markdown",
      "metadata": {
        "id": "9FBgsopSNGro"
      },
      "source": [
        "- Though training accuracy seem to have a significant increment measure it does not reflect in the original dataset structure."
      ]
    },
    {
      "cell_type": "code",
      "metadata": {
        "id": "8pMSzYVlNGro",
        "outputId": "0ce081d3-55d1-4657-9181-876082bb3c24"
      },
      "source": [
        "ann = models.ann()\n",
        "model_history = ann.fit(X_train,y_train, batch_size = 100, validation_data=(X_test,y_test),epochs = 8)"
      ],
      "execution_count": null,
      "outputs": [
        {
          "output_type": "stream",
          "text": [
            "Epoch 1/8\n",
            "2270/2270 [==============================] - 47s 20ms/step - loss: 0.0250 - accuracy: 0.9973 - val_loss: 0.0054 - val_accuracy: 0.9994\n",
            "Epoch 2/8\n",
            "2270/2270 [==============================] - 43s 19ms/step - loss: 0.0057 - accuracy: 0.9992 - val_loss: 0.0040 - val_accuracy: 0.9994\n",
            "Epoch 3/8\n",
            "2270/2270 [==============================] - 44s 19ms/step - loss: 0.0057 - accuracy: 0.9992 - val_loss: 0.0027 - val_accuracy: 0.9994\n",
            "Epoch 4/8\n",
            "2270/2270 [==============================] - 43s 19ms/step - loss: 0.0042 - accuracy: 0.9994 - val_loss: 0.0036 - val_accuracy: 0.9994\n",
            "Epoch 5/8\n",
            "2270/2270 [==============================] - 43s 19ms/step - loss: 0.0040 - accuracy: 0.9993 - val_loss: 0.0025 - val_accuracy: 0.9993\n",
            "Epoch 6/8\n",
            "2270/2270 [==============================] - 47s 20ms/step - loss: 0.0032 - accuracy: 0.9994 - val_loss: 0.0024 - val_accuracy: 0.9995\n",
            "Epoch 7/8\n",
            "2270/2270 [==============================] - 47s 21ms/step - loss: 0.0034 - accuracy: 0.9994 - val_loss: 0.0024 - val_accuracy: 0.9994\n",
            "Epoch 8/8\n",
            "2270/2270 [==============================] - 46s 20ms/step - loss: 0.0032 - accuracy: 0.9994 - val_loss: 0.0024 - val_accuracy: 0.9995\n"
          ],
          "name": "stdout"
        }
      ]
    },
    {
      "cell_type": "code",
      "metadata": {
        "id": "M6xlVNM5NGro",
        "outputId": "11dfd189-6485-430e-c4e2-d9c1ccb77793"
      },
      "source": [
        "ann.evaluate(X_test,y_test)\n",
        "ann_pred = np.round(ann.predict(X_test))\n",
        "print(confusion_matrix(y_test,ann_pred))\n",
        "print(classification_report(y_test, ann_pred))"
      ],
      "execution_count": null,
      "outputs": [
        {
          "output_type": "stream",
          "text": [
            "1774/1774 [==============================] - 8s 5ms/step - loss: 0.0024 - accuracy: 0.9995\n",
            "[[56639    10]\n",
            " [   17    80]]\n",
            "              precision    recall  f1-score   support\n",
            "\n",
            "           0       1.00      1.00      1.00     56649\n",
            "           1       0.89      0.82      0.86        97\n",
            "\n",
            "    accuracy                           1.00     56746\n",
            "   macro avg       0.94      0.91      0.93     56746\n",
            "weighted avg       1.00      1.00      1.00     56746\n",
            "\n"
          ],
          "name": "stdout"
        }
      ]
    },
    {
      "cell_type": "markdown",
      "metadata": {
        "id": "OeJhVjFxNGrp"
      },
      "source": [
        "- Neural Network performance after preprocessing. It also showed improvement after preprocessing "
      ]
    },
    {
      "cell_type": "markdown",
      "metadata": {
        "id": "H0uQIxdCL4mz"
      },
      "source": [
        "### Using stratifiedKFold sampling technique as a way of curbing the biasedness of the class distribution in our data."
      ]
    },
    {
      "cell_type": "code",
      "metadata": {
        "id": "2bVFsbhcL4mz"
      },
      "source": [
        "## Converting the input and output dataframe into numpy arrays\n",
        "X_new,y_new = X.values, y.values"
      ],
      "execution_count": null,
      "outputs": []
    },
    {
      "cell_type": "code",
      "metadata": {
        "id": "DaZ0VN-ZNGrq"
      },
      "source": [
        " # Importing necessary libraries for the StratifiedKFold split\n",
        "from sklearn.svm import SVC\n",
        "from sklearn.ensemble import RandomForestClassifier\n",
        "from sklearn.model_selection import StratifiedKFold"
      ],
      "execution_count": null,
      "outputs": []
    },
    {
      "cell_type": "code",
      "metadata": {
        "colab": {
          "base_uri": "https://localhost:8080/",
          "height": 231
        },
        "id": "G55Vu25DL4mz",
        "outputId": "b6a27001-a52a-4287-f895-8280658630d5"
      },
      "source": [
        "SVM = SVC(random_state = 40)  ### instantiating the model with some necessary parameters\n",
        "RFC = RandomForestClassifier(n_estimators = 120, random_state = 58) ### instantiating our random_forest\n",
        "folds = StratifiedKFold(n_splits=5) ### instantiating the stratifiedkfold with 5 number of splits.\n",
        "\n",
        "### a function that takes the model, fit the model for each split and then computer the score\n",
        "def get_score(model, X_train, X_test, y_train, y_test):\n",
        "    model.fit(X_train, y_train)\n",
        "    y_pred = model.predict(X_test)\n",
        "    print(confusion_matrix(y_test,y_pred))\n",
        "    print(classification_report(y_test, y_pred))\n",
        "    return model.score(X_test, y_test)\n",
        "\n",
        "### initiating an empty list to record the score for each split\n",
        "scores_svm = []\n",
        "scores_rf = []\n",
        "\n",
        "#### looping through all the splitted data and appending the score for each split using the get_score function.\n",
        "for train_index, test_index in folds.split(X,y): \n",
        "    X_train, X_test, y_train, y_test = X_new[train_index], X_new[test_index], y_new[train_index], y_new[test_index] \n",
        "    scores_svm.append(get_score(SVM, X_train, X_test, y_train, y_test))\n",
        "    scores_rf.append(get_score(RFC, X_train, X_test, y_train, y_test))\n",
        "    \n",
        "### printing out the scores\n",
        "print(scores_svm)\n",
        "print(scores_rf)"
      ],
      "execution_count": null,
      "outputs": [
        {
          "output_type": "stream",
          "text": [
            "[[56827    36]\n",
            " [   33    66]]\n",
            "              precision    recall  f1-score   support\n",
            "\n",
            "           0       1.00      1.00      1.00     56863\n",
            "           1       0.65      0.67      0.66        99\n",
            "\n",
            "    accuracy                           1.00     56962\n",
            "   macro avg       0.82      0.83      0.83     56962\n",
            "weighted avg       1.00      1.00      1.00     56962\n",
            "\n",
            "[[56824    39]\n",
            " [   12    87]]\n",
            "              precision    recall  f1-score   support\n",
            "\n",
            "           0       1.00      1.00      1.00     56863\n",
            "           1       0.69      0.88      0.77        99\n",
            "\n",
            "    accuracy                           1.00     56962\n",
            "   macro avg       0.85      0.94      0.89     56962\n",
            "weighted avg       1.00      1.00      1.00     56962\n",
            "\n",
            "[[56861     2]\n",
            " [   52    47]]\n",
            "              precision    recall  f1-score   support\n",
            "\n",
            "           0       1.00      1.00      1.00     56863\n",
            "           1       0.96      0.47      0.64        99\n",
            "\n",
            "    accuracy                           1.00     56962\n",
            "   macro avg       0.98      0.74      0.82     56962\n",
            "weighted avg       1.00      1.00      1.00     56962\n",
            "\n",
            "[[56863     0]\n",
            " [   22    77]]\n",
            "              precision    recall  f1-score   support\n",
            "\n",
            "           0       1.00      1.00      1.00     56863\n",
            "           1       1.00      0.78      0.88        99\n",
            "\n",
            "    accuracy                           1.00     56962\n",
            "   macro avg       1.00      0.89      0.94     56962\n",
            "weighted avg       1.00      1.00      1.00     56962\n",
            "\n",
            "[[56861     2]\n",
            " [   74    24]]\n",
            "              precision    recall  f1-score   support\n",
            "\n",
            "           0       1.00      1.00      1.00     56863\n",
            "           1       0.92      0.24      0.39        98\n",
            "\n",
            "    accuracy                           1.00     56961\n",
            "   macro avg       0.96      0.62      0.69     56961\n",
            "weighted avg       1.00      1.00      1.00     56961\n",
            "\n",
            "[[56847    16]\n",
            " [   32    66]]\n",
            "              precision    recall  f1-score   support\n",
            "\n",
            "           0       1.00      1.00      1.00     56863\n",
            "           1       0.80      0.67      0.73        98\n",
            "\n",
            "    accuracy                           1.00     56961\n",
            "   macro avg       0.90      0.84      0.87     56961\n",
            "weighted avg       1.00      1.00      1.00     56961\n",
            "\n",
            "[[56863     0]\n",
            " [   54    44]]\n",
            "              precision    recall  f1-score   support\n",
            "\n",
            "           0       1.00      1.00      1.00     56863\n",
            "           1       1.00      0.45      0.62        98\n",
            "\n",
            "    accuracy                           1.00     56961\n",
            "   macro avg       1.00      0.72      0.81     56961\n",
            "weighted avg       1.00      1.00      1.00     56961\n",
            "\n",
            "[[56861     2]\n",
            " [   17    81]]\n",
            "              precision    recall  f1-score   support\n",
            "\n",
            "           0       1.00      1.00      1.00     56863\n",
            "           1       0.98      0.83      0.90        98\n",
            "\n",
            "    accuracy                           1.00     56961\n",
            "   macro avg       0.99      0.91      0.95     56961\n",
            "weighted avg       1.00      1.00      1.00     56961\n",
            "\n",
            "[[56863     0]\n",
            " [   92     6]]\n",
            "              precision    recall  f1-score   support\n",
            "\n",
            "           0       1.00      1.00      1.00     56863\n",
            "           1       1.00      0.06      0.12        98\n",
            "\n",
            "    accuracy                           1.00     56961\n",
            "   macro avg       1.00      0.53      0.56     56961\n",
            "weighted avg       1.00      1.00      1.00     56961\n",
            "\n",
            "[[56862     1]\n",
            " [   30    68]]\n",
            "              precision    recall  f1-score   support\n",
            "\n",
            "           0       1.00      1.00      1.00     56863\n",
            "           1       0.99      0.69      0.81        98\n",
            "\n",
            "    accuracy                           1.00     56961\n",
            "   macro avg       0.99      0.85      0.91     56961\n",
            "weighted avg       1.00      1.00      1.00     56961\n",
            "\n",
            "[0.9987886661282961, 0.9990519995786665, 0.9986657537613455, 0.9990519829356929, 0.9983848598163656]\n",
            "[0.9991046662687406, 0.9996137776061234, 0.9991573181650603, 0.9996664384403364, 0.9994557679816014]\n"
          ],
          "name": "stdout"
        }
      ]
    },
    {
      "cell_type": "markdown",
      "metadata": {
        "id": "c7YSGRBuNGrq"
      },
      "source": [
        "- Here we used StratifiedKFold split to make confirmation on the possibility of getting a good score as compared to the previous performances on the models, that is,  if we seek to improve the performance of the best model, thus, Random Forest Classifier in making much meaning to the minority class in the model's learning. And it is envidenced from the classification report that we can get a set of split of our data that gives us the best performance for Random Forest Classifier. In the other case of Support Vector Machine, just like the original data SVM does not seeem to perform better for this kind of dataset."
      ]
    },
    {
      "cell_type": "markdown",
      "metadata": {
        "id": "c3_u9aVONGrr"
      },
      "source": [
        "## ARTIFICIAL NEURAL NETWORK MODEL"
      ]
    },
    {
      "cell_type": "code",
      "metadata": {
        "colab": {
          "base_uri": "https://localhost:8080/"
        },
        "id": "LQaN0MAJL4m0",
        "tags": [],
        "outputId": "221bd0a4-3995-4c86-b762-dc1299557b9c"
      },
      "source": [
        "# Using stratifiedKFold with different epochs and batch_size\n",
        "folds = StratifiedKFold(n_splits=5) ### instantiating the stratifiedkfold with 5 number of splits.\n",
        "\n",
        "params = {'epochs':[10], 'batch_size':[100]}\n",
        "Evaluation_score = [] # recording each evaluation in all the iterations\n",
        "\n",
        "for epochs, batch_size in zip(params['epochs'], params['batch_size']):\n",
        "    for train_index, test_index in folds.split(X_new,y_new):\n",
        "        X_train, X_test, y_train, y_test = X_new[train_index], X_new[test_index], y_new[train_index], y_new[test_index]\n",
        "        ann = models.ann()\n",
        "        ann.fit(X_train,y_train, batch_size = batch_size, validation_data=(X_test,y_test),epochs = epochs)\n",
        "        y_pred = np.round(ann.predict(X_test))\n",
        "        print(confusion_matrix(y_test,y_pred))\n",
        "        print(classification_report(y_test, y_pred))\n",
        "        Evaluation_score.append(ann.evaluate(X_test,y_test))\n",
        "print(Evaluation_score)"
      ],
      "execution_count": null,
      "outputs": [
        {
          "output_type": "stream",
          "text": [
            "Epoch 1/10\n",
            "2270/2270 [==============================] - 13s 6ms/step - loss: 399.4626 - accuracy: 0.9928 - val_loss: 0.1544 - val_accuracy: 0.9983\n",
            "Epoch 2/10\n",
            "2270/2270 [==============================] - 13s 6ms/step - loss: 2.8282 - accuracy: 0.9962 - val_loss: 0.0665 - val_accuracy: 0.9983\n",
            "Epoch 3/10\n",
            "2270/2270 [==============================] - 13s 6ms/step - loss: 0.2879 - accuracy: 0.9980 - val_loss: 0.0205 - val_accuracy: 0.9983\n",
            "Epoch 4/10\n",
            "2270/2270 [==============================] - 13s 6ms/step - loss: 0.0762 - accuracy: 0.9983 - val_loss: 0.0139 - val_accuracy: 0.9983\n",
            "Epoch 5/10\n",
            "2270/2270 [==============================] - 13s 6ms/step - loss: 0.0862 - accuracy: 0.9983 - val_loss: 0.0126 - val_accuracy: 0.9983\n",
            "Epoch 6/10\n",
            "2270/2270 [==============================] - 12s 5ms/step - loss: 0.0192 - accuracy: 0.9983 - val_loss: 0.0124 - val_accuracy: 0.9983\n",
            "Epoch 7/10\n",
            "2270/2270 [==============================] - 12s 5ms/step - loss: 0.0201 - accuracy: 0.9984 - val_loss: 0.0124 - val_accuracy: 0.9983\n",
            "Epoch 8/10\n",
            "2270/2270 [==============================] - 12s 5ms/step - loss: 0.0382 - accuracy: 0.9983 - val_loss: 0.0124 - val_accuracy: 0.9983\n",
            "Epoch 9/10\n",
            "2270/2270 [==============================] - 12s 5ms/step - loss: 0.0194 - accuracy: 0.9983 - val_loss: 0.0124 - val_accuracy: 0.9983\n",
            "Epoch 10/10\n",
            "2270/2270 [==============================] - 12s 5ms/step - loss: 0.0876 - accuracy: 0.9982 - val_loss: 0.0124 - val_accuracy: 0.9983\n",
            "[[56651     0]\n",
            " [   95     0]]\n",
            "              precision    recall  f1-score   support\n",
            "\n",
            "           0       1.00      1.00      1.00     56651\n",
            "           1       0.00      0.00      0.00        95\n",
            "\n",
            "    accuracy                           1.00     56746\n",
            "   macro avg       0.50      0.50      0.50     56746\n",
            "weighted avg       1.00      1.00      1.00     56746\n",
            "\n",
            "1774/1774 [==============================] - 2s 1ms/step - loss: 0.0124 - accuracy: 0.9983\n",
            "Epoch 1/10\n",
            "2270/2270 [==============================] - 13s 5ms/step - loss: 196.4641 - accuracy: 0.9945 - val_loss: 0.1051 - val_accuracy: 0.9983\n",
            "Epoch 2/10\n",
            "2270/2270 [==============================] - 12s 5ms/step - loss: 1.0349 - accuracy: 0.9971 - val_loss: 0.0384 - val_accuracy: 0.9983\n",
            "Epoch 3/10\n",
            "2270/2270 [==============================] - 12s 5ms/step - loss: 0.1869 - accuracy: 0.9981 - val_loss: 0.0173 - val_accuracy: 0.9983\n",
            "Epoch 4/10\n",
            "2270/2270 [==============================] - 12s 5ms/step - loss: 0.1141 - accuracy: 0.9983 - val_loss: 0.0132 - val_accuracy: 0.9983\n",
            "Epoch 5/10\n",
            "2270/2270 [==============================] - 12s 5ms/step - loss: 0.0261 - accuracy: 0.9983 - val_loss: 0.0124 - val_accuracy: 0.9983\n",
            "Epoch 6/10\n",
            "2270/2270 [==============================] - 13s 6ms/step - loss: 0.0361 - accuracy: 0.9981 - val_loss: 0.0123 - val_accuracy: 0.9983\n",
            "Epoch 7/10\n",
            "2270/2270 [==============================] - 13s 6ms/step - loss: 0.0308 - accuracy: 0.9982 - val_loss: 0.0123 - val_accuracy: 0.9983\n",
            "Epoch 8/10\n",
            "2270/2270 [==============================] - 12s 5ms/step - loss: 0.0764 - accuracy: 0.9981 - val_loss: 0.0123 - val_accuracy: 0.9983\n",
            "Epoch 9/10\n",
            "2270/2270 [==============================] - 12s 6ms/step - loss: 0.1898 - accuracy: 0.9978 - val_loss: 0.0123 - val_accuracy: 0.9983\n",
            "Epoch 10/10\n",
            "2270/2270 [==============================] - 12s 5ms/step - loss: 0.0762 - accuracy: 0.9982 - val_loss: 0.0123 - val_accuracy: 0.9983\n",
            "[[56651     0]\n",
            " [   94     0]]\n",
            "              precision    recall  f1-score   support\n",
            "\n",
            "           0       1.00      1.00      1.00     56651\n",
            "           1       0.00      0.00      0.00        94\n",
            "\n",
            "    accuracy                           1.00     56745\n",
            "   macro avg       0.50      0.50      0.50     56745\n",
            "weighted avg       1.00      1.00      1.00     56745\n",
            "\n",
            "1774/1774 [==============================] - 2s 1ms/step - loss: 0.0123 - accuracy: 0.9983\n",
            "Epoch 1/10\n",
            "2270/2270 [==============================] - 13s 6ms/step - loss: 532.0273 - accuracy: 0.9905 - val_loss: 2.2596 - val_accuracy: 0.9983\n",
            "Epoch 2/10\n",
            "2270/2270 [==============================] - 12s 5ms/step - loss: 3.8449 - accuracy: 0.9957 - val_loss: 0.0846 - val_accuracy: 0.9983\n",
            "Epoch 3/10\n",
            "2270/2270 [==============================] - 12s 5ms/step - loss: 0.3326 - accuracy: 0.9979 - val_loss: 0.0223 - val_accuracy: 0.9983\n",
            "Epoch 4/10\n",
            "2270/2270 [==============================] - 12s 5ms/step - loss: 0.0576 - accuracy: 0.9982 - val_loss: 0.0142 - val_accuracy: 0.9983\n",
            "Epoch 5/10\n",
            "2270/2270 [==============================] - 12s 5ms/step - loss: 0.0387 - accuracy: 0.9982 - val_loss: 0.0126 - val_accuracy: 0.9983\n",
            "Epoch 6/10\n",
            "2270/2270 [==============================] - 12s 5ms/step - loss: 0.0508 - accuracy: 0.9982 - val_loss: 0.0123 - val_accuracy: 0.9983\n",
            "Epoch 7/10\n",
            "2270/2270 [==============================] - 12s 5ms/step - loss: 0.0153 - accuracy: 0.9983 - val_loss: 0.0123 - val_accuracy: 0.9983\n",
            "Epoch 8/10\n",
            "2270/2270 [==============================] - 12s 5ms/step - loss: 0.1298 - accuracy: 0.9984 - val_loss: 0.0123 - val_accuracy: 0.9983\n",
            "Epoch 9/10\n",
            "2270/2270 [==============================] - 12s 5ms/step - loss: 0.1814 - accuracy: 0.9976 - val_loss: 0.0123 - val_accuracy: 0.9983\n",
            "Epoch 10/10\n",
            "2270/2270 [==============================] - 12s 5ms/step - loss: 0.1940 - accuracy: 0.9976 - val_loss: 0.0123 - val_accuracy: 0.9983\n",
            "[[56651     0]\n",
            " [   94     0]]\n",
            "              precision    recall  f1-score   support\n",
            "\n",
            "           0       1.00      1.00      1.00     56651\n",
            "           1       0.00      0.00      0.00        94\n",
            "\n",
            "    accuracy                           1.00     56745\n",
            "   macro avg       0.50      0.50      0.50     56745\n",
            "weighted avg       1.00      1.00      1.00     56745\n",
            "\n",
            "1774/1774 [==============================] - 2s 1ms/step - loss: 0.0123 - accuracy: 0.9983\n",
            "Epoch 1/10\n",
            "2270/2270 [==============================] - 13s 6ms/step - loss: 132.6631 - accuracy: 0.9959 - val_loss: 0.2828 - val_accuracy: 0.9983\n",
            "Epoch 2/10\n",
            "2270/2270 [==============================] - 12s 5ms/step - loss: 0.7009 - accuracy: 0.9973 - val_loss: 0.0337 - val_accuracy: 0.9983\n",
            "Epoch 3/10\n",
            "2270/2270 [==============================] - 12s 5ms/step - loss: 0.0653 - accuracy: 0.9984 - val_loss: 0.0163 - val_accuracy: 0.9983\n",
            "Epoch 4/10\n",
            "2270/2270 [==============================] - 12s 5ms/step - loss: 0.0935 - accuracy: 0.9984 - val_loss: 0.0130 - val_accuracy: 0.9983\n",
            "Epoch 5/10\n",
            "2270/2270 [==============================] - 12s 5ms/step - loss: 0.0657 - accuracy: 0.9984 - val_loss: 0.0125 - val_accuracy: 0.9983\n",
            "Epoch 6/10\n",
            "2270/2270 [==============================] - 12s 5ms/step - loss: 0.0318 - accuracy: 0.9984 - val_loss: 0.0124 - val_accuracy: 0.9983\n",
            "Epoch 7/10\n",
            "2270/2270 [==============================] - 12s 5ms/step - loss: 0.0222 - accuracy: 0.9983 - val_loss: 0.0124 - val_accuracy: 0.9983\n",
            "Epoch 8/10\n",
            "2270/2270 [==============================] - 12s 5ms/step - loss: 0.0148 - accuracy: 0.9984 - val_loss: 0.0124 - val_accuracy: 0.9983\n",
            "Epoch 9/10\n",
            "2270/2270 [==============================] - 12s 5ms/step - loss: 0.0514 - accuracy: 0.9980 - val_loss: 0.0124 - val_accuracy: 0.9983\n",
            "Epoch 10/10\n",
            "2270/2270 [==============================] - 12s 5ms/step - loss: 0.0501 - accuracy: 0.9982 - val_loss: 0.0124 - val_accuracy: 0.9983\n",
            "[[56650     0]\n",
            " [   95     0]]\n",
            "              precision    recall  f1-score   support\n",
            "\n",
            "           0       1.00      1.00      1.00     56650\n",
            "           1       0.00      0.00      0.00        95\n",
            "\n",
            "    accuracy                           1.00     56745\n",
            "   macro avg       0.50      0.50      0.50     56745\n",
            "weighted avg       1.00      1.00      1.00     56745\n",
            "\n",
            "1774/1774 [==============================] - 2s 1ms/step - loss: 0.0124 - accuracy: 0.9983\n",
            "Epoch 1/10\n",
            "2270/2270 [==============================] - 13s 5ms/step - loss: 85.1168 - accuracy: 0.9960 - val_loss: 0.0128 - val_accuracy: 0.9983\n",
            "Epoch 2/10\n",
            "2270/2270 [==============================] - 12s 5ms/step - loss: 0.3901 - accuracy: 0.9979 - val_loss: 15.7429 - val_accuracy: 0.9983\n",
            "Epoch 3/10\n",
            "2270/2270 [==============================] - 12s 5ms/step - loss: 0.2100 - accuracy: 0.9980 - val_loss: 0.0161 - val_accuracy: 0.9983\n",
            "Epoch 4/10\n",
            "2270/2270 [==============================] - 12s 5ms/step - loss: 0.0909 - accuracy: 0.9985 - val_loss: 0.0130 - val_accuracy: 0.9983\n",
            "Epoch 5/10\n",
            "2270/2270 [==============================] - 12s 5ms/step - loss: 0.0195 - accuracy: 0.9983 - val_loss: 0.0125 - val_accuracy: 0.9983\n",
            "Epoch 6/10\n",
            "2270/2270 [==============================] - 12s 5ms/step - loss: 0.0815 - accuracy: 0.9982 - val_loss: 0.0124 - val_accuracy: 0.9983\n",
            "Epoch 7/10\n",
            "2270/2270 [==============================] - 12s 5ms/step - loss: 0.1847 - accuracy: 0.9978 - val_loss: 0.0124 - val_accuracy: 0.9983\n",
            "Epoch 8/10\n",
            "2270/2270 [==============================] - 13s 6ms/step - loss: 0.0734 - accuracy: 0.9977 - val_loss: 0.0124 - val_accuracy: 0.9983\n",
            "Epoch 9/10\n",
            "2270/2270 [==============================] - 12s 5ms/step - loss: 0.0660 - accuracy: 0.9984 - val_loss: 0.0124 - val_accuracy: 0.9983\n",
            "Epoch 10/10\n",
            "2270/2270 [==============================] - 12s 5ms/step - loss: 0.0262 - accuracy: 0.9982 - val_loss: 0.0124 - val_accuracy: 0.9983\n",
            "[[56650     0]\n",
            " [   95     0]]\n",
            "              precision    recall  f1-score   support\n",
            "\n",
            "           0       1.00      1.00      1.00     56650\n",
            "           1       0.00      0.00      0.00        95\n",
            "\n",
            "    accuracy                           1.00     56745\n",
            "   macro avg       0.50      0.50      0.50     56745\n",
            "weighted avg       1.00      1.00      1.00     56745\n",
            "\n",
            "1774/1774 [==============================] - 2s 1ms/step - loss: 0.0124 - accuracy: 0.9983\n",
            "[[0.012374011799693108, 0.9983258843421936], [0.012265115045011044, 0.9983434677124023], [0.012268554419279099, 0.9983434677124023], [0.012376190163195133, 0.9983258247375488], [0.012375065125524998, 0.9983258247375488]]\n"
          ],
          "name": "stdout"
        }
      ]
    },
    {
      "cell_type": "markdown",
      "metadata": {
        "id": "jxOczeozXzzd"
      },
      "source": [
        "Artificial did not perform better after the StratifiedKFold split. Hence it will definitely not be good for this type of classification unless preprocessed with scaled data."
      ]
    },
    {
      "cell_type": "markdown",
      "metadata": {
        "id": "8Z5rhmhKL4m0"
      },
      "source": [
        "### Data statistics under the following \"Imbalance learning\" topics to conclude on the best model.\n",
        "\n",
        "1) Under Sampling \n",
        "\n",
        "2) Over Sampling"
      ]
    },
    {
      "cell_type": "markdown",
      "metadata": {
        "id": "vGY6DgqlL4m0"
      },
      "source": [
        "### We shall under sample from the majority class for training and test on the original train-test-split and measure the performance against the previous records."
      ]
    },
    {
      "cell_type": "code",
      "metadata": {
        "id": "dI5UIJxBNGrs"
      },
      "source": [
        "##### Let define a function for the two classifiers, SVM and Random Forest\n",
        "\n",
        "def rfc_sample(X_train_sample, y_train_sample,X_test,y_test):\n",
        "    rfc_us = RandomForestClassifier(n_estimators = 100, random_state=100)\n",
        "    rfc_us.fit(X_train_sample, y_train_sample)\n",
        "    \n",
        "    #### Now we use the model to make predictions on the entire data and then check for the precision, recall and fi-score\n",
        "    us_preds = rfc_us.predict(X_test)\n",
        "    print(confusion_matrix(y_test,us_preds))\n",
        "    print(classification_report(y_test, us_preds))\n",
        "    print(rfc_us.score(X_test,y_test))\n",
        "    return rfc_us\n",
        "\n",
        "\n",
        "def svm_sample(X_train_sample, y_train_sample,X_test,y_test):\n",
        "    svm_all = SVC(random_state=60)\n",
        "    svm_all.fit(X_train_sample, y_train_sample)\n",
        "    #### Now we use the model to make predictions on the entire data and then check for the precision, recall and fi-score\n",
        "    us_preds = svm_all.predict(X_test)\n",
        "    print(confusion_matrix(y_test,us_preds))\n",
        "    print(classification_report(y_test, us_preds))\n",
        "    print(svm_all.score(X_test,y_test))\n",
        "    return svm_all"
      ],
      "execution_count": null,
      "outputs": []
    },
    {
      "cell_type": "code",
      "metadata": {
        "id": "QfIbTpTGL4m1"
      },
      "source": [
        "from imblearn.under_sampling import NearMiss"
      ],
      "execution_count": null,
      "outputs": []
    },
    {
      "cell_type": "code",
      "metadata": {
        "id": "CRLd9StUL4m1"
      },
      "source": [
        "## Resampling strategy of 0.9 ratio between minority and the majority class. \n",
        "us = NearMiss(0.9)"
      ],
      "execution_count": null,
      "outputs": []
    },
    {
      "cell_type": "code",
      "metadata": {
        "id": "eEBfS7J_L4m1"
      },
      "source": [
        "### resampling the train data\n",
        "X_train_us, y_train_us = us.fit_resample(X_train,y_train)"
      ],
      "execution_count": null,
      "outputs": []
    },
    {
      "cell_type": "code",
      "metadata": {
        "id": "fZ_uX20vL4m1",
        "colab": {
          "base_uri": "https://localhost:8080/"
        },
        "outputId": "cbeb83c4-f499-47ea-8db5-efe860feb603"
      },
      "source": [
        "#### The composition of the data distribution before undersampling\n",
        "\n",
        "print(y_train.Class.value_counts())"
      ],
      "execution_count": null,
      "outputs": [
        {
          "output_type": "stream",
          "text": [
            "0    226604\n",
            "1       376\n",
            "Name: Class, dtype: int64\n"
          ],
          "name": "stdout"
        }
      ]
    },
    {
      "cell_type": "code",
      "metadata": {
        "id": "hQI_yE8TZXo8"
      },
      "source": [
        "y_train_us_df = pd.DataFrame(y_train_us, columns = ['Class'])"
      ],
      "execution_count": null,
      "outputs": []
    },
    {
      "cell_type": "code",
      "metadata": {
        "id": "m4q1_jedL4m2",
        "colab": {
          "base_uri": "https://localhost:8080/"
        },
        "outputId": "fb8ceaaa-0fec-4ad7-b431-a4c2b2f9c815"
      },
      "source": [
        "### The composition of the data after the undersampling in the ratio 0.9\n",
        "print(y_train_us_df.Class.value_counts())"
      ],
      "execution_count": null,
      "outputs": [
        {
          "output_type": "stream",
          "text": [
            "0    417\n",
            "1    376\n",
            "Name: Class, dtype: int64\n"
          ],
          "name": "stdout"
        }
      ]
    },
    {
      "cell_type": "markdown",
      "metadata": {
        "id": "pGrqMiEfL4m2"
      },
      "source": [
        "### RandomForestClassifier for Undersampled Datasets"
      ]
    },
    {
      "cell_type": "code",
      "metadata": {
        "id": "sVhi-xE6NGrv",
        "outputId": "2464b3e7-5dae-4047-9837-5975c51988f9"
      },
      "source": [
        "rfc_sample(X_train_us, y_train_us, X_test,y_test)"
      ],
      "execution_count": null,
      "outputs": [
        {
          "output_type": "stream",
          "text": [
            "[[49511  7138]\n",
            " [    4    93]]\n",
            "              precision    recall  f1-score   support\n",
            "\n",
            "           0       1.00      0.87      0.93     56649\n",
            "           1       0.01      0.96      0.03        97\n",
            "\n",
            "    accuracy                           0.87     56746\n",
            "   macro avg       0.51      0.92      0.48     56746\n",
            "weighted avg       1.00      0.87      0.93     56746\n",
            "\n",
            "0.8741409086102985\n"
          ],
          "name": "stdout"
        },
        {
          "output_type": "execute_result",
          "data": {
            "text/plain": [
              "RandomForestClassifier(random_state=100)"
            ]
          },
          "metadata": {
            "tags": []
          },
          "execution_count": 39
        }
      ]
    },
    {
      "cell_type": "markdown",
      "metadata": {
        "id": "9Bg7KxF-L4m3"
      },
      "source": [
        "- Here after undersampling technique it is observed that accuracy is reduced which is very obvious since almost all the information were lost during the undersampling and hence leading to poor performance of the model for the class 0. "
      ]
    },
    {
      "cell_type": "markdown",
      "metadata": {
        "id": "S48GBHZyL4m4"
      },
      "source": [
        "### Support Vector Classifier for Undersampled data"
      ]
    },
    {
      "cell_type": "code",
      "metadata": {
        "id": "i0J5r7QdNGry",
        "outputId": "870552b1-c7c6-4e1d-dbe3-86dbce24c54f"
      },
      "source": [
        "svm_sample(X_train_us, y_train_us, X_test,y_test)"
      ],
      "execution_count": null,
      "outputs": [
        {
          "output_type": "stream",
          "text": [
            "[[38273 18376]\n",
            " [   73    24]]\n",
            "              precision    recall  f1-score   support\n",
            "\n",
            "           0       1.00      0.68      0.81     56649\n",
            "           1       0.00      0.25      0.00        97\n",
            "\n",
            "    accuracy                           0.67     56746\n",
            "   macro avg       0.50      0.46      0.40     56746\n",
            "weighted avg       1.00      0.67      0.80     56746\n",
            "\n",
            "0.674884573361999\n"
          ],
          "name": "stdout"
        },
        {
          "output_type": "execute_result",
          "data": {
            "text/plain": [
              "SVC(random_state=60)"
            ]
          },
          "metadata": {
            "tags": []
          },
          "execution_count": 82
        }
      ]
    },
    {
      "cell_type": "markdown",
      "metadata": {
        "id": "bxNl_7SRNGry"
      },
      "source": [
        "- Support Vector Machine also performed very bad for precision and f1-score. Hence our undersampling technique does not favor our objectives here."
      ]
    },
    {
      "cell_type": "markdown",
      "metadata": {
        "id": "8FQQ_Y2vL4m6"
      },
      "source": [
        "### ANN for Undersampled Data"
      ]
    },
    {
      "cell_type": "code",
      "metadata": {
        "id": "Cceb1sY0NGry",
        "outputId": "4368869f-1953-42c1-d6c5-613bc67eb43b"
      },
      "source": [
        "### Just call the ann from class function\n",
        "model=models.ann()\n",
        "model.fit(X_train_us,y_train_us, batch_size=10, epochs=11, validation_data=(X_test, y_test))"
      ],
      "execution_count": null,
      "outputs": [
        {
          "output_type": "stream",
          "text": [
            "Epoch 1/11\n",
            "80/80 [==============================] - 7s 76ms/step - loss: 11610.5369 - accuracy: 0.4911 - val_loss: 6559.6191 - val_accuracy: 0.0017\n",
            "Epoch 2/11\n",
            "80/80 [==============================] - 6s 81ms/step - loss: 5231.8840 - accuracy: 0.4982 - val_loss: 0.6788 - val_accuracy: 0.9902\n",
            "Epoch 3/11\n",
            "80/80 [==============================] - 6s 78ms/step - loss: 2946.2486 - accuracy: 0.5072 - val_loss: 0.1047 - val_accuracy: 0.9975\n",
            "Epoch 4/11\n",
            "80/80 [==============================] - 6s 80ms/step - loss: 1122.7972 - accuracy: 0.4726 - val_loss: 27.2579 - val_accuracy: 0.0022\n",
            "Epoch 5/11\n",
            "80/80 [==============================] - 8s 96ms/step - loss: 378.4566 - accuracy: 0.5317 - val_loss: 0.1665 - val_accuracy: 0.9981\n",
            "Epoch 6/11\n",
            "80/80 [==============================] - 8s 96ms/step - loss: 123.5773 - accuracy: 0.5140 - val_loss: 0.6855 - val_accuracy: 0.9981\n",
            "Epoch 7/11\n",
            "80/80 [==============================] - 7s 92ms/step - loss: 107.4097 - accuracy: 0.5039 - val_loss: 0.6837 - val_accuracy: 0.9981\n",
            "Epoch 8/11\n",
            "80/80 [==============================] - 7s 93ms/step - loss: 118.7744 - accuracy: 0.4836 - val_loss: 0.6873 - val_accuracy: 0.9980\n",
            "Epoch 9/11\n",
            "80/80 [==============================] - 7s 94ms/step - loss: 55.5381 - accuracy: 0.5286 - val_loss: 0.6883 - val_accuracy: 0.9980\n",
            "Epoch 10/11\n",
            "80/80 [==============================] - 8s 96ms/step - loss: 48.4425 - accuracy: 0.5161 - val_loss: 0.6827 - val_accuracy: 0.9980\n",
            "Epoch 11/11\n",
            "80/80 [==============================] - 7s 94ms/step - loss: 17.6014 - accuracy: 0.5323 - val_loss: 0.6748 - val_accuracy: 0.9981\n"
          ],
          "name": "stdout"
        },
        {
          "output_type": "execute_result",
          "data": {
            "text/plain": [
              "<tensorflow.python.keras.callbacks.History at 0x7f1708311400>"
            ]
          },
          "metadata": {
            "tags": []
          },
          "execution_count": 83
        }
      ]
    },
    {
      "cell_type": "code",
      "metadata": {
        "id": "OyZGHJK1NGr0",
        "outputId": "b7e15e48-af7d-4364-8227-80a0d76b29f3"
      },
      "source": [
        "#### We make predictions and check the metrics for the performance of the Artificial Neural Network.\n",
        "model.evaluate(X_test_new,y_test_new)\n",
        "us_preds = np.round(model.predict(X_test))\n",
        "#ann_us_preds = [np.argmax(i) for i in ann_preds]\n",
        "print(confusion_matrix(y_test,us_preds))\n",
        "print(classification_report(y_test, us_preds))"
      ],
      "execution_count": null,
      "outputs": [
        {
          "output_type": "stream",
          "text": [
            "1774/1774 [==============================] - 4s 2ms/step - loss: 0.7118 - accuracy: 0.5251\n",
            "[[56640     9]\n",
            " [   97     0]]\n",
            "              precision    recall  f1-score   support\n",
            "\n",
            "           0       1.00      1.00      1.00     56649\n",
            "           1       0.00      0.00      0.00        97\n",
            "\n",
            "    accuracy                           1.00     56746\n",
            "   macro avg       0.50      0.50      0.50     56746\n",
            "weighted avg       1.00      1.00      1.00     56746\n",
            "\n"
          ],
          "name": "stdout"
        }
      ]
    },
    {
      "cell_type": "markdown",
      "metadata": {
        "id": "Vdk-MlxTL4m9"
      },
      "source": [
        "- Also, ANN performance changed after undersampling the dataset yet did not favor the fraud classification. And it seems that undersampling technique does not produce good results on the precision, recall and f1-score for all the models."
      ]
    },
    {
      "cell_type": "markdown",
      "metadata": {
        "id": "udmWh7E4L4m-"
      },
      "source": [
        "# Resampling new dataset from the minority class for training and testing"
      ]
    },
    {
      "cell_type": "code",
      "metadata": {
        "id": "J5YfXTUHL4m-"
      },
      "source": [
        "### Oversampling using RandomOverSampler\n",
        "\n",
        "from imblearn.over_sampling import RandomOverSampler"
      ],
      "execution_count": null,
      "outputs": []
    },
    {
      "cell_type": "code",
      "metadata": {
        "id": "7af3yzLIL4m-"
      },
      "source": [
        "# Oversampling with a ratio of 0.9 of minority class to majority class\n",
        "os = RandomOverSampler(sampling_strategy=0.9)"
      ],
      "execution_count": null,
      "outputs": []
    },
    {
      "cell_type": "markdown",
      "metadata": {
        "id": "GloTSREUNGr2"
      },
      "source": [
        "- #### Resampling from our biased data for training and testing on the 30% test split from the entire data."
      ]
    },
    {
      "cell_type": "code",
      "metadata": {
        "id": "S_qfzcJ3L4m-"
      },
      "source": [
        "X_train_os, y_train_os = os.fit_resample(X_train,y_train)"
      ],
      "execution_count": null,
      "outputs": []
    },
    {
      "cell_type": "code",
      "metadata": {
        "id": "gLF0inXRL4m-",
        "outputId": "57895132-58ab-453d-90e0-25b6c67e4495"
      },
      "source": [
        "### Data distribution before and after resampling.\n",
        "print(y_train.Class.value_counts())\n",
        "print(y_train_os.Class.value_counts())"
      ],
      "execution_count": null,
      "outputs": [
        {
          "output_type": "stream",
          "text": [
            "0    226604\n",
            "1       376\n",
            "Name: Class, dtype: int64\n",
            "0    226604\n",
            "1    203943\n",
            "Name: Class, dtype: int64\n"
          ],
          "name": "stdout"
        }
      ]
    },
    {
      "cell_type": "markdown",
      "metadata": {
        "id": "sNScl1pZNGr4"
      },
      "source": [
        "#### Random Forest for Oversampled data"
      ]
    },
    {
      "cell_type": "code",
      "metadata": {
        "id": "GjQEgWCXNGr4",
        "outputId": "0e866519-039c-4c19-8944-948ab70d9204"
      },
      "source": [
        "### We shall fit the new dataset and make predictions from the test split of our original data.\n",
        "model_random_forest = rfc_sample(X_train_os, y_train_os, X_test,y_test)"
      ],
      "execution_count": null,
      "outputs": [
        {
          "output_type": "stream",
          "text": [
            "[[56643     6]\n",
            " [   18    79]]\n",
            "              precision    recall  f1-score   support\n",
            "\n",
            "           0       1.00      1.00      1.00     56649\n",
            "           1       0.93      0.81      0.87        97\n",
            "\n",
            "    accuracy                           1.00     56746\n",
            "   macro avg       0.96      0.91      0.93     56746\n",
            "weighted avg       1.00      1.00      1.00     56746\n",
            "\n",
            "0.9995770627004547\n"
          ],
          "name": "stdout"
        }
      ]
    },
    {
      "cell_type": "markdown",
      "metadata": {
        "id": "oqvhYq2vNGr5"
      },
      "source": [
        "- This sampling technique seem to have outperformed the undersampling technique. This could basically be that the model has had enough data to make decision. And since precision, recall and f1-score has a very good performance here we can say that this technique prefered to the undersampling.\n",
        "- Best sampling technique for the particular dataset is evidenced by the results. "
      ]
    },
    {
      "cell_type": "markdown",
      "metadata": {
        "id": "r9sTdK6QNGr5"
      },
      "source": [
        "#### Support Vector for Oversampled data"
      ]
    },
    {
      "cell_type": "code",
      "metadata": {
        "id": "ZxD2wXMyfBUm"
      },
      "source": [
        "###  Support vector machine for Oversampled data\n",
        "\n",
        "X_train_OS, X_test_OS, y_train_OS, y_test_OS = split(X_train_os, y_train_os)\n",
        "model_svm = svm_sample(X_train_OS, y_train_OS, X_test,y_test)"
      ],
      "execution_count": null,
      "outputs": []
    },
    {
      "cell_type": "markdown",
      "metadata": {
        "id": "oTr3I60NNGr6"
      },
      "source": [
        "- #### SVM seem not to perform well with the kind of data distribution. Hence we may conclude that SVM is not the best model for this kind of dataset."
      ]
    },
    {
      "cell_type": "code",
      "metadata": {
        "id": "E40qfY6UNGr6",
        "outputId": "80092abe-922c-4baa-9bc8-dc08a9d18814"
      },
      "source": [
        "### ANN for Oversampled data\n",
        "model=models.ann()\n",
        "model_hist = model.fit(X_train_os,y_train_os, batch_size=100, epochs=10, validation_data=(X_test, y_test))"
      ],
      "execution_count": null,
      "outputs": [
        {
          "output_type": "stream",
          "text": [
            "Epoch 1/10\n",
            "4306/4306 [==============================] - 46s 11ms/step - loss: 705.2202 - accuracy: 0.5106 - val_loss: 0.6366 - val_accuracy: 0.9983\n",
            "Epoch 2/10\n",
            "4306/4306 [==============================] - 45s 11ms/step - loss: 0.8739 - accuracy: 0.5271 - val_loss: 0.6464 - val_accuracy: 0.9983\n",
            "Epoch 3/10\n",
            "4306/4306 [==============================] - 46s 11ms/step - loss: 0.7302 - accuracy: 0.5258 - val_loss: 0.6453 - val_accuracy: 0.9983\n",
            "Epoch 4/10\n",
            "4306/4306 [==============================] - 45s 11ms/step - loss: 0.6981 - accuracy: 0.5256 - val_loss: 0.6355 - val_accuracy: 0.9983\n",
            "Epoch 5/10\n",
            "4306/4306 [==============================] - 32s 7ms/step - loss: 0.6991 - accuracy: 0.5257 - val_loss: 0.6400 - val_accuracy: 0.9983\n",
            "Epoch 6/10\n",
            "4306/4306 [==============================] - 33s 8ms/step - loss: 0.7012 - accuracy: 0.5254 - val_loss: 0.6418 - val_accuracy: 0.9983\n",
            "Epoch 7/10\n",
            "4306/4306 [==============================] - 34s 8ms/step - loss: 0.6939 - accuracy: 0.5252 - val_loss: 0.6396 - val_accuracy: 0.9983\n",
            "Epoch 8/10\n",
            "4306/4306 [==============================] - 33s 8ms/step - loss: 0.6981 - accuracy: 0.5261 - val_loss: 0.6448 - val_accuracy: 0.9983\n",
            "Epoch 9/10\n",
            "4306/4306 [==============================] - 33s 8ms/step - loss: 0.6976 - accuracy: 0.5255 - val_loss: 0.6473 - val_accuracy: 0.9983\n",
            "Epoch 10/10\n",
            "4306/4306 [==============================] - 34s 8ms/step - loss: 0.7048 - accuracy: 0.5271 - val_loss: 0.6502 - val_accuracy: 0.9983\n"
          ],
          "name": "stdout"
        }
      ]
    },
    {
      "cell_type": "code",
      "metadata": {
        "id": "bdaGlovxNGr6",
        "outputId": "707a410f-6053-4b32-cbfa-66f21c5f8381"
      },
      "source": [
        "## Evaluationa nd predictions for metrics \n",
        "model.evaluate(X_test_new,y_test_new)\n",
        "os_preds = np.round(model.predict(X_test))\n",
        "\n",
        "### Printing metrics\n",
        "print(confusion_matrix(y_test,os_preds))\n",
        "print(classification_report(y_test, os_preds))"
      ],
      "execution_count": null,
      "outputs": [
        {
          "output_type": "stream",
          "text": [
            "1774/1774 [==============================] - 4s 2ms/step - loss: 0.2150 - accuracy: 0.9983\n",
            "[[56649     0]\n",
            " [   97     0]]\n",
            "              precision    recall  f1-score   support\n",
            "\n",
            "           0       1.00      1.00      1.00     56649\n",
            "           1       0.00      0.00      0.00        97\n",
            "\n",
            "    accuracy                           1.00     56746\n",
            "   macro avg       0.50      0.50      0.50     56746\n",
            "weighted avg       1.00      1.00      1.00     56746\n",
            "\n"
          ],
          "name": "stdout"
        }
      ]
    },
    {
      "cell_type": "code",
      "metadata": {
        "scrolled": true,
        "id": "NODKUNSiNGr7",
        "outputId": "0c306198-97f2-47b0-e3b8-5cd88c8d4026"
      },
      "source": [
        "plt.plot(model_hist.history['loss'])\n",
        "plt.plot(model_hist.history['val_loss'])\n",
        "plt.title('model loss')\n",
        "plt.ylabel('loss')\n",
        "plt.xlabel('epoch')\n",
        "plt.legend(['train', 'test'], loc='upper left')\n",
        "plt.show()"
      ],
      "execution_count": null,
      "outputs": [
        {
          "output_type": "display_data",
          "data": {
            "image/png": "[encoded data removed]",
            "text/plain": [
              "<Figure size 432x288 with 1 Axes>"
            ]
          },
          "metadata": {
            "tags": [],
            "needs_background": "light"
          }
        }
      ]
    },
    {
      "cell_type": "markdown",
      "metadata": {
        "id": "sLFBx8eJNGr7"
      },
      "source": [
        "- The model converges perfectly, however its performance on the test data is not good. "
      ]
    },
    {
      "cell_type": "markdown",
      "metadata": {
        "id": "MthF7-g_NGr8"
      },
      "source": [
        "## Conclusions "
      ]
    },
    {
      "cell_type": "markdown",
      "metadata": {
        "id": "gnN7nTQ8NGr8"
      },
      "source": [
        "- The dataset consisted of two different class distributions of normal transactions and fraud transactions with the fraud transaction having insignificant observations as compared to the normal transactions. Due to this we had to develop a Machine Learning algorithm that is able to make distinction between the fraud transaction despite its distribution amidst the normal transaction for future datasets. We were faced with Random Forest Classifier, Support Vector Machine and Artificial Neural Network to come out with the best model to classify fraud transactions from normal transactions. We first built our model for the biased distribution on all three models given and measured their performances based on predictions of the fraud distribution either than accuracy of the model. In order to have this metrics measured appropriately we made preference of Precision, Recall and f1-score over accuracy. \n",
        "- After the above mentioned procedure we noticed that the performance of Random Forest Classifier was good previously without any preprocessing in the first case amongst the three models and however the prediction stregnth with regards to the fraud distribution needed an improvement in the algorithm to help maximize the precision, recall and f1-score performance.\n",
        "- Moreover it was observed afterwards that after some preprocessing the other two models, thus, support vector machine and artificial neural network performance was still not good as compared to that of Random Forest which had some improvements.\n",
        "- Finally, the random forest came out with the best peroformance compared to the other models after preprocessing and testing the models on our original data. Hence in conclusion, the random forest classifier model is the best classifier for the fraud transactions. These conclusion are based on the results of the classification report with measurement prefence of recall, f1-score and precision. Accuracy was not much utilized as the best performance metrics in our case of this dataset."
      ]
    },
    {
      "cell_type": "markdown",
      "metadata": {
        "id": "71qkrlPzNGr8"
      },
      "source": [
        "## References\n",
        "\n",
        "- https://scikit-learn.org/stable/modules/model_evaluation.html#classification-report\n",
        "- https://imbalanced-learn.org/stable/references/generated/imblearn.metrics.sensitivity_specificity_support.html#imblearn.metrics.sensitivity_specificity_support"
      ]
    },
    {
      "cell_type": "markdown",
      "metadata": {
        "id": "HMjIMjyWNGr8"
      },
      "source": [
        " ## Appendix\n"
      ]
    },
    {
      "cell_type": "markdown",
      "metadata": {
        "id": "Q04Mc3E4NGr9"
      },
      "source": [
        "### Metrics summary on classification report\n",
        " - PR ----> Precision, quantifies the ability to avoid false positives.\n",
        " - RE ----> Recall, quantifies the ability to avoid false negatives.\n",
        " - CA ----> Classification_accuracy\n",
        " - $ F_1 $ ----> F1-score\n",
        "\n",
        "![COR.jpeg](attachment:COR.jpeg)"
      ]
    },
    {
      "cell_type": "code",
      "metadata": {
        "id": "IzNBF4krNGr9"
      },
      "source": [
        ""
      ],
      "execution_count": null,
      "outputs": []
    }
  ]
}