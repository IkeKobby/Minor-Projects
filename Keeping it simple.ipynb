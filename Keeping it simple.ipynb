{
 "cells": [
  {
   "cell_type": "code",
   "execution_count": 1,
   "metadata": {},
   "outputs": [],
   "source": [
    "import pandas as pd\n",
    "import numpy as np\n",
    "import matplotlib.pyplot as plt\n",
    "%matplotlib inline\n",
    "import seaborn as sns\n",
    "import warnings\n",
    "warnings.filterwarnings('ignore')"
   ]
  },
  {
   "cell_type": "code",
   "execution_count": 38,
   "metadata": {},
   "outputs": [],
   "source": [
    "from sklearn.model_selection import train_test_split\n",
    "\n",
    "def my_split_func(X,y):\n",
    "    X_train, X_test, y_train, y_test = train_test_split(X,y, test_size = 0.20, random_state = 2)\n",
    "    return X_train,X_test, y_train, y_test"
   ]
  },
  {
   "cell_type": "code",
   "execution_count": 2,
   "metadata": {},
   "outputs": [
    {
     "name": "stdout",
     "output_type": "stream",
     "text": [
      "(21454, 19)\n",
      "(7194, 18)\n"
     ]
    }
   ],
   "source": [
    "#### for train data\n",
    "\n",
    "train = pd.read_csv('Train.csv')\n",
    "\n",
    "print(train.shape)\n",
    "\n",
    "### for test data \n",
    "\n",
    "test = pd.read_csv('Test.csv')\n",
    "\n",
    "print(test.shape)"
   ]
  },
  {
   "cell_type": "markdown",
   "metadata": {},
   "source": [
    "### Country feature selection"
   ]
  },
  {
   "cell_type": "code",
   "execution_count": 12,
   "metadata": {},
   "outputs": [
    {
     "data": {
      "text/plain": [
       "Uganda                          1584\n",
       "Zimbabwe                        1189\n",
       "Zambia                          1038\n",
       "Burkina Faso                     997\n",
       "Angola                           855\n",
       "Democratic Republic of Congo     785\n",
       "Benin                            746\n",
       "Name: country, dtype: int64"
      ]
     },
     "execution_count": 12,
     "metadata": {},
     "output_type": "execute_result"
    }
   ],
   "source": [
    "test.country.value_counts().sort_values(ascending =False).head(10)"
   ]
  },
  {
   "cell_type": "code",
   "execution_count": 15,
   "metadata": {},
   "outputs": [
    {
     "data": {
      "text/plain": [
       "['Nigeria', 'Kenya', 'Tanzania', 'Malawi', 'Ethiopia', 'Ghana', 'Mali']"
      ]
     },
     "execution_count": 15,
     "metadata": {},
     "output_type": "execute_result"
    }
   ],
   "source": [
    "count_7 = [x for x in train.country.value_counts().sort_values(ascending =False).head(7).index]\n",
    "count_7"
   ]
  },
  {
   "cell_type": "code",
   "execution_count": 16,
   "metadata": {},
   "outputs": [],
   "source": [
    "for country in count_7:\n",
    "    train[country] = np.where(train.country == country, 1, 0)"
   ]
  },
  {
   "cell_type": "code",
   "execution_count": 25,
   "metadata": {},
   "outputs": [
    {
     "data": {
      "text/plain": [
       "Index(['ID', 'country', 'year', 'urban_or_rural', 'ghsl_water_surface',\n",
       "       'ghsl_built_pre_1975', 'ghsl_built_1975_to_1990',\n",
       "       'ghsl_built_1990_to_2000', 'ghsl_built_2000_to_2014',\n",
       "       'ghsl_not_built_up', 'ghsl_pop_density', 'landcover_crops_fraction',\n",
       "       'landcover_urban_fraction', 'landcover_water_permanent_10km_fraction',\n",
       "       'landcover_water_seasonal_10km_fraction', 'nighttime_lights',\n",
       "       'dist_to_capital', 'dist_to_shoreline', 'Target', 'Nigeria', 'Kenya',\n",
       "       'Tanzania', 'Malawi', 'Ethiopia', 'Ghana', 'Mali'],\n",
       "      dtype='object')"
      ]
     },
     "execution_count": 25,
     "metadata": {},
     "output_type": "execute_result"
    }
   ],
   "source": [
    "train.columns"
   ]
  },
  {
   "cell_type": "code",
   "execution_count": 26,
   "metadata": {},
   "outputs": [],
   "source": [
    "train_cols = ['ghsl_pop_density','ghsl_built_1990_to_2000','ghsl_built_1975_to_1990','ghsl_not_built_up',\n",
    "            'landcover_crops_fraction','landcover_water_seasonal_10km_fraction',\n",
    "            'dist_to_capital','dist_to_shoreline','landcover_urban_fraction', 'urban_or_rural','Target','Nigeria', 'Kenya', 'Tanzania', 'Malawi', 'Ethiopia', 'Ghana', 'Mali']"
   ]
  },
  {
   "cell_type": "code",
   "execution_count": 27,
   "metadata": {},
   "outputs": [
    {
     "data": {
      "text/plain": [
       "(21454, 18)"
      ]
     },
     "execution_count": 27,
     "metadata": {},
     "output_type": "execute_result"
    }
   ],
   "source": [
    "for_train = train[train_cols]\n",
    "for_train.shape"
   ]
  },
  {
   "cell_type": "code",
   "execution_count": 30,
   "metadata": {},
   "outputs": [],
   "source": [
    "train_dumi = pd.get_dummies(for_train, columns =['urban_or_rural'], drop_first = True)"
   ]
  },
  {
   "cell_type": "code",
   "execution_count": 32,
   "metadata": {},
   "outputs": [
    {
     "data": {
      "text/plain": [
       "(21454, 18)"
      ]
     },
     "execution_count": 32,
     "metadata": {},
     "output_type": "execute_result"
    }
   ],
   "source": [
    "train_dumi.shape"
   ]
  },
  {
   "cell_type": "markdown",
   "metadata": {},
   "source": [
    "#### test data "
   ]
  },
  {
   "cell_type": "code",
   "execution_count": 34,
   "metadata": {},
   "outputs": [
    {
     "data": {
      "text/html": [
       "<div>\n",
       "<style scoped>\n",
       "    .dataframe tbody tr th:only-of-type {\n",
       "        vertical-align: middle;\n",
       "    }\n",
       "\n",
       "    .dataframe tbody tr th {\n",
       "        vertical-align: top;\n",
       "    }\n",
       "\n",
       "    .dataframe thead th {\n",
       "        text-align: right;\n",
       "    }\n",
       "</style>\n",
       "<table border=\"1\" class=\"dataframe\">\n",
       "  <thead>\n",
       "    <tr style=\"text-align: right;\">\n",
       "      <th></th>\n",
       "      <th>country</th>\n",
       "      <th>urban_or_rural</th>\n",
       "      <th>ghsl_built_1975_to_1990</th>\n",
       "      <th>ghsl_built_1990_to_2000</th>\n",
       "      <th>ghsl_not_built_up</th>\n",
       "      <th>ghsl_pop_density</th>\n",
       "      <th>landcover_crops_fraction</th>\n",
       "      <th>landcover_urban_fraction</th>\n",
       "      <th>landcover_water_seasonal_10km_fraction</th>\n",
       "      <th>dist_to_capital</th>\n",
       "      <th>dist_to_shoreline</th>\n",
       "    </tr>\n",
       "  </thead>\n",
       "  <tbody>\n",
       "    <tr>\n",
       "      <th>0</th>\n",
       "      <td>Democratic Republic of Congo</td>\n",
       "      <td>R</td>\n",
       "      <td>0.000000</td>\n",
       "      <td>0.000523</td>\n",
       "      <td>0.999347</td>\n",
       "      <td>0.660758</td>\n",
       "      <td>0.990942</td>\n",
       "      <td>0.132264</td>\n",
       "      <td>0.032627</td>\n",
       "      <td>1249.294720</td>\n",
       "      <td>1364.592100</td>\n",
       "    </tr>\n",
       "    <tr>\n",
       "      <th>1</th>\n",
       "      <td>Democratic Republic of Congo</td>\n",
       "      <td>U</td>\n",
       "      <td>0.000238</td>\n",
       "      <td>0.001227</td>\n",
       "      <td>0.991437</td>\n",
       "      <td>6.441547</td>\n",
       "      <td>5.461365</td>\n",
       "      <td>0.452400</td>\n",
       "      <td>0.000000</td>\n",
       "      <td>821.019579</td>\n",
       "      <td>1046.028681</td>\n",
       "    </tr>\n",
       "  </tbody>\n",
       "</table>\n",
       "</div>"
      ],
      "text/plain": [
       "                        country urban_or_rural  ghsl_built_1975_to_1990  \\\n",
       "0  Democratic Republic of Congo              R                 0.000000   \n",
       "1  Democratic Republic of Congo              U                 0.000238   \n",
       "\n",
       "   ghsl_built_1990_to_2000  ghsl_not_built_up  ghsl_pop_density  \\\n",
       "0                 0.000523           0.999347          0.660758   \n",
       "1                 0.001227           0.991437          6.441547   \n",
       "\n",
       "   landcover_crops_fraction  landcover_urban_fraction  \\\n",
       "0                  0.990942                  0.132264   \n",
       "1                  5.461365                  0.452400   \n",
       "\n",
       "   landcover_water_seasonal_10km_fraction  dist_to_capital  dist_to_shoreline  \n",
       "0                                0.032627      1249.294720        1364.592100  \n",
       "1                                0.000000       821.019579        1046.028681  "
      ]
     },
     "execution_count": 34,
     "metadata": {},
     "output_type": "execute_result"
    }
   ],
   "source": [
    "for_test = test.drop(['ID', 'year','ghsl_water_surface', 'ghsl_built_pre_1975', 'ghsl_built_2000_to_2014','landcover_water_permanent_10km_fraction', 'nighttime_lights'], axis = 1)\n",
    "for_test.head(2)"
   ]
  },
  {
   "cell_type": "code",
   "execution_count": 100,
   "metadata": {},
   "outputs": [],
   "source": [
    "test_dum_1 = pd.get_dummies(for_test, columns =['urban_or_rural'], drop_first = True)\n",
    "test_dum_2 = pd.get_dummies(test_dum_1, columns =['country'], drop_first = False)"
   ]
  },
  {
   "cell_type": "code",
   "execution_count": 103,
   "metadata": {},
   "outputs": [
    {
     "data": {
      "text/plain": [
       "(7194, 17)"
      ]
     },
     "execution_count": 103,
     "metadata": {},
     "output_type": "execute_result"
    }
   ],
   "source": [
    "test_dum_2.shape"
   ]
  },
  {
   "cell_type": "code",
   "execution_count": 36,
   "metadata": {},
   "outputs": [],
   "source": [
    "X = train_dumi.drop('Target', axis = 1).values\n",
    "y = train_dumi.Target.values"
   ]
  },
  {
   "cell_type": "code",
   "execution_count": 39,
   "metadata": {},
   "outputs": [],
   "source": [
    "X_train,X_test, y_train, y_test = my_split_func(X,y)"
   ]
  },
  {
   "cell_type": "code",
   "execution_count": 67,
   "metadata": {},
   "outputs": [
    {
     "data": {
      "text/plain": [
       "17163"
      ]
     },
     "execution_count": 67,
     "metadata": {},
     "output_type": "execute_result"
    }
   ],
   "source": [
    "len(y_train)"
   ]
  },
  {
   "cell_type": "code",
   "execution_count": 74,
   "metadata": {},
   "outputs": [
    {
     "name": "stdout",
     "output_type": "stream",
     "text": [
      "Epoch 1/5\n",
      "1717/1717 [==============================] - 126s 73ms/step - loss: 8.4066 - mse: 8.4066 - val_loss: 0.0387 - val_mse: 0.0387\n",
      "Epoch 2/5\n",
      "1717/1717 [==============================] - 122s 71ms/step - loss: 0.0507 - mse: 0.0507 - val_loss: 0.0240 - val_mse: 0.0240\n",
      "Epoch 3/5\n",
      "1717/1717 [==============================] - 120s 70ms/step - loss: 0.0277 - mse: 0.0277 - val_loss: 0.0186 - val_mse: 0.0186\n",
      "Epoch 4/5\n",
      "1717/1717 [==============================] - 122s 71ms/step - loss: 0.0212 - mse: 0.0212 - val_loss: 0.0185 - val_mse: 0.0185\n",
      "Epoch 5/5\n",
      "1717/1717 [==============================] - 120s 70ms/step - loss: 0.0192 - mse: 0.0192 - val_loss: 0.0190 - val_mse: 0.0190\n"
     ]
    }
   ],
   "source": [
    "#### simple NN\n",
    "\n",
    "model_reg =   keras.Sequential([\n",
    "    keras.layers.Dense(units = 200, kernel_initializer = 'he_uniform', \n",
    "                       input_shape = (17,)),\n",
    "    keras.layers.Dense(100, kernel_initializer = 'he_uniform', activation = 'relu'),\n",
    "    keras.layers.Dense(len(y_train))\n",
    "    ])\n",
    "    \n",
    "    #tb_callback = tf.keras.callbacks.TensorBoard(log_dir = 'logs/', histogram_freq =1)\n",
    "\n",
    "model_reg.compile(\n",
    "    optimizer = 'adam',\n",
    "    loss = 'mse', metrics = ['mse']\n",
    "    )\n",
    "\n",
    "    \n",
    "    \n",
    "history = model_reg.fit(X_train, y_train, batch_size=10, validation_data=(X_test,y_test), epochs=5)"
   ]
  },
  {
   "cell_type": "code",
   "execution_count": 78,
   "metadata": {},
   "outputs": [],
   "source": [
    "preds = model_reg.predict(X_test)"
   ]
  },
  {
   "cell_type": "code",
   "execution_count": 87,
   "metadata": {},
   "outputs": [
    {
     "data": {
      "text/plain": [
       "((17163, 17), (17163,))"
      ]
     },
     "execution_count": 87,
     "metadata": {},
     "output_type": "execute_result"
    }
   ],
   "source": [
    "X_train.shape, y_train.shape"
   ]
  },
  {
   "cell_type": "code",
   "execution_count": 84,
   "metadata": {},
   "outputs": [
    {
     "data": {
      "text/plain": [
       "((4291, 17), (4291,), (4291, 17163))"
      ]
     },
     "execution_count": 84,
     "metadata": {},
     "output_type": "execute_result"
    }
   ],
   "source": [
    "X_test.shape, y_test.shape, preds.shape"
   ]
  },
  {
   "cell_type": "code",
   "execution_count": 90,
   "metadata": {},
   "outputs": [],
   "source": [
    "# from sklearn.metrics import mean_squared_error as mse\n",
    "# rmse = mse(y_test,preds, squared = False)\n",
    "# rmse"
   ]
  },
  {
   "cell_type": "code",
   "execution_count": 96,
   "metadata": {},
   "outputs": [
    {
     "data": {
      "text/plain": [
       "((4291, 17), (7194, 17))"
      ]
     },
     "execution_count": 96,
     "metadata": {},
     "output_type": "execute_result"
    }
   ],
   "source": [
    "X_test.shape, test_dum_2.values.shape"
   ]
  },
  {
   "cell_type": "code",
   "execution_count": null,
   "metadata": {},
   "outputs": [],
   "source": []
  },
  {
   "cell_type": "code",
   "execution_count": 105,
   "metadata": {},
   "outputs": [
    {
     "data": {
      "text/plain": [
       "(7194, 17163)"
      ]
     },
     "execution_count": 105,
     "metadata": {},
     "output_type": "execute_result"
    }
   ],
   "source": [
    "test_preds = model_reg.predict(test_dum_2)\n",
    "test_preds.shape"
   ]
  },
  {
   "cell_type": "code",
   "execution_count": null,
   "metadata": {},
   "outputs": [],
   "source": []
  },
  {
   "cell_type": "code",
   "execution_count": null,
   "metadata": {},
   "outputs": [],
   "source": []
  },
  {
   "cell_type": "code",
   "execution_count": 116,
   "metadata": {},
   "outputs": [],
   "source": [
    "train_copy = train.copy()"
   ]
  },
  {
   "cell_type": "code",
   "execution_count": 117,
   "metadata": {},
   "outputs": [
    {
     "data": {
      "text/plain": [
       "(21454, 19)"
      ]
     },
     "execution_count": 117,
     "metadata": {},
     "output_type": "execute_result"
    }
   ],
   "source": [
    "target = train.drop('Target', axis = 1)\n",
    "train.shape"
   ]
  },
  {
   "cell_type": "code",
   "execution_count": 118,
   "metadata": {},
   "outputs": [],
   "source": [
    "train['train']=1\n",
    "test['train']=0\n",
    "combined = pd.concat([train,test])"
   ]
  },
  {
   "cell_type": "code",
   "execution_count": 119,
   "metadata": {},
   "outputs": [],
   "source": [
    "combined = combined.drop(['ID', 'year'], axis = 1)"
   ]
  },
  {
   "cell_type": "code",
   "execution_count": 352,
   "metadata": {},
   "outputs": [
    {
     "data": {
      "text/html": [
       "<div>\n",
       "<style scoped>\n",
       "    .dataframe tbody tr th:only-of-type {\n",
       "        vertical-align: middle;\n",
       "    }\n",
       "\n",
       "    .dataframe tbody tr th {\n",
       "        vertical-align: top;\n",
       "    }\n",
       "\n",
       "    .dataframe thead th {\n",
       "        text-align: right;\n",
       "    }\n",
       "</style>\n",
       "<table border=\"1\" class=\"dataframe\">\n",
       "  <thead>\n",
       "    <tr style=\"text-align: right;\">\n",
       "      <th></th>\n",
       "      <th>country</th>\n",
       "      <th>urban_or_rural</th>\n",
       "      <th>ghsl_water_surface</th>\n",
       "      <th>ghsl_built_pre_1975</th>\n",
       "      <th>ghsl_built_1975_to_1990</th>\n",
       "      <th>ghsl_built_1990_to_2000</th>\n",
       "      <th>ghsl_built_2000_to_2014</th>\n",
       "      <th>ghsl_not_built_up</th>\n",
       "      <th>ghsl_pop_density</th>\n",
       "      <th>landcover_crops_fraction</th>\n",
       "      <th>landcover_urban_fraction</th>\n",
       "      <th>landcover_water_permanent_10km_fraction</th>\n",
       "      <th>landcover_water_seasonal_10km_fraction</th>\n",
       "      <th>nighttime_lights</th>\n",
       "      <th>dist_to_capital</th>\n",
       "      <th>dist_to_shoreline</th>\n",
       "      <th>Target</th>\n",
       "      <th>train</th>\n",
       "    </tr>\n",
       "  </thead>\n",
       "  <tbody>\n",
       "    <tr>\n",
       "      <th>0</th>\n",
       "      <td>Ethiopia</td>\n",
       "      <td>R</td>\n",
       "      <td>0.0</td>\n",
       "      <td>0.000000</td>\n",
       "      <td>0.000000</td>\n",
       "      <td>0.000055</td>\n",
       "      <td>0.000536</td>\n",
       "      <td>0.999408</td>\n",
       "      <td>12.146134</td>\n",
       "      <td>25.489659</td>\n",
       "      <td>0.879484</td>\n",
       "      <td>0.000000</td>\n",
       "      <td>0.000000</td>\n",
       "      <td>0.000000</td>\n",
       "      <td>278.788451</td>\n",
       "      <td>769.338378</td>\n",
       "      <td>0.132783</td>\n",
       "      <td>1</td>\n",
       "    </tr>\n",
       "    <tr>\n",
       "      <th>1</th>\n",
       "      <td>Ethiopia</td>\n",
       "      <td>R</td>\n",
       "      <td>0.0</td>\n",
       "      <td>0.000000</td>\n",
       "      <td>0.000110</td>\n",
       "      <td>0.000000</td>\n",
       "      <td>0.000018</td>\n",
       "      <td>0.999872</td>\n",
       "      <td>113.806716</td>\n",
       "      <td>64.136053</td>\n",
       "      <td>0.601427</td>\n",
       "      <td>0.000000</td>\n",
       "      <td>0.005427</td>\n",
       "      <td>0.000000</td>\n",
       "      <td>200.986978</td>\n",
       "      <td>337.135243</td>\n",
       "      <td>0.004898</td>\n",
       "      <td>1</td>\n",
       "    </tr>\n",
       "    <tr>\n",
       "      <th>2</th>\n",
       "      <td>Mozambique</td>\n",
       "      <td>R</td>\n",
       "      <td>0.0</td>\n",
       "      <td>0.000000</td>\n",
       "      <td>0.000000</td>\n",
       "      <td>0.000000</td>\n",
       "      <td>0.000000</td>\n",
       "      <td>1.000000</td>\n",
       "      <td>0.000000</td>\n",
       "      <td>4.400096</td>\n",
       "      <td>0.131900</td>\n",
       "      <td>0.000000</td>\n",
       "      <td>0.003078</td>\n",
       "      <td>0.000000</td>\n",
       "      <td>642.594208</td>\n",
       "      <td>169.913773</td>\n",
       "      <td>0.097320</td>\n",
       "      <td>1</td>\n",
       "    </tr>\n",
       "    <tr>\n",
       "      <th>3</th>\n",
       "      <td>Malawi</td>\n",
       "      <td>R</td>\n",
       "      <td>0.0</td>\n",
       "      <td>0.000141</td>\n",
       "      <td>0.000181</td>\n",
       "      <td>0.000254</td>\n",
       "      <td>0.000228</td>\n",
       "      <td>0.999195</td>\n",
       "      <td>5.213320</td>\n",
       "      <td>25.379371</td>\n",
       "      <td>2.017136</td>\n",
       "      <td>11.293841</td>\n",
       "      <td>0.131035</td>\n",
       "      <td>0.000000</td>\n",
       "      <td>365.349451</td>\n",
       "      <td>613.591610</td>\n",
       "      <td>0.304107</td>\n",
       "      <td>1</td>\n",
       "    </tr>\n",
       "    <tr>\n",
       "      <th>4</th>\n",
       "      <td>Guinea</td>\n",
       "      <td>U</td>\n",
       "      <td>0.0</td>\n",
       "      <td>0.011649</td>\n",
       "      <td>0.017560</td>\n",
       "      <td>0.017383</td>\n",
       "      <td>0.099875</td>\n",
       "      <td>0.853533</td>\n",
       "      <td>31.734661</td>\n",
       "      <td>5.081620</td>\n",
       "      <td>22.815984</td>\n",
       "      <td>0.005047</td>\n",
       "      <td>0.130475</td>\n",
       "      <td>1.461894</td>\n",
       "      <td>222.867189</td>\n",
       "      <td>192.926363</td>\n",
       "      <td>0.605328</td>\n",
       "      <td>1</td>\n",
       "    </tr>\n",
       "  </tbody>\n",
       "</table>\n",
       "</div>"
      ],
      "text/plain": [
       "      country urban_or_rural  ghsl_water_surface  ghsl_built_pre_1975  \\\n",
       "0    Ethiopia              R                 0.0             0.000000   \n",
       "1    Ethiopia              R                 0.0             0.000000   \n",
       "2  Mozambique              R                 0.0             0.000000   \n",
       "3      Malawi              R                 0.0             0.000141   \n",
       "4      Guinea              U                 0.0             0.011649   \n",
       "\n",
       "   ghsl_built_1975_to_1990  ghsl_built_1990_to_2000  ghsl_built_2000_to_2014  \\\n",
       "0                 0.000000                 0.000055                 0.000536   \n",
       "1                 0.000110                 0.000000                 0.000018   \n",
       "2                 0.000000                 0.000000                 0.000000   \n",
       "3                 0.000181                 0.000254                 0.000228   \n",
       "4                 0.017560                 0.017383                 0.099875   \n",
       "\n",
       "   ghsl_not_built_up  ghsl_pop_density  landcover_crops_fraction  \\\n",
       "0           0.999408         12.146134                 25.489659   \n",
       "1           0.999872        113.806716                 64.136053   \n",
       "2           1.000000          0.000000                  4.400096   \n",
       "3           0.999195          5.213320                 25.379371   \n",
       "4           0.853533         31.734661                  5.081620   \n",
       "\n",
       "   landcover_urban_fraction  landcover_water_permanent_10km_fraction  \\\n",
       "0                  0.879484                                 0.000000   \n",
       "1                  0.601427                                 0.000000   \n",
       "2                  0.131900                                 0.000000   \n",
       "3                  2.017136                                11.293841   \n",
       "4                 22.815984                                 0.005047   \n",
       "\n",
       "   landcover_water_seasonal_10km_fraction  nighttime_lights  dist_to_capital  \\\n",
       "0                                0.000000          0.000000       278.788451   \n",
       "1                                0.005427          0.000000       200.986978   \n",
       "2                                0.003078          0.000000       642.594208   \n",
       "3                                0.131035          0.000000       365.349451   \n",
       "4                                0.130475          1.461894       222.867189   \n",
       "\n",
       "   dist_to_shoreline    Target  train  \n",
       "0         769.338378  0.132783      1  \n",
       "1         337.135243  0.004898      1  \n",
       "2         169.913773  0.097320      1  \n",
       "3         613.591610  0.304107      1  \n",
       "4         192.926363  0.605328      1  "
      ]
     },
     "execution_count": 352,
     "metadata": {},
     "output_type": "execute_result"
    }
   ],
   "source": [
    "combined.head()"
   ]
  },
  {
   "cell_type": "code",
   "execution_count": 324,
   "metadata": {},
   "outputs": [],
   "source": [
    "com_cols = ['ghsl_pop_density','ghsl_built_1990_to_2000','ghsl_built_1975_to_1990','ghsl_not_built_up',\n",
    "            'landcover_crops_fraction','landcover_water_seasonal_10km_fraction',\n",
    "            'dist_to_capital','dist_to_shoreline','landcover_urban_fraction', 'urban_or_rural','train']\n",
    "#new_df = combined[com_cols]"
   ]
  },
  {
   "cell_type": "code",
   "execution_count": 375,
   "metadata": {},
   "outputs": [],
   "source": [
    "cols = ['dist_to_shoreline', 'landcover_urban_fraction', 'urban_or_rural','train']\n",
    "new_df = combined[cols]"
   ]
  },
  {
   "cell_type": "code",
   "execution_count": 376,
   "metadata": {},
   "outputs": [],
   "source": [
    "new_df['Target'] = train.Target"
   ]
  },
  {
   "cell_type": "code",
   "execution_count": 377,
   "metadata": {},
   "outputs": [
    {
     "data": {
      "text/html": [
       "<div>\n",
       "<style scoped>\n",
       "    .dataframe tbody tr th:only-of-type {\n",
       "        vertical-align: middle;\n",
       "    }\n",
       "\n",
       "    .dataframe tbody tr th {\n",
       "        vertical-align: top;\n",
       "    }\n",
       "\n",
       "    .dataframe thead th {\n",
       "        text-align: right;\n",
       "    }\n",
       "</style>\n",
       "<table border=\"1\" class=\"dataframe\">\n",
       "  <thead>\n",
       "    <tr style=\"text-align: right;\">\n",
       "      <th></th>\n",
       "      <th>dist_to_shoreline</th>\n",
       "      <th>landcover_urban_fraction</th>\n",
       "      <th>urban_or_rural</th>\n",
       "      <th>train</th>\n",
       "      <th>Target</th>\n",
       "    </tr>\n",
       "  </thead>\n",
       "  <tbody>\n",
       "    <tr>\n",
       "      <th>0</th>\n",
       "      <td>769.338378</td>\n",
       "      <td>0.879484</td>\n",
       "      <td>R</td>\n",
       "      <td>1</td>\n",
       "      <td>0.132783</td>\n",
       "    </tr>\n",
       "    <tr>\n",
       "      <th>1</th>\n",
       "      <td>337.135243</td>\n",
       "      <td>0.601427</td>\n",
       "      <td>R</td>\n",
       "      <td>1</td>\n",
       "      <td>0.004898</td>\n",
       "    </tr>\n",
       "    <tr>\n",
       "      <th>2</th>\n",
       "      <td>169.913773</td>\n",
       "      <td>0.131900</td>\n",
       "      <td>R</td>\n",
       "      <td>1</td>\n",
       "      <td>0.097320</td>\n",
       "    </tr>\n",
       "    <tr>\n",
       "      <th>3</th>\n",
       "      <td>613.591610</td>\n",
       "      <td>2.017136</td>\n",
       "      <td>R</td>\n",
       "      <td>1</td>\n",
       "      <td>0.304107</td>\n",
       "    </tr>\n",
       "    <tr>\n",
       "      <th>4</th>\n",
       "      <td>192.926363</td>\n",
       "      <td>22.815984</td>\n",
       "      <td>U</td>\n",
       "      <td>1</td>\n",
       "      <td>0.605328</td>\n",
       "    </tr>\n",
       "  </tbody>\n",
       "</table>\n",
       "</div>"
      ],
      "text/plain": [
       "   dist_to_shoreline  landcover_urban_fraction urban_or_rural  train    Target\n",
       "0         769.338378                  0.879484              R      1  0.132783\n",
       "1         337.135243                  0.601427              R      1  0.004898\n",
       "2         169.913773                  0.131900              R      1  0.097320\n",
       "3         613.591610                  2.017136              R      1  0.304107\n",
       "4         192.926363                 22.815984              U      1  0.605328"
      ]
     },
     "execution_count": 377,
     "metadata": {},
     "output_type": "execute_result"
    }
   ],
   "source": [
    "new_df.head()"
   ]
  },
  {
   "cell_type": "code",
   "execution_count": 378,
   "metadata": {},
   "outputs": [
    {
     "data": {
      "text/plain": [
       "((21454, 5), (7194, 5))"
      ]
     },
     "execution_count": 378,
     "metadata": {},
     "output_type": "execute_result"
    }
   ],
   "source": [
    "df_train_new = new_df[new_df['train']==1]\n",
    "df_test_new = new_df[new_df['train']==0]\n",
    "df_train_new.shape, df_test_new.shape"
   ]
  },
  {
   "cell_type": "code",
   "execution_count": 379,
   "metadata": {},
   "outputs": [
    {
     "data": {
      "text/plain": [
       "((21454, 4), (7194, 4))"
      ]
     },
     "execution_count": 379,
     "metadata": {},
     "output_type": "execute_result"
    }
   ],
   "source": [
    "df_test_new.drop('train', axis = 1, inplace = True)\n",
    "df_train_new.drop('train', axis = 1, inplace = True)\n",
    "df_train_new.shape, df_test_new.shape"
   ]
  },
  {
   "cell_type": "code",
   "execution_count": 380,
   "metadata": {},
   "outputs": [],
   "source": [
    "X_data = df_train_new.drop('Target', axis = 1)\n",
    "y_data = df_train_new.Target\n",
    "\n",
    "X_train,X_test, y_train, y_test= my_split_func(X_data, y_data)"
   ]
  },
  {
   "cell_type": "code",
   "execution_count": 381,
   "metadata": {},
   "outputs": [
    {
     "data": {
      "text/plain": [
       "((17163, 3), (4291, 3))"
      ]
     },
     "execution_count": 381,
     "metadata": {},
     "output_type": "execute_result"
    }
   ],
   "source": [
    "train_dummies = pd.get_dummies(X_train, columns =['urban_or_rural'], drop_first = True)\n",
    "test_dummies = pd.get_dummies(X_test, columns =['urban_or_rural'], drop_first = True)\n",
    "train_dummies.shape, test_dummies.shape"
   ]
  },
  {
   "cell_type": "code",
   "execution_count": 382,
   "metadata": {},
   "outputs": [
    {
     "data": {
      "text/plain": [
       "<AxesSubplot:>"
      ]
     },
     "execution_count": 382,
     "metadata": {},
     "output_type": "execute_result"
    },
    {
     "data": {
      "image/png": "[encoded data removed]",
      "text/plain": [
       "<Figure size 432x288 with 2 Axes>"
      ]
     },
     "metadata": {
      "needs_background": "light"
     },
     "output_type": "display_data"
    }
   ],
   "source": [
    "sns.heatmap(train_dummies.corr(), annot = True)"
   ]
  },
  {
   "cell_type": "code",
   "execution_count": 285,
   "metadata": {},
   "outputs": [
    {
     "data": {
      "text/plain": [
       "<seaborn.axisgrid.PairGrid at 0x7fccfc338dc0>"
      ]
     },
     "execution_count": 285,
     "metadata": {},
     "output_type": "execute_result"
    },
    {
     "data": {
      "image/png": "[encoded data removed]",
      "text/plain": [
       "<Figure size 180x180 with 1 Axes>"
      ]
     },
     "metadata": {
      "needs_background": "light"
     },
     "output_type": "display_data"
    }
   ],
   "source": [
    "sns.pairplot(df_train_new,\n",
    "    hue=None,\n",
    "    x_vars=['dist_to_shoreline'],#, 'dist_to_shoreline', 'ghsl_pop_density'],\n",
    "    y_vars=['Target'],\n",
    "    kind='scatter',\n",
    "    height=2.5,\n",
    "    aspect=1)"
   ]
  },
  {
   "cell_type": "code",
   "execution_count": 286,
   "metadata": {},
   "outputs": [],
   "source": [
    "from sklearn.preprocessing import MinMaxScaler\n",
    "Scaler = MinMaxScaler()"
   ]
  },
  {
   "cell_type": "code",
   "execution_count": 287,
   "metadata": {},
   "outputs": [],
   "source": [
    "#train_dummies['dist_to_shoreline'] = Scaler.fit_transform(train_dummies[['dist_to_shoreline']])"
   ]
  },
  {
   "cell_type": "code",
   "execution_count": 288,
   "metadata": {},
   "outputs": [],
   "source": [
    "#test_dummies['dist_to_shoreline'] = Scaler.fit_transform(test_dummies[['dist_to_shoreline']])"
   ]
  },
  {
   "cell_type": "code",
   "execution_count": 383,
   "metadata": {},
   "outputs": [
    {
     "data": {
      "text/plain": [
       "((17163, 3), (4291, 3))"
      ]
     },
     "execution_count": 383,
     "metadata": {},
     "output_type": "execute_result"
    }
   ],
   "source": [
    "train_dummies.shape, test_dummies.shape"
   ]
  },
  {
   "cell_type": "code",
   "execution_count": 47,
   "metadata": {},
   "outputs": [
    {
     "data": {
      "text/plain": [
       "0.7370140371192497"
      ]
     },
     "execution_count": 47,
     "metadata": {},
     "output_type": "execute_result"
    }
   ],
   "source": [
    "from lightgbm import LGBMRegressor\n",
    "\n",
    "LGBM = LGBMRegressor(n_estimators = 390, max_depth=100,num_leaves=17, random_state = 2)\n",
    "LGBM.fit(X_train, y_train)\n",
    "LGBM.score(X_test, y_test)"
   ]
  },
  {
   "cell_type": "code",
   "execution_count": 48,
   "metadata": {},
   "outputs": [
    {
     "data": {
      "text/plain": [
       "0.09995070130119528"
      ]
     },
     "execution_count": 48,
     "metadata": {},
     "output_type": "execute_result"
    }
   ],
   "source": [
    "from sklearn.metrics import mean_squared_error as mse\n",
    "lgbm_preds = LGBM.predict(X_test)\n",
    "rmse = mse(y_test,lgbm_preds, squared = False)\n",
    "rmse"
   ]
  },
  {
   "cell_type": "code",
   "execution_count": 52,
   "metadata": {},
   "outputs": [
    {
     "data": {
      "text/plain": [
       "0.6609578555418345"
      ]
     },
     "execution_count": 52,
     "metadata": {},
     "output_type": "execute_result"
    }
   ],
   "source": [
    "from sklearn.ensemble import RandomForestRegressor\n",
    "RFC = RandomForestRegressor(n_estimators = 300, max_depth=10,max_leaf_nodes=17, random_state = 2)\n",
    "\n",
    "RFC.fit(X_train, y_train)\n",
    "RFC.score(X_test, y_test)"
   ]
  },
  {
   "cell_type": "code",
   "execution_count": 351,
   "metadata": {},
   "outputs": [
    {
     "data": {
      "text/plain": [
       "<matplotlib.collections.PathCollection at 0x7fcce091f220>"
      ]
     },
     "execution_count": 351,
     "metadata": {},
     "output_type": "execute_result"
    },
    {
     "data": {
      "image/png": "[encoded data removed]",
      "text/plain": [
       "<Figure size 432x288 with 1 Axes>"
      ]
     },
     "metadata": {
      "needs_background": "light"
     },
     "output_type": "display_data"
    }
   ],
   "source": [
    "from matplotlib import pyplot as plt\n",
    "plt.scatter(y_test, LGBM.predict(test_dummies), alpha=0.3)"
   ]
  },
  {
   "cell_type": "code",
   "execution_count": null,
   "metadata": {},
   "outputs": [],
   "source": []
  },
  {
   "cell_type": "code",
   "execution_count": 64,
   "metadata": {},
   "outputs": [
    {
     "data": {
      "text/plain": [
       "<AxesSubplot:xlabel='country', ylabel='count'>"
      ]
     },
     "execution_count": 64,
     "metadata": {},
     "output_type": "execute_result"
    },
    {
     "data": {
      "image/png": "[encoded data removed]",
      "text/plain": [
       "<Figure size 1440x1296 with 1 Axes>"
      ]
     },
     "metadata": {
      "needs_background": "light"
     },
     "output_type": "display_data"
    }
   ],
   "source": [
    "plt.figure(figsize = (20,18))\n",
    "sns.countplot(combined['country'])"
   ]
  },
  {
   "cell_type": "code",
   "execution_count": 65,
   "metadata": {},
   "outputs": [
    {
     "data": {
      "text/plain": [
       "{'Nigeria': 2695,\n",
       " 'Kenya': 2626,\n",
       " 'Tanzania': 2450,\n",
       " 'Malawi': 1957,\n",
       " 'Ethiopia': 1721,\n",
       " 'Uganda': 1584,\n",
       " 'Ghana': 1419,\n",
       " 'Mali': 1295,\n",
       " 'Zimbabwe': 1189,\n",
       " 'Cameroon': 1041,\n",
       " 'Zambia': 1038,\n",
       " 'Burkina Faso': 997,\n",
       " 'Rwanda': 984,\n",
       " 'Senegal': 903,\n",
       " 'Mozambique': 879,\n",
       " 'Angola': 855,\n",
       " 'Lesotho': 794,\n",
       " 'Sierra Leone': 785,\n",
       " 'Democratic Republic of Congo': 785,\n",
       " 'Benin': 746,\n",
       " 'Guinea': 593,\n",
       " \"Cote d'Ivoire\": 481,\n",
       " 'Togo': 330,\n",
       " 'Swaziland': 270,\n",
       " 'Central African Republic': 231}"
      ]
     },
     "execution_count": 65,
     "metadata": {},
     "output_type": "execute_result"
    }
   ],
   "source": [
    "c = combined.country.value_counts().to_dict()\n",
    "c"
   ]
  },
  {
   "cell_type": "code",
   "execution_count": 66,
   "metadata": {
    "collapsed": true,
    "jupyter": {
     "outputs_hidden": true
    },
    "tags": []
   },
   "outputs": [
    {
     "data": {
      "text/html": [
       "<div>\n",
       "<style scoped>\n",
       "    .dataframe tbody tr th:only-of-type {\n",
       "        vertical-align: middle;\n",
       "    }\n",
       "\n",
       "    .dataframe tbody tr th {\n",
       "        vertical-align: top;\n",
       "    }\n",
       "\n",
       "    .dataframe thead th {\n",
       "        text-align: right;\n",
       "    }\n",
       "</style>\n",
       "<table border=\"1\" class=\"dataframe\">\n",
       "  <thead>\n",
       "    <tr style=\"text-align: right;\">\n",
       "      <th></th>\n",
       "      <th>country</th>\n",
       "      <th>urban_or_rural</th>\n",
       "      <th>ghsl_water_surface</th>\n",
       "      <th>ghsl_built_pre_1975</th>\n",
       "      <th>ghsl_built_1975_to_1990</th>\n",
       "      <th>ghsl_built_1990_to_2000</th>\n",
       "      <th>ghsl_built_2000_to_2014</th>\n",
       "      <th>ghsl_not_built_up</th>\n",
       "      <th>ghsl_pop_density</th>\n",
       "      <th>landcover_crops_fraction</th>\n",
       "      <th>landcover_urban_fraction</th>\n",
       "      <th>landcover_water_permanent_10km_fraction</th>\n",
       "      <th>landcover_water_seasonal_10km_fraction</th>\n",
       "      <th>nighttime_lights</th>\n",
       "      <th>dist_to_capital</th>\n",
       "      <th>dist_to_shoreline</th>\n",
       "      <th>train</th>\n",
       "    </tr>\n",
       "  </thead>\n",
       "  <tbody>\n",
       "    <tr>\n",
       "      <th>0</th>\n",
       "      <td>1721</td>\n",
       "      <td>R</td>\n",
       "      <td>0.0</td>\n",
       "      <td>0.000000</td>\n",
       "      <td>0.000000</td>\n",
       "      <td>0.000055</td>\n",
       "      <td>0.000536</td>\n",
       "      <td>0.999408</td>\n",
       "      <td>12.146134</td>\n",
       "      <td>25.489659</td>\n",
       "      <td>0.879484</td>\n",
       "      <td>0.000000</td>\n",
       "      <td>0.000000</td>\n",
       "      <td>0.000000</td>\n",
       "      <td>278.788451</td>\n",
       "      <td>769.338378</td>\n",
       "      <td>1</td>\n",
       "    </tr>\n",
       "    <tr>\n",
       "      <th>1</th>\n",
       "      <td>1721</td>\n",
       "      <td>R</td>\n",
       "      <td>0.0</td>\n",
       "      <td>0.000000</td>\n",
       "      <td>0.000110</td>\n",
       "      <td>0.000000</td>\n",
       "      <td>0.000018</td>\n",
       "      <td>0.999872</td>\n",
       "      <td>113.806716</td>\n",
       "      <td>64.136053</td>\n",
       "      <td>0.601427</td>\n",
       "      <td>0.000000</td>\n",
       "      <td>0.005427</td>\n",
       "      <td>0.000000</td>\n",
       "      <td>200.986978</td>\n",
       "      <td>337.135243</td>\n",
       "      <td>1</td>\n",
       "    </tr>\n",
       "    <tr>\n",
       "      <th>2</th>\n",
       "      <td>879</td>\n",
       "      <td>R</td>\n",
       "      <td>0.0</td>\n",
       "      <td>0.000000</td>\n",
       "      <td>0.000000</td>\n",
       "      <td>0.000000</td>\n",
       "      <td>0.000000</td>\n",
       "      <td>1.000000</td>\n",
       "      <td>0.000000</td>\n",
       "      <td>4.400096</td>\n",
       "      <td>0.131900</td>\n",
       "      <td>0.000000</td>\n",
       "      <td>0.003078</td>\n",
       "      <td>0.000000</td>\n",
       "      <td>642.594208</td>\n",
       "      <td>169.913773</td>\n",
       "      <td>1</td>\n",
       "    </tr>\n",
       "    <tr>\n",
       "      <th>3</th>\n",
       "      <td>1957</td>\n",
       "      <td>R</td>\n",
       "      <td>0.0</td>\n",
       "      <td>0.000141</td>\n",
       "      <td>0.000181</td>\n",
       "      <td>0.000254</td>\n",
       "      <td>0.000228</td>\n",
       "      <td>0.999195</td>\n",
       "      <td>5.213320</td>\n",
       "      <td>25.379371</td>\n",
       "      <td>2.017136</td>\n",
       "      <td>11.293841</td>\n",
       "      <td>0.131035</td>\n",
       "      <td>0.000000</td>\n",
       "      <td>365.349451</td>\n",
       "      <td>613.591610</td>\n",
       "      <td>1</td>\n",
       "    </tr>\n",
       "    <tr>\n",
       "      <th>4</th>\n",
       "      <td>593</td>\n",
       "      <td>U</td>\n",
       "      <td>0.0</td>\n",
       "      <td>0.011649</td>\n",
       "      <td>0.017560</td>\n",
       "      <td>0.017383</td>\n",
       "      <td>0.099875</td>\n",
       "      <td>0.853533</td>\n",
       "      <td>31.734661</td>\n",
       "      <td>5.081620</td>\n",
       "      <td>22.815984</td>\n",
       "      <td>0.005047</td>\n",
       "      <td>0.130475</td>\n",
       "      <td>1.461894</td>\n",
       "      <td>222.867189</td>\n",
       "      <td>192.926363</td>\n",
       "      <td>1</td>\n",
       "    </tr>\n",
       "    <tr>\n",
       "      <th>5</th>\n",
       "      <td>1721</td>\n",
       "      <td>U</td>\n",
       "      <td>0.0</td>\n",
       "      <td>0.008623</td>\n",
       "      <td>0.019409</td>\n",
       "      <td>0.059886</td>\n",
       "      <td>0.082682</td>\n",
       "      <td>0.829400</td>\n",
       "      <td>203.580507</td>\n",
       "      <td>24.629433</td>\n",
       "      <td>31.235708</td>\n",
       "      <td>0.000000</td>\n",
       "      <td>0.008223</td>\n",
       "      <td>22.981970</td>\n",
       "      <td>9.803702</td>\n",
       "      <td>487.790852</td>\n",
       "      <td>1</td>\n",
       "    </tr>\n",
       "    <tr>\n",
       "      <th>6</th>\n",
       "      <td>1041</td>\n",
       "      <td>R</td>\n",
       "      <td>0.0</td>\n",
       "      <td>0.000131</td>\n",
       "      <td>0.000149</td>\n",
       "      <td>0.000168</td>\n",
       "      <td>0.000093</td>\n",
       "      <td>0.999458</td>\n",
       "      <td>0.342950</td>\n",
       "      <td>0.011798</td>\n",
       "      <td>0.251395</td>\n",
       "      <td>0.000000</td>\n",
       "      <td>0.000289</td>\n",
       "      <td>0.000000</td>\n",
       "      <td>290.621111</td>\n",
       "      <td>477.563353</td>\n",
       "      <td>1</td>\n",
       "    </tr>\n",
       "    <tr>\n",
       "      <th>7</th>\n",
       "      <td>1419</td>\n",
       "      <td>R</td>\n",
       "      <td>0.0</td>\n",
       "      <td>0.001298</td>\n",
       "      <td>0.001042</td>\n",
       "      <td>0.000219</td>\n",
       "      <td>0.000347</td>\n",
       "      <td>0.997094</td>\n",
       "      <td>14.340860</td>\n",
       "      <td>42.594576</td>\n",
       "      <td>4.180947</td>\n",
       "      <td>0.011511</td>\n",
       "      <td>0.112440</td>\n",
       "      <td>0.000000</td>\n",
       "      <td>438.103890</td>\n",
       "      <td>435.816271</td>\n",
       "      <td>1</td>\n",
       "    </tr>\n",
       "    <tr>\n",
       "      <th>8</th>\n",
       "      <td>903</td>\n",
       "      <td>U</td>\n",
       "      <td>0.0</td>\n",
       "      <td>0.000000</td>\n",
       "      <td>0.000751</td>\n",
       "      <td>0.001485</td>\n",
       "      <td>0.000035</td>\n",
       "      <td>0.997729</td>\n",
       "      <td>19.468199</td>\n",
       "      <td>11.332716</td>\n",
       "      <td>2.191206</td>\n",
       "      <td>0.410365</td>\n",
       "      <td>4.746894</td>\n",
       "      <td>0.528963</td>\n",
       "      <td>482.262914</td>\n",
       "      <td>320.867328</td>\n",
       "      <td>1</td>\n",
       "    </tr>\n",
       "    <tr>\n",
       "      <th>9</th>\n",
       "      <td>1721</td>\n",
       "      <td>R</td>\n",
       "      <td>0.0</td>\n",
       "      <td>0.000000</td>\n",
       "      <td>0.000000</td>\n",
       "      <td>0.000000</td>\n",
       "      <td>0.000000</td>\n",
       "      <td>1.000000</td>\n",
       "      <td>0.000000</td>\n",
       "      <td>1.105011</td>\n",
       "      <td>0.147196</td>\n",
       "      <td>0.000000</td>\n",
       "      <td>0.230172</td>\n",
       "      <td>0.000000</td>\n",
       "      <td>533.139137</td>\n",
       "      <td>1016.580304</td>\n",
       "      <td>1</td>\n",
       "    </tr>\n",
       "  </tbody>\n",
       "</table>\n",
       "</div>"
      ],
      "text/plain": [
       "   country urban_or_rural  ghsl_water_surface  ghsl_built_pre_1975  \\\n",
       "0     1721              R                 0.0             0.000000   \n",
       "1     1721              R                 0.0             0.000000   \n",
       "2      879              R                 0.0             0.000000   \n",
       "3     1957              R                 0.0             0.000141   \n",
       "4      593              U                 0.0             0.011649   \n",
       "5     1721              U                 0.0             0.008623   \n",
       "6     1041              R                 0.0             0.000131   \n",
       "7     1419              R                 0.0             0.001298   \n",
       "8      903              U                 0.0             0.000000   \n",
       "9     1721              R                 0.0             0.000000   \n",
       "\n",
       "   ghsl_built_1975_to_1990  ghsl_built_1990_to_2000  ghsl_built_2000_to_2014  \\\n",
       "0                 0.000000                 0.000055                 0.000536   \n",
       "1                 0.000110                 0.000000                 0.000018   \n",
       "2                 0.000000                 0.000000                 0.000000   \n",
       "3                 0.000181                 0.000254                 0.000228   \n",
       "4                 0.017560                 0.017383                 0.099875   \n",
       "5                 0.019409                 0.059886                 0.082682   \n",
       "6                 0.000149                 0.000168                 0.000093   \n",
       "7                 0.001042                 0.000219                 0.000347   \n",
       "8                 0.000751                 0.001485                 0.000035   \n",
       "9                 0.000000                 0.000000                 0.000000   \n",
       "\n",
       "   ghsl_not_built_up  ghsl_pop_density  landcover_crops_fraction  \\\n",
       "0           0.999408         12.146134                 25.489659   \n",
       "1           0.999872        113.806716                 64.136053   \n",
       "2           1.000000          0.000000                  4.400096   \n",
       "3           0.999195          5.213320                 25.379371   \n",
       "4           0.853533         31.734661                  5.081620   \n",
       "5           0.829400        203.580507                 24.629433   \n",
       "6           0.999458          0.342950                  0.011798   \n",
       "7           0.997094         14.340860                 42.594576   \n",
       "8           0.997729         19.468199                 11.332716   \n",
       "9           1.000000          0.000000                  1.105011   \n",
       "\n",
       "   landcover_urban_fraction  landcover_water_permanent_10km_fraction  \\\n",
       "0                  0.879484                                 0.000000   \n",
       "1                  0.601427                                 0.000000   \n",
       "2                  0.131900                                 0.000000   \n",
       "3                  2.017136                                11.293841   \n",
       "4                 22.815984                                 0.005047   \n",
       "5                 31.235708                                 0.000000   \n",
       "6                  0.251395                                 0.000000   \n",
       "7                  4.180947                                 0.011511   \n",
       "8                  2.191206                                 0.410365   \n",
       "9                  0.147196                                 0.000000   \n",
       "\n",
       "   landcover_water_seasonal_10km_fraction  nighttime_lights  dist_to_capital  \\\n",
       "0                                0.000000          0.000000       278.788451   \n",
       "1                                0.005427          0.000000       200.986978   \n",
       "2                                0.003078          0.000000       642.594208   \n",
       "3                                0.131035          0.000000       365.349451   \n",
       "4                                0.130475          1.461894       222.867189   \n",
       "5                                0.008223         22.981970         9.803702   \n",
       "6                                0.000289          0.000000       290.621111   \n",
       "7                                0.112440          0.000000       438.103890   \n",
       "8                                4.746894          0.528963       482.262914   \n",
       "9                                0.230172          0.000000       533.139137   \n",
       "\n",
       "   dist_to_shoreline  train  \n",
       "0         769.338378      1  \n",
       "1         337.135243      1  \n",
       "2         169.913773      1  \n",
       "3         613.591610      1  \n",
       "4         192.926363      1  \n",
       "5         487.790852      1  \n",
       "6         477.563353      1  \n",
       "7         435.816271      1  \n",
       "8         320.867328      1  \n",
       "9        1016.580304      1  "
      ]
     },
     "execution_count": 66,
     "metadata": {},
     "output_type": "execute_result"
    }
   ],
   "source": [
    "combined.country = combined.country.map(c)\n",
    "combined.head(10)"
   ]
  },
  {
   "cell_type": "code",
   "execution_count": 67,
   "metadata": {},
   "outputs": [],
   "source": [
    "train_data = combined[combined['train']==1]\n",
    "test_data = combined[combined['train']==0]"
   ]
  },
  {
   "cell_type": "code",
   "execution_count": 68,
   "metadata": {},
   "outputs": [],
   "source": [
    "train_data.drop('train', axis = 1, inplace = True)\n",
    "test_data.drop('train', axis = 1, inplace = True)"
   ]
  },
  {
   "cell_type": "code",
   "execution_count": 69,
   "metadata": {},
   "outputs": [
    {
     "data": {
      "image/png": "[encoded data removed]",
      "text/plain": [
       "<Figure size 1440x1296 with 2 Axes>"
      ]
     },
     "metadata": {
      "needs_background": "light"
     },
     "output_type": "display_data"
    }
   ],
   "source": [
    "plt.figure(figsize = (20,18))\n",
    "sns.heatmap(train_data.corr(), annot = True, cmap = 'coolwarm')\n",
    "plt.show()"
   ]
  },
  {
   "cell_type": "code",
   "execution_count": 70,
   "metadata": {},
   "outputs": [],
   "source": [
    "# def correlation(dataset, threshold):\n",
    "#     col_corr = set()  # Set of all the names of correlated columns\n",
    "#     corr_matrix = dataset.corr()\n",
    "#     for i in range(len(corr_matrix.columns)):\n",
    "#         for j in range(i):\n",
    "#             if abs(corr_matrix.iloc[i, j]) > threshold: # we are interested in absolute coeff value\n",
    "#                 colname = corr_matrix.columns[i]  # getting the name of column\n",
    "#                 col_corr.add(colname)\n",
    "#     return col_corr"
   ]
  },
  {
   "cell_type": "code",
   "execution_count": 71,
   "metadata": {},
   "outputs": [],
   "source": [
    "# corr_features = correlation(train_data, 0.55)\n",
    "# len(set(corr_features))"
   ]
  },
  {
   "cell_type": "code",
   "execution_count": 28,
   "metadata": {},
   "outputs": [
    {
     "data": {
      "text/plain": [
       "{'ghsl_not_built_up',\n",
       " 'ghsl_pop_density',\n",
       " 'landcover_urban_fraction',\n",
       " 'landcover_water_permanent_10km_fraction',\n",
       " 'nighttime_lights'}"
      ]
     },
     "execution_count": 28,
     "metadata": {},
     "output_type": "execute_result"
    }
   ],
   "source": [
    "# corr_features"
   ]
  },
  {
   "cell_type": "code",
   "execution_count": 29,
   "metadata": {},
   "outputs": [],
   "source": [
    "# cols = ['ghsl_not_built_up',\n",
    "#  'ghsl_pop_density',\n",
    "#  'landcover_urban_fraction',\n",
    "#  'landcover_water_permanent_10km_fraction',\n",
    "#  'nighttime_lights']\n",
    "\n",
    "# train_data.drop(cols, axis = 1, inplace = True)"
   ]
  },
  {
   "cell_type": "code",
   "execution_count": 33,
   "metadata": {},
   "outputs": [],
   "source": [
    "t#est_data.drop(cols, axis = 1, inplace = True)"
   ]
  },
  {
   "cell_type": "code",
   "execution_count": 34,
   "metadata": {},
   "outputs": [
    {
     "data": {
      "text/plain": [
       "((21454, 11), (7194, 11))"
      ]
     },
     "execution_count": 34,
     "metadata": {},
     "output_type": "execute_result"
    }
   ],
   "source": [
    "#train_data.shape, test_data.shape"
   ]
  },
  {
   "cell_type": "code",
   "execution_count": 72,
   "metadata": {},
   "outputs": [
    {
     "data": {
      "text/plain": [
       "((21454, 16), (7194, 16))"
      ]
     },
     "execution_count": 72,
     "metadata": {},
     "output_type": "execute_result"
    }
   ],
   "source": [
    "train_dummies = pd.get_dummies(train_data, columns =['urban_or_rural'], drop_first = True)\n",
    "test_dummies = pd.get_dummies(test_data, columns =['urban_or_rural'], drop_first = True)\n",
    "train_dummies.shape, test_dummies.shape"
   ]
  },
  {
   "cell_type": "code",
   "execution_count": 90,
   "metadata": {},
   "outputs": [],
   "source": [
    "from sklearn.preprocessing import MinMaxScaler\n",
    "scaler = MinMaxScaler()\n",
    "X_train[['country', 'dist_to_capital']] = scaler.fit_transform(X_train[['country', 'dist_to_capital']])"
   ]
  },
  {
   "cell_type": "code",
   "execution_count": 93,
   "metadata": {},
   "outputs": [],
   "source": [
    "X_test[['country', 'dist_to_capital']] = scaler.fit_transform(X_test[['country', 'dist_to_capital']])"
   ]
  },
  {
   "cell_type": "code",
   "execution_count": 73,
   "metadata": {},
   "outputs": [],
   "source": [
    "X_train, X_test, y_train, y_test = my_split_func(train_dummies, train_copy.Target)"
   ]
  },
  {
   "cell_type": "code",
   "execution_count": 96,
   "metadata": {},
   "outputs": [
    {
     "data": {
      "text/plain": [
       "(17163, 16)"
      ]
     },
     "execution_count": 96,
     "metadata": {},
     "output_type": "execute_result"
    }
   ],
   "source": [
    "X_train.shape"
   ]
  },
  {
   "cell_type": "code",
   "execution_count": 97,
   "metadata": {},
   "outputs": [
    {
     "data": {
      "text/plain": [
       "0.7435994767482623"
      ]
     },
     "execution_count": 97,
     "metadata": {},
     "output_type": "execute_result"
    }
   ],
   "source": [
    "from lightgbm import LGBMRegressor\n",
    "\n",
    "LGBM = LGBMRegressor(n_estimators = 130, random_state = 2)\n",
    "LGBM.fit(X_train, y_train)\n",
    "LGBM.score(X_test, y_test)"
   ]
  },
  {
   "cell_type": "code",
   "execution_count": 100,
   "metadata": {},
   "outputs": [
    {
     "data": {
      "text/plain": [
       "0.09731912472567882"
      ]
     },
     "execution_count": 100,
     "metadata": {},
     "output_type": "execute_result"
    }
   ],
   "source": [
    "from sklearn.metrics import mean_squared_error as mse\n",
    "lgbm_preds = LGBM.predict(X_test)\n",
    "rmse = mse(y_test,lgbm_preds, squared = False)\n",
    "rmse"
   ]
  },
  {
   "cell_type": "code",
   "execution_count": null,
   "metadata": {},
   "outputs": [],
   "source": [
    "from catboost import CatBoostRegressor\n",
    "\n",
    "CBR = CatBoostRegressor(random_seed = 20)\n",
    "\n",
    "CBR.fit(X_train, y_train)\n",
    "CBR.score(X_test,y_test)"
   ]
  },
  {
   "cell_type": "code",
   "execution_count": 99,
   "metadata": {},
   "outputs": [
    {
     "data": {
      "text/plain": [
       "0.7329834855005566"
      ]
     },
     "execution_count": 99,
     "metadata": {},
     "output_type": "execute_result"
    }
   ],
   "source": [
    "from sklearn.ensemble import RandomForestRegressor\n",
    "RFC = RandomForestRegressor(n_estimators = 120, random_state = 4)\n",
    "\n",
    "RFC.fit(X_train, y_train)\n",
    "RFC.score(X_test, y_test)"
   ]
  },
  {
   "cell_type": "code",
   "execution_count": 78,
   "metadata": {},
   "outputs": [
    {
     "data": {
      "text/plain": [
       "0.09956789438078707"
      ]
     },
     "execution_count": 78,
     "metadata": {},
     "output_type": "execute_result"
    }
   ],
   "source": [
    "rfc_preds = RFC.predict(X_test)\n",
    "rmse = np.sqrt(mse(y_test,rfc_preds))\n",
    "rmse"
   ]
  },
  {
   "cell_type": "code",
   "execution_count": 80,
   "metadata": {},
   "outputs": [
    {
     "data": {
      "text/plain": [
       "0.7307587787729704"
      ]
     },
     "execution_count": 80,
     "metadata": {},
     "output_type": "execute_result"
    }
   ],
   "source": [
    "from xgboost import XGBRegressor\n",
    "XGBR = XGBRegressor(n_estimators=120, random_state = 100)\n",
    "XGBR.fit(X_train,y_train)\n",
    "XGBR.score(X_test,y_test)"
   ]
  },
  {
   "cell_type": "code",
   "execution_count": null,
   "metadata": {},
   "outputs": [],
   "source": []
  },
  {
   "cell_type": "code",
   "execution_count": null,
   "metadata": {},
   "outputs": [],
   "source": []
  },
  {
   "cell_type": "code",
   "execution_count": null,
   "metadata": {},
   "outputs": [],
   "source": []
  },
  {
   "cell_type": "code",
   "execution_count": 39,
   "metadata": {},
   "outputs": [],
   "source": [
    "from sklearn.preprocessing import MinMaxScaler\n",
    "scaler = MinMaxScaler()"
   ]
  },
  {
   "cell_type": "code",
   "execution_count": null,
   "metadata": {},
   "outputs": [],
   "source": []
  },
  {
   "cell_type": "code",
   "execution_count": null,
   "metadata": {},
   "outputs": [],
   "source": []
  },
  {
   "cell_type": "code",
   "execution_count": 193,
   "metadata": {},
   "outputs": [
    {
     "data": {
      "text/plain": [
       "((21454, 41), (7194, 41))"
      ]
     },
     "execution_count": 193,
     "metadata": {},
     "output_type": "execute_result"
    }
   ],
   "source": [
    "df_train.shape, df_test.shape"
   ]
  },
  {
   "cell_type": "code",
   "execution_count": 194,
   "metadata": {},
   "outputs": [],
   "source": [
    "X=df_train\n",
    "y=train_copy.Target"
   ]
  },
  {
   "cell_type": "code",
   "execution_count": 195,
   "metadata": {},
   "outputs": [
    {
     "data": {
      "text/plain": [
       "(21454,)"
      ]
     },
     "execution_count": 195,
     "metadata": {},
     "output_type": "execute_result"
    }
   ],
   "source": [
    "train_copy.Target.shape"
   ]
  },
  {
   "cell_type": "code",
   "execution_count": null,
   "metadata": {},
   "outputs": [],
   "source": []
  },
  {
   "cell_type": "code",
   "execution_count": 180,
   "metadata": {},
   "outputs": [
    {
     "data": {
      "image/png": "[encoded data removed]",
      "text/plain": [
       "<Figure size 432x288 with 1 Axes>"
      ]
     },
     "metadata": {
      "needs_background": "light"
     },
     "output_type": "display_data"
    }
   ],
   "source": [
    "from scipy.stats import norm, skew\n",
    "\n",
    "\n",
    "#train['target'] = np.log1p(train['Target'])\n",
    "sns.distplot(train_copy['Target'], fit=norm);"
   ]
  },
  {
   "cell_type": "code",
   "execution_count": null,
   "metadata": {},
   "outputs": [],
   "source": [
    "print(\"Skewness: %f\" % train['Target'].skew())\n",
    "print(\"Kurtosis: %f\" % train['Target'].kurt())"
   ]
  },
  {
   "cell_type": "code",
   "execution_count": null,
   "metadata": {},
   "outputs": [],
   "source": [
    "td = train.drop(['ID', 'year', 'Target'], axis = 'columns')\n",
    "tsd = test.drop(['ID', 'year'], axis = 'columns')\n",
    "\n",
    "td.shape, tsd.shape"
   ]
  },
  {
   "cell_type": "code",
   "execution_count": null,
   "metadata": {},
   "outputs": [],
   "source": [
    "td1 = pd.get_dummies(td, columns = ['urban_or_rural', 'country'], drop_first = False)\n",
    "tsd1 = pd.get_dummies(tsd, columns = ['urban_or_rural', 'country'], drop_first = True)\n",
    "\n",
    "td1.shape, tsd1.shape"
   ]
  },
  {
   "cell_type": "code",
   "execution_count": null,
   "metadata": {},
   "outputs": [],
   "source": [
    "from sklearn.preprocessing import StandardScaler\n",
    "scaler = StandardScaler()\n",
    "scaler.fit(td1)\n",
    "scaled_data = scaler.transform(td1)"
   ]
  },
  {
   "cell_type": "code",
   "execution_count": null,
   "metadata": {},
   "outputs": [],
   "source": [
    "from sklearn.decomposition import PCA\n",
    "pca = PCA(n_components=21)\n",
    "pca.fit(scaled_data)\n",
    "\n",
    "td_pca = pca.transform(scaled_data)"
   ]
  },
  {
   "cell_type": "code",
   "execution_count": null,
   "metadata": {},
   "outputs": [],
   "source": [
    "td_pca.shape"
   ]
  },
  {
   "cell_type": "code",
   "execution_count": null,
   "metadata": {},
   "outputs": [],
   "source": [
    "X = td_pca\n",
    "y = train.Target"
   ]
  },
  {
   "cell_type": "code",
   "execution_count": null,
   "metadata": {},
   "outputs": [],
   "source": [
    "X.shape, y.shape"
   ]
  },
  {
   "cell_type": "code",
   "execution_count": 198,
   "metadata": {},
   "outputs": [],
   "source": [
    "X_train, X_test, y_train, y_test =my_split_func(X,y)"
   ]
  },
  {
   "cell_type": "code",
   "execution_count": 199,
   "metadata": {},
   "outputs": [
    {
     "data": {
      "text/plain": [
       "array([3.28332156e-02, 2.55219837e-01, 2.81687206e-01, 2.48910820e-01,\n",
       "       1.95912095e-01, 2.65378031e-01, 2.99425200e-01, 8.01502334e-02,\n",
       "       3.97348873e-01, 6.22056537e-02, 6.36612266e-02, 3.95575354e-01,\n",
       "       1.26823116e-01, 1.24152575e-01, 1.33226763e-15, 1.33226763e-15,\n",
       "       1.33226763e-15, 2.48904689e-03, 4.69075823e-03, 3.98181926e-03,\n",
       "       1.33226763e-15, 7.19583881e-02, 1.62951960e-02, 5.20288335e-03,\n",
       "       4.15194735e-03, 2.44104094e-03, 2.77996152e-02, 6.80217476e-04,\n",
       "       2.60700011e-03, 2.05569140e-02, 1.02037818e-02, 9.46033327e-03,\n",
       "       8.27145669e-04, 5.92861492e-03, 9.66822476e-03, 4.74934476e-03,\n",
       "       1.33226763e-15, 1.33226763e-15, 1.33226763e-15, 2.72347274e-01,\n",
       "       2.72347274e-01])"
      ]
     },
     "execution_count": 199,
     "metadata": {},
     "output_type": "execute_result"
    }
   ],
   "source": [
    "from sklearn.feature_selection import mutual_info_regression\n",
    "# determine the mutual information\n",
    "mutual_info = mutual_info_regression(X_train, y_train)\n",
    "mutual_info"
   ]
  },
  {
   "cell_type": "code",
   "execution_count": 200,
   "metadata": {},
   "outputs": [
    {
     "data": {
      "text/plain": [
       "landcover_urban_fraction                   3.973489e-01\n",
       "nighttime_lights                           3.955754e-01\n",
       "ghsl_pop_density                           2.994252e-01\n",
       "ghsl_built_1975_to_1990                    2.816872e-01\n",
       "urban_or_rural_U                           2.723473e-01\n",
       "urban_or_rural_R                           2.723473e-01\n",
       "ghsl_not_built_up                          2.653780e-01\n",
       "ghsl_built_pre_1975                        2.552198e-01\n",
       "ghsl_built_1990_to_2000                    2.489108e-01\n",
       "ghsl_built_2000_to_2014                    1.959121e-01\n",
       "dist_to_capital                            1.268231e-01\n",
       "dist_to_shoreline                          1.241526e-01\n",
       "landcover_crops_fraction                   8.015023e-02\n",
       "country_Ethiopia                           7.195839e-02\n",
       "landcover_water_seasonal_10km_fraction     6.366123e-02\n",
       "landcover_water_permanent_10km_fraction    6.220565e-02\n",
       "ghsl_water_surface                         3.283322e-02\n",
       "country_Malawi                             2.779962e-02\n",
       "country_Nigeria                            2.055691e-02\n",
       "country_Ghana                              1.629520e-02\n",
       "country_Rwanda                             1.020378e-02\n",
       "country_Tanzania                           9.668225e-03\n",
       "country_Senegal                            9.460333e-03\n",
       "country_Swaziland                          5.928615e-03\n",
       "country_Guinea                             5.202883e-03\n",
       "country_Togo                               4.749345e-03\n",
       "country_Central African Republic           4.690758e-03\n",
       "country_Kenya                              4.151947e-03\n",
       "country_Cote d'Ivoire                      3.981819e-03\n",
       "country_Mozambique                         2.607000e-03\n",
       "country_Cameroon                           2.489047e-03\n",
       "country_Lesotho                            2.441041e-03\n",
       "country_Sierra Leone                       8.271457e-04\n",
       "country_Mali                               6.802175e-04\n",
       "country_Angola                             1.332268e-15\n",
       "country_Benin                              1.332268e-15\n",
       "country_Burkina Faso                       1.332268e-15\n",
       "country_Uganda                             1.332268e-15\n",
       "country_Zambia                             1.332268e-15\n",
       "country_Zimbabwe                           1.332268e-15\n",
       "country_Democratic Republic of Congo       1.332268e-15\n",
       "dtype: float64"
      ]
     },
     "execution_count": 200,
     "metadata": {},
     "output_type": "execute_result"
    }
   ],
   "source": [
    "mutual_info = pd.Series(mutual_info)\n",
    "mutual_info.index = X_train.columns\n",
    "mutual_info.sort_values(ascending=False)"
   ]
  },
  {
   "cell_type": "code",
   "execution_count": 201,
   "metadata": {},
   "outputs": [
    {
     "data": {
      "text/plain": [
       "<AxesSubplot:>"
      ]
     },
     "execution_count": 201,
     "metadata": {},
     "output_type": "execute_result"
    },
    {
     "data": {
      "image/png": "[encoded data removed]",
      "text/plain": [
       "<Figure size 1080x360 with 1 Axes>"
      ]
     },
     "metadata": {
      "needs_background": "light"
     },
     "output_type": "display_data"
    }
   ],
   "source": [
    "mutual_info.sort_values(ascending=False).plot.bar(figsize=(15,5))"
   ]
  },
  {
   "cell_type": "code",
   "execution_count": 202,
   "metadata": {},
   "outputs": [
    {
     "data": {
      "text/plain": [
       "SelectPercentile(percentile=50,\n",
       "                 score_func=<function mutual_info_regression at 0x7f04bee28f70>)"
      ]
     },
     "execution_count": 202,
     "metadata": {},
     "output_type": "execute_result"
    }
   ],
   "source": [
    "from sklearn.feature_selection import SelectPercentile\n",
    "## Selecting the top 20 percentile\n",
    "selected_top_columns = SelectPercentile(mutual_info_regression, percentile=50)\n",
    "selected_top_columns.fit(X_train, y_train)"
   ]
  },
  {
   "cell_type": "code",
   "execution_count": 203,
   "metadata": {},
   "outputs": [
    {
     "data": {
      "text/plain": [
       "Index(['ghsl_water_surface', 'ghsl_built_pre_1975', 'ghsl_built_1975_to_1990',\n",
       "       'ghsl_built_1990_to_2000', 'ghsl_built_2000_to_2014',\n",
       "       'ghsl_not_built_up', 'ghsl_pop_density', 'landcover_crops_fraction',\n",
       "       'landcover_urban_fraction', 'landcover_water_permanent_10km_fraction',\n",
       "       'landcover_water_seasonal_10km_fraction', 'nighttime_lights',\n",
       "       'dist_to_capital', 'dist_to_shoreline', 'country_Ethiopia',\n",
       "       'country_Ghana', 'country_Malawi', 'country_Nigeria',\n",
       "       'urban_or_rural_R', 'urban_or_rural_U'],\n",
       "      dtype='object')"
      ]
     },
     "execution_count": 203,
     "metadata": {},
     "output_type": "execute_result"
    }
   ],
   "source": [
    "X_train.columns[selected_top_columns.get_support()]"
   ]
  },
  {
   "cell_type": "code",
   "execution_count": 217,
   "metadata": {},
   "outputs": [],
   "source": [
    "use_cols = ['ghsl_water_surface', 'ghsl_built_pre_1975', 'ghsl_built_1975_to_1990',\n",
    "       'ghsl_built_1990_to_2000', 'ghsl_built_2000_to_2014',\n",
    "       'ghsl_not_built_up', 'ghsl_pop_density', 'landcover_crops_fraction',\n",
    "        'landcover_water_permanent_10km_fraction',\n",
    "       'landcover_water_seasonal_10km_fraction', 'nighttime_lights',\n",
    "       'dist_to_capital', 'dist_to_shoreline', 'country_Ethiopia',\n",
    "       'country_Ghana', 'country_Malawi', 'country_Nigeria',\n",
    "       'urban_or_rural_R']"
   ]
  },
  {
   "cell_type": "code",
   "execution_count": 220,
   "metadata": {},
   "outputs": [
    {
     "data": {
      "text/plain": [
       "((16090, 18), (5364, 18), (7194, 18))"
      ]
     },
     "execution_count": 220,
     "metadata": {},
     "output_type": "execute_result"
    }
   ],
   "source": [
    "X_train_new = X_train[use_cols]\n",
    "X_test_new = X_test[use_cols]\n",
    "df_test_new = df_test[use_cols]\n",
    "X_train_new.shape,X_test_new.shape, df_test_new.shape"
   ]
  },
  {
   "cell_type": "code",
   "execution_count": null,
   "metadata": {},
   "outputs": [],
   "source": [
    "df_test_new = df_test[use_cols]"
   ]
  },
  {
   "cell_type": "code",
   "execution_count": 245,
   "metadata": {},
   "outputs": [
    {
     "data": {
      "text/plain": [
       "<AxesSubplot:>"
      ]
     },
     "execution_count": 245,
     "metadata": {},
     "output_type": "execute_result"
    },
    {
     "data": {
      "image/png": "[encoded data removed]",
      "text/plain": [
       "<Figure size 1440x1440 with 2 Axes>"
      ]
     },
     "metadata": {
      "needs_background": "light"
     },
     "output_type": "display_data"
    }
   ],
   "source": [
    "import seaborn as sns\n",
    "corr=X_train_new.corr()\n",
    "plt.figure(figsize=(20,20))\n",
    "sns.heatmap(corr,annot=True)"
   ]
  },
  {
   "cell_type": "code",
   "execution_count": 86,
   "metadata": {},
   "outputs": [],
   "source": [
    "# import seaborn as sns\n",
    "# import matplotlib.pyplot as plt\n",
    "# %matplotlib inline\n",
    "# #Using Pearson Correlation\n",
    "# plt.figure(figsize=(12,10))\n",
    "# cor = X_train.corr()\n",
    "# sns.heatmap(cor, annot=True, square=True,cmap=plt.cm.CMRmap_r)\n",
    "# plt.show()"
   ]
  },
  {
   "cell_type": "code",
   "execution_count": 211,
   "metadata": {},
   "outputs": [],
   "source": [
    "def correlation(dataset, threshold):\n",
    "    col_corr = set()  # Set of all the names of correlated columns\n",
    "    corr_matrix = dataset.corr()\n",
    "    for i in range(len(corr_matrix.columns)):\n",
    "        for j in range(i):\n",
    "            if abs(corr_matrix.iloc[i, j]) > threshold: # we are interested in absolute coeff value\n",
    "                colname = corr_matrix.columns[i]  # getting the name of column\n",
    "                col_corr.add(colname)\n",
    "    return col_corr"
   ]
  },
  {
   "cell_type": "code",
   "execution_count": 216,
   "metadata": {},
   "outputs": [
    {
     "data": {
      "text/plain": [
       "1"
      ]
     },
     "execution_count": 216,
     "metadata": {},
     "output_type": "execute_result"
    }
   ],
   "source": [
    "corr_features = correlation(X_train_new, 0.85)\n",
    "len(set(corr_features))"
   ]
  },
  {
   "cell_type": "code",
   "execution_count": 215,
   "metadata": {},
   "outputs": [
    {
     "data": {
      "text/plain": [
       "{'landcover_urban_fraction', 'nighttime_lights'}"
      ]
     },
     "execution_count": 215,
     "metadata": {},
     "output_type": "execute_result"
    }
   ],
   "source": [
    "corr_features"
   ]
  },
  {
   "cell_type": "code",
   "execution_count": 153,
   "metadata": {},
   "outputs": [],
   "source": [
    "cols_drop = ['landcover_urban_fraction', 'urban_or_rural_U']\n",
    "X_train.drop(cols_drop, axis = 1, inplace = True)\n",
    "X_test.drop(cols_drop, axis = 1, inplace = True)\n",
    "df_test.drop(cols_drop, axis = 1, inplace = True)"
   ]
  },
  {
   "cell_type": "code",
   "execution_count": 154,
   "metadata": {},
   "outputs": [
    {
     "data": {
      "text/plain": [
       "((16090, 37), (5364, 37), (7194, 37))"
      ]
     },
     "execution_count": 154,
     "metadata": {},
     "output_type": "execute_result"
    }
   ],
   "source": [
    "X_train.shape,X_test.shape,df_test.shape"
   ]
  },
  {
   "cell_type": "code",
   "execution_count": 56,
   "metadata": {},
   "outputs": [],
   "source": [
    "import tensorflow as tf\n",
    "from tensorflow import keras\n",
    "import pandas as pd"
   ]
  },
  {
   "cell_type": "code",
   "execution_count": 69,
   "metadata": {},
   "outputs": [],
   "source": [
    "def my_reg_ANN():\n",
    "    \"\"\"\n",
    "    Some standard imports for the ANN\n",
    "    \n",
    "    \"\"\"\n",
    "    \n",
    "    ### building layers with regularizations\n",
    "    \n",
    "    model =   keras.Sequential([\n",
    "    keras.layers.Dense(units = 300, kernel_initializer = 'he_uniform', \n",
    "                       input_shape = (17,)),\n",
    "    keras.layers.Dropout(0.5),\n",
    "    keras.layers.Dense(100, kernel_initializer = 'he_uniform', activation = 'relu'),\n",
    "    keras.layers.Dropout(0.5),\n",
    "    keras.layers.Dense(50, kernel_initializer = 'he_uniform', activation = 'relu'),\n",
    "    keras.layers.Dropout(0.5),\n",
    "    keras.layers.Dense(len(y_train), kernel_initializer = 'he_uniform')\n",
    "    ])\n",
    "    \n",
    "    #tb_callback = tf.keras.callbacks.TensorBoard(log_dir = 'logs/', histogram_freq =1)\n",
    "\n",
    "    model.compile(\n",
    "    optimizer = 'adam',\n",
    "    loss = 'mse', metrics = ['mse']\n",
    "    )\n",
    "\n",
    "    \n",
    "    \n",
    "    return model"
   ]
  },
  {
   "cell_type": "code",
   "execution_count": 70,
   "metadata": {},
   "outputs": [
    {
     "name": "stdout",
     "output_type": "stream",
     "text": [
      "Epoch 1/15\n",
      "1717/1717 [==============================] - 153s 89ms/step - loss: 40039.5123 - mse: 40039.5123 - val_loss: 0.1623 - val_mse: 0.1623\n",
      "Epoch 2/15\n",
      "1717/1717 [==============================] - 147s 86ms/step - loss: 100.1935 - mse: 100.1935 - val_loss: 0.1403 - val_mse: 0.1403\n",
      "Epoch 3/15\n",
      "1717/1717 [==============================] - 145s 85ms/step - loss: 18.6194 - mse: 18.6194 - val_loss: 0.0982 - val_mse: 0.0982\n",
      "Epoch 4/15\n",
      "1717/1717 [==============================] - 147s 86ms/step - loss: 7.3408 - mse: 7.3408 - val_loss: 0.0577 - val_mse: 0.0577\n",
      "Epoch 5/15\n",
      "1717/1717 [==============================] - 137s 80ms/step - loss: 3.5209 - mse: 3.5209 - val_loss: 0.0405 - val_mse: 0.0405\n",
      "Epoch 6/15\n",
      "1717/1717 [==============================] - 143s 83ms/step - loss: 0.8755 - mse: 0.8755 - val_loss: 0.0381 - val_mse: 0.0381\n",
      "Epoch 7/15\n",
      "1717/1717 [==============================] - 146s 85ms/step - loss: 2.1625 - mse: 2.1625 - val_loss: 0.0380 - val_mse: 0.0380\n",
      "Epoch 8/15\n",
      "1717/1717 [==============================] - 136s 79ms/step - loss: 1.5568 - mse: 1.5568 - val_loss: 0.0381 - val_mse: 0.0381\n",
      "Epoch 9/15\n",
      "1717/1717 [==============================] - 141s 82ms/step - loss: 0.6065 - mse: 0.6065 - val_loss: 0.0383 - val_mse: 0.0383\n",
      "Epoch 10/15\n",
      "1717/1717 [==============================] - 143s 83ms/step - loss: 0.0723 - mse: 0.0723 - val_loss: 0.0380 - val_mse: 0.0380\n",
      "Epoch 11/15\n",
      "1717/1717 [==============================] - 138s 81ms/step - loss: 1.7908 - mse: 1.7908 - val_loss: 0.0380 - val_mse: 0.0380\n",
      "Epoch 12/15\n",
      "1717/1717 [==============================] - 139s 81ms/step - loss: 3.0718 - mse: 3.0718 - val_loss: 0.0380 - val_mse: 0.0380\n",
      "Epoch 13/15\n",
      "1717/1717 [==============================] - 140s 81ms/step - loss: 0.0379 - mse: 0.0379 - val_loss: 0.0380 - val_mse: 0.0380\n",
      "Epoch 14/15\n",
      "1717/1717 [==============================] - 142s 83ms/step - loss: 0.0556 - mse: 0.0556 - val_loss: 0.0380 - val_mse: 0.0380\n",
      "Epoch 15/15\n",
      "1717/1717 [==============================] - 139s 81ms/step - loss: 0.0385 - mse: 0.0385 - val_loss: 0.0380 - val_mse: 0.0380\n"
     ]
    },
    {
     "data": {
      "text/plain": [
       "<tensorflow.python.keras.callbacks.History at 0x7f887867f2b0>"
      ]
     },
     "execution_count": 70,
     "metadata": {},
     "output_type": "execute_result"
    }
   ],
   "source": [
    "model = my_reg_ANN()\n",
    "model.fit(X_train, y_train, batch_size=10, validation_data=(X_test,y_test), epochs=15)"
   ]
  },
  {
   "cell_type": "code",
   "execution_count": 71,
   "metadata": {},
   "outputs": [
    {
     "data": {
      "text/plain": [
       "array([[0.35448846, 0.35445473, 0.3545156 , ..., 0.3546398 , 0.3541046 ,\n",
       "        0.3540383 ],\n",
       "       [0.35448846, 0.35445473, 0.3545156 , ..., 0.3546398 , 0.3541046 ,\n",
       "        0.3540383 ],\n",
       "       [0.35448846, 0.35445473, 0.3545156 , ..., 0.3546398 , 0.3541046 ,\n",
       "        0.3540383 ],\n",
       "       ...,\n",
       "       [0.35448846, 0.35445473, 0.3545156 , ..., 0.3546398 , 0.3541046 ,\n",
       "        0.3540383 ],\n",
       "       [0.35448846, 0.35445473, 0.3545156 , ..., 0.3546398 , 0.3541046 ,\n",
       "        0.3540383 ],\n",
       "       [0.35448846, 0.35445473, 0.3545156 , ..., 0.3546398 , 0.3541046 ,\n",
       "        0.3540383 ]], dtype=float32)"
      ]
     },
     "execution_count": 71,
     "metadata": {},
     "output_type": "execute_result"
    }
   ],
   "source": [
    "model.predict(X_test)[:10]"
   ]
  },
  {
   "cell_type": "code",
   "execution_count": 24,
   "metadata": {},
   "outputs": [],
   "source": [
    "sm = pd.read_csv('SampleSubmission.csv')"
   ]
  },
  {
   "cell_type": "code",
   "execution_count": 25,
   "metadata": {},
   "outputs": [
    {
     "data": {
      "text/plain": [
       "(7194, 2)"
      ]
     },
     "execution_count": 25,
     "metadata": {},
     "output_type": "execute_result"
    }
   ],
   "source": [
    "sm.shape"
   ]
  },
  {
   "cell_type": "code",
   "execution_count": 28,
   "metadata": {},
   "outputs": [],
   "source": [
    "sm.to_csv('Sixteen_submission.csv', index = False)"
   ]
  },
  {
   "cell_type": "code",
   "execution_count": null,
   "metadata": {},
   "outputs": [],
   "source": []
  },
  {
   "cell_type": "code",
   "execution_count": null,
   "metadata": {},
   "outputs": [],
   "source": []
  },
  {
   "cell_type": "code",
   "execution_count": null,
   "metadata": {},
   "outputs": [],
   "source": []
  },
  {
   "cell_type": "code",
   "execution_count": 92,
   "metadata": {},
   "outputs": [],
   "source": [
    "country_stats = train.groupby('country')['country'].agg('count').sort_values(ascending = False)\n"
   ]
  },
  {
   "cell_type": "code",
   "execution_count": 94,
   "metadata": {},
   "outputs": [],
   "source": [
    "country_as_other = country_stats[country_stats<=1300]"
   ]
  },
  {
   "cell_type": "code",
   "execution_count": 95,
   "metadata": {},
   "outputs": [],
   "source": [
    "train_copy = train.copy()"
   ]
  },
  {
   "cell_type": "code",
   "execution_count": 96,
   "metadata": {},
   "outputs": [
    {
     "data": {
      "text/plain": [
       "7"
      ]
     },
     "execution_count": 96,
     "metadata": {},
     "output_type": "execute_result"
    }
   ],
   "source": [
    "train_copy.country = train_copy.country.apply(lambda x: 'other' if x in country_as_other else x)\n",
    "len(train_copy.country.unique())"
   ]
  },
  {
   "cell_type": "code",
   "execution_count": 97,
   "metadata": {},
   "outputs": [
    {
     "data": {
      "text/plain": [
       "7"
      ]
     },
     "execution_count": 97,
     "metadata": {},
     "output_type": "execute_result"
    }
   ],
   "source": [
    "len(test.country.unique())"
   ]
  },
  {
   "cell_type": "code",
   "execution_count": null,
   "metadata": {},
   "outputs": [],
   "source": []
  },
  {
   "cell_type": "code",
   "execution_count": 98,
   "metadata": {},
   "outputs": [],
   "source": [
    "td = train_copy.drop(['ID', 'year'], axis = 'columns')\n",
    "tsd = test.drop(['ID', 'year'], axis = 'columns')"
   ]
  },
  {
   "cell_type": "code",
   "execution_count": null,
   "metadata": {},
   "outputs": [],
   "source": []
  },
  {
   "cell_type": "code",
   "execution_count": null,
   "metadata": {},
   "outputs": [],
   "source": []
  },
  {
   "cell_type": "code",
   "execution_count": 102,
   "metadata": {},
   "outputs": [],
   "source": [
    "td1 = pd.get_dummies(td, columns = ['urban_or_rural', 'country'], drop_first = True)"
   ]
  },
  {
   "cell_type": "code",
   "execution_count": 103,
   "metadata": {},
   "outputs": [],
   "source": [
    "td1 = pd.get_dummies(td, columns = ['urban_or_rural', 'country'], drop_first = True)\n",
    "tsd1 = pd.get_dummies(tsd, columns = ['urban_or_rural', 'country'], drop_first = True)"
   ]
  },
  {
   "cell_type": "code",
   "execution_count": 109,
   "metadata": {},
   "outputs": [
    {
     "data": {
      "text/html": [
       "<div>\n",
       "<style scoped>\n",
       "    .dataframe tbody tr th:only-of-type {\n",
       "        vertical-align: middle;\n",
       "    }\n",
       "\n",
       "    .dataframe tbody tr th {\n",
       "        vertical-align: top;\n",
       "    }\n",
       "\n",
       "    .dataframe thead th {\n",
       "        text-align: right;\n",
       "    }\n",
       "</style>\n",
       "<table border=\"1\" class=\"dataframe\">\n",
       "  <thead>\n",
       "    <tr style=\"text-align: right;\">\n",
       "      <th></th>\n",
       "      <th>ghsl_water_surface</th>\n",
       "      <th>ghsl_built_pre_1975</th>\n",
       "      <th>ghsl_built_1975_to_1990</th>\n",
       "      <th>ghsl_built_1990_to_2000</th>\n",
       "      <th>ghsl_built_2000_to_2014</th>\n",
       "      <th>ghsl_not_built_up</th>\n",
       "      <th>ghsl_pop_density</th>\n",
       "      <th>landcover_crops_fraction</th>\n",
       "      <th>landcover_urban_fraction</th>\n",
       "      <th>landcover_water_permanent_10km_fraction</th>\n",
       "      <th>...</th>\n",
       "      <th>nighttime_lights</th>\n",
       "      <th>dist_to_capital</th>\n",
       "      <th>dist_to_shoreline</th>\n",
       "      <th>urban_or_rural_U</th>\n",
       "      <th>country_Benin</th>\n",
       "      <th>country_Burkina Faso</th>\n",
       "      <th>country_Democratic Republic of Congo</th>\n",
       "      <th>country_Uganda</th>\n",
       "      <th>country_Zambia</th>\n",
       "      <th>country_Zimbabwe</th>\n",
       "    </tr>\n",
       "  </thead>\n",
       "  <tbody>\n",
       "    <tr>\n",
       "      <th>0</th>\n",
       "      <td>0.000000</td>\n",
       "      <td>0.000000</td>\n",
       "      <td>0.000000</td>\n",
       "      <td>0.000523</td>\n",
       "      <td>0.000131</td>\n",
       "      <td>0.999347</td>\n",
       "      <td>0.660758</td>\n",
       "      <td>0.990942</td>\n",
       "      <td>0.132264</td>\n",
       "      <td>0.069055</td>\n",
       "      <td>...</td>\n",
       "      <td>0.000000</td>\n",
       "      <td>1249.294720</td>\n",
       "      <td>1364.592100</td>\n",
       "      <td>0</td>\n",
       "      <td>0</td>\n",
       "      <td>0</td>\n",
       "      <td>1</td>\n",
       "      <td>0</td>\n",
       "      <td>0</td>\n",
       "      <td>0</td>\n",
       "    </tr>\n",
       "    <tr>\n",
       "      <th>1</th>\n",
       "      <td>0.000000</td>\n",
       "      <td>0.004239</td>\n",
       "      <td>0.000238</td>\n",
       "      <td>0.001227</td>\n",
       "      <td>0.002860</td>\n",
       "      <td>0.991437</td>\n",
       "      <td>6.441547</td>\n",
       "      <td>5.461365</td>\n",
       "      <td>0.452400</td>\n",
       "      <td>0.000000</td>\n",
       "      <td>...</td>\n",
       "      <td>0.000000</td>\n",
       "      <td>821.019579</td>\n",
       "      <td>1046.028681</td>\n",
       "      <td>1</td>\n",
       "      <td>0</td>\n",
       "      <td>0</td>\n",
       "      <td>1</td>\n",
       "      <td>0</td>\n",
       "      <td>0</td>\n",
       "      <td>0</td>\n",
       "    </tr>\n",
       "    <tr>\n",
       "      <th>2</th>\n",
       "      <td>0.007359</td>\n",
       "      <td>0.525682</td>\n",
       "      <td>0.132795</td>\n",
       "      <td>0.095416</td>\n",
       "      <td>0.042375</td>\n",
       "      <td>0.196373</td>\n",
       "      <td>587.516458</td>\n",
       "      <td>2.881811</td>\n",
       "      <td>87.387991</td>\n",
       "      <td>3.248483</td>\n",
       "      <td>...</td>\n",
       "      <td>60.070041</td>\n",
       "      <td>3.620455</td>\n",
       "      <td>906.057334</td>\n",
       "      <td>1</td>\n",
       "      <td>0</td>\n",
       "      <td>0</td>\n",
       "      <td>0</td>\n",
       "      <td>1</td>\n",
       "      <td>0</td>\n",
       "      <td>0</td>\n",
       "    </tr>\n",
       "    <tr>\n",
       "      <th>3</th>\n",
       "      <td>0.000000</td>\n",
       "      <td>0.000089</td>\n",
       "      <td>0.000036</td>\n",
       "      <td>0.001519</td>\n",
       "      <td>0.001358</td>\n",
       "      <td>0.996997</td>\n",
       "      <td>35.141762</td>\n",
       "      <td>33.878927</td>\n",
       "      <td>4.166437</td>\n",
       "      <td>0.000000</td>\n",
       "      <td>...</td>\n",
       "      <td>1.333999</td>\n",
       "      <td>109.493969</td>\n",
       "      <td>775.139189</td>\n",
       "      <td>1</td>\n",
       "      <td>0</td>\n",
       "      <td>1</td>\n",
       "      <td>0</td>\n",
       "      <td>0</td>\n",
       "      <td>0</td>\n",
       "      <td>0</td>\n",
       "    </tr>\n",
       "    <tr>\n",
       "      <th>4</th>\n",
       "      <td>0.000000</td>\n",
       "      <td>0.000138</td>\n",
       "      <td>0.000623</td>\n",
       "      <td>0.000615</td>\n",
       "      <td>0.002961</td>\n",
       "      <td>0.995663</td>\n",
       "      <td>3.442449</td>\n",
       "      <td>33.491994</td>\n",
       "      <td>3.437129</td>\n",
       "      <td>0.133563</td>\n",
       "      <td>...</td>\n",
       "      <td>0.502203</td>\n",
       "      <td>133.643319</td>\n",
       "      <td>835.591501</td>\n",
       "      <td>0</td>\n",
       "      <td>0</td>\n",
       "      <td>0</td>\n",
       "      <td>0</td>\n",
       "      <td>0</td>\n",
       "      <td>1</td>\n",
       "      <td>0</td>\n",
       "    </tr>\n",
       "  </tbody>\n",
       "</table>\n",
       "<p>5 rows × 21 columns</p>\n",
       "</div>"
      ],
      "text/plain": [
       "   ghsl_water_surface  ghsl_built_pre_1975  ghsl_built_1975_to_1990  \\\n",
       "0            0.000000             0.000000                 0.000000   \n",
       "1            0.000000             0.004239                 0.000238   \n",
       "2            0.007359             0.525682                 0.132795   \n",
       "3            0.000000             0.000089                 0.000036   \n",
       "4            0.000000             0.000138                 0.000623   \n",
       "\n",
       "   ghsl_built_1990_to_2000  ghsl_built_2000_to_2014  ghsl_not_built_up  \\\n",
       "0                 0.000523                 0.000131           0.999347   \n",
       "1                 0.001227                 0.002860           0.991437   \n",
       "2                 0.095416                 0.042375           0.196373   \n",
       "3                 0.001519                 0.001358           0.996997   \n",
       "4                 0.000615                 0.002961           0.995663   \n",
       "\n",
       "   ghsl_pop_density  landcover_crops_fraction  landcover_urban_fraction  \\\n",
       "0          0.660758                  0.990942                  0.132264   \n",
       "1          6.441547                  5.461365                  0.452400   \n",
       "2        587.516458                  2.881811                 87.387991   \n",
       "3         35.141762                 33.878927                  4.166437   \n",
       "4          3.442449                 33.491994                  3.437129   \n",
       "\n",
       "   landcover_water_permanent_10km_fraction  ...  nighttime_lights  \\\n",
       "0                                 0.069055  ...          0.000000   \n",
       "1                                 0.000000  ...          0.000000   \n",
       "2                                 3.248483  ...         60.070041   \n",
       "3                                 0.000000  ...          1.333999   \n",
       "4                                 0.133563  ...          0.502203   \n",
       "\n",
       "   dist_to_capital  dist_to_shoreline  urban_or_rural_U  country_Benin  \\\n",
       "0      1249.294720        1364.592100                 0              0   \n",
       "1       821.019579        1046.028681                 1              0   \n",
       "2         3.620455         906.057334                 1              0   \n",
       "3       109.493969         775.139189                 1              0   \n",
       "4       133.643319         835.591501                 0              0   \n",
       "\n",
       "   country_Burkina Faso  country_Democratic Republic of Congo  country_Uganda  \\\n",
       "0                     0                                     1               0   \n",
       "1                     0                                     1               0   \n",
       "2                     0                                     0               1   \n",
       "3                     1                                     0               0   \n",
       "4                     0                                     0               0   \n",
       "\n",
       "   country_Zambia  country_Zimbabwe  \n",
       "0               0                 0  \n",
       "1               0                 0  \n",
       "2               0                 0  \n",
       "3               0                 0  \n",
       "4               1                 0  \n",
       "\n",
       "[5 rows x 21 columns]"
      ]
     },
     "execution_count": 109,
     "metadata": {},
     "output_type": "execute_result"
    }
   ],
   "source": [
    "tsd1.head() #, tsd1.shape"
   ]
  },
  {
   "cell_type": "code",
   "execution_count": 107,
   "metadata": {},
   "outputs": [],
   "source": [
    "X = td1.drop(td1[['Target']], axis = 'columns').values\n",
    "y = td1.Target.values"
   ]
  },
  {
   "cell_type": "code",
   "execution_count": 89,
   "metadata": {},
   "outputs": [],
   "source": [
    "# plt.figure(figsize = (10,8))\n",
    "# sns.heatmap(td1.corr(),\n",
    "#            annot = True,\n",
    "#            linewidths = .5,\n",
    "#            center = 0,\n",
    "#            cbar = False,\n",
    "#            cmap = None)\n",
    "# plt.show()"
   ]
  },
  {
   "cell_type": "code",
   "execution_count": 73,
   "metadata": {},
   "outputs": [],
   "source": [
    "#X_new = pd.concat([X, tsd1.copy()], axis = 0)"
   ]
  },
  {
   "cell_type": "code",
   "execution_count": 64,
   "metadata": {},
   "outputs": [
    {
     "data": {
      "text/plain": [
       "(28648, 14)"
      ]
     },
     "execution_count": 64,
     "metadata": {},
     "output_type": "execute_result"
    }
   ],
   "source": [
    "X_new.shape"
   ]
  },
  {
   "cell_type": "code",
   "execution_count": 124,
   "metadata": {},
   "outputs": [
    {
     "data": {
      "text/plain": [
       "((16090, 21), (5364, 21), (16090,), (5364,))"
      ]
     },
     "execution_count": 124,
     "metadata": {},
     "output_type": "execute_result"
    }
   ],
   "source": [
    "from sklearn.model_selection import train_test_split as tts\n",
    "\n",
    "X_train, X_test, y_train, y_test = tts(X,y, test_size = 0.25, random_state = 7)\n",
    "\n",
    "X_train.shape, X_test.shape, y_train.shape, y_test.shape"
   ]
  },
  {
   "cell_type": "code",
   "execution_count": 243,
   "metadata": {},
   "outputs": [
    {
     "data": {
      "text/plain": [
       "0.7430788301957194"
      ]
     },
     "execution_count": 243,
     "metadata": {},
     "output_type": "execute_result"
    }
   ],
   "source": [
    "### estima 130, split_state = 7\n",
    "\n",
    "\n",
    "#X_train,X_test, y_train, y_test = my_split_func(X,y)\n",
    "\n",
    "from lightgbm import LGBMRegressor\n",
    "\n",
    "LGBM = LGBMRegressor(n_estimators = 130, random_state = 2)\n",
    "LGBM.fit(X_train_new, y_train)\n",
    "LGBM.score(X_test_new, y_test)"
   ]
  },
  {
   "cell_type": "code",
   "execution_count": 239,
   "metadata": {},
   "outputs": [
    {
     "data": {
      "text/plain": [
       "0.09930712457779725"
      ]
     },
     "execution_count": 239,
     "metadata": {},
     "output_type": "execute_result"
    }
   ],
   "source": [
    "from sklearn.metrics import mean_squared_error as mse\n",
    "lgbm_preds = LGBM.predict(X_test_new)\n",
    "rmse = np.sqrt(mse(y_test,lgbm_preds))\n",
    "rmse"
   ]
  },
  {
   "cell_type": "code",
   "execution_count": 222,
   "metadata": {},
   "outputs": [
    {
     "name": "stdout",
     "output_type": "stream",
     "text": [
      "Learning rate set to 0.063998\n",
      "0:\tlearn: 0.1862566\ttotal: 20.7ms\tremaining: 20.7s\n",
      "1:\tlearn: 0.1793473\ttotal: 36.6ms\tremaining: 18.3s\n",
      "2:\tlearn: 0.1728100\ttotal: 51.5ms\tremaining: 17.1s\n",
      "3:\tlearn: 0.1667435\ttotal: 62.4ms\tremaining: 15.5s\n",
      "4:\tlearn: 0.1612273\ttotal: 68.9ms\tremaining: 13.7s\n",
      "5:\tlearn: 0.1561438\ttotal: 76.9ms\tremaining: 12.7s\n",
      "6:\tlearn: 0.1515077\ttotal: 81.6ms\tremaining: 11.6s\n",
      "7:\tlearn: 0.1471764\ttotal: 86.4ms\tremaining: 10.7s\n",
      "8:\tlearn: 0.1433072\ttotal: 90.8ms\tremaining: 10s\n",
      "9:\tlearn: 0.1399773\ttotal: 95.1ms\tremaining: 9.41s\n",
      "10:\tlearn: 0.1365539\ttotal: 99.2ms\tremaining: 8.92s\n",
      "11:\tlearn: 0.1336064\ttotal: 103ms\tremaining: 8.52s\n",
      "12:\tlearn: 0.1309748\ttotal: 108ms\tremaining: 8.18s\n",
      "13:\tlearn: 0.1283994\ttotal: 112ms\tremaining: 7.89s\n",
      "14:\tlearn: 0.1262903\ttotal: 117ms\tremaining: 7.65s\n",
      "15:\tlearn: 0.1242837\ttotal: 121ms\tremaining: 7.44s\n",
      "16:\tlearn: 0.1222919\ttotal: 126ms\tremaining: 7.27s\n",
      "17:\tlearn: 0.1205268\ttotal: 130ms\tremaining: 7.1s\n",
      "18:\tlearn: 0.1190028\ttotal: 135ms\tremaining: 6.95s\n",
      "19:\tlearn: 0.1175975\ttotal: 139ms\tremaining: 6.83s\n",
      "20:\tlearn: 0.1163765\ttotal: 143ms\tremaining: 6.68s\n",
      "21:\tlearn: 0.1152002\ttotal: 147ms\tremaining: 6.55s\n",
      "22:\tlearn: 0.1140525\ttotal: 153ms\tremaining: 6.52s\n",
      "23:\tlearn: 0.1131176\ttotal: 161ms\tremaining: 6.53s\n",
      "24:\tlearn: 0.1122836\ttotal: 165ms\tremaining: 6.42s\n",
      "25:\tlearn: 0.1115266\ttotal: 169ms\tremaining: 6.33s\n",
      "26:\tlearn: 0.1107598\ttotal: 173ms\tremaining: 6.25s\n",
      "27:\tlearn: 0.1101345\ttotal: 177ms\tremaining: 6.15s\n",
      "28:\tlearn: 0.1095189\ttotal: 181ms\tremaining: 6.07s\n",
      "29:\tlearn: 0.1089215\ttotal: 196ms\tremaining: 6.35s\n",
      "30:\tlearn: 0.1084376\ttotal: 211ms\tremaining: 6.6s\n",
      "31:\tlearn: 0.1079164\ttotal: 223ms\tremaining: 6.74s\n",
      "32:\tlearn: 0.1074907\ttotal: 234ms\tremaining: 6.84s\n",
      "33:\tlearn: 0.1071798\ttotal: 247ms\tremaining: 7.01s\n",
      "34:\tlearn: 0.1067743\ttotal: 259ms\tremaining: 7.14s\n",
      "35:\tlearn: 0.1064279\ttotal: 268ms\tremaining: 7.18s\n",
      "36:\tlearn: 0.1060643\ttotal: 275ms\tremaining: 7.15s\n",
      "37:\tlearn: 0.1057406\ttotal: 280ms\tremaining: 7.09s\n",
      "38:\tlearn: 0.1054431\ttotal: 284ms\tremaining: 7s\n",
      "39:\tlearn: 0.1051756\ttotal: 288ms\tremaining: 6.92s\n",
      "40:\tlearn: 0.1049327\ttotal: 293ms\tremaining: 6.85s\n",
      "41:\tlearn: 0.1046980\ttotal: 297ms\tremaining: 6.77s\n",
      "42:\tlearn: 0.1044340\ttotal: 301ms\tremaining: 6.7s\n",
      "43:\tlearn: 0.1042014\ttotal: 305ms\tremaining: 6.63s\n",
      "44:\tlearn: 0.1039868\ttotal: 309ms\tremaining: 6.56s\n",
      "45:\tlearn: 0.1037820\ttotal: 314ms\tremaining: 6.51s\n",
      "46:\tlearn: 0.1036010\ttotal: 318ms\tremaining: 6.45s\n",
      "47:\tlearn: 0.1034407\ttotal: 323ms\tremaining: 6.41s\n",
      "48:\tlearn: 0.1032787\ttotal: 327ms\tremaining: 6.35s\n",
      "49:\tlearn: 0.1030966\ttotal: 331ms\tremaining: 6.29s\n",
      "50:\tlearn: 0.1029597\ttotal: 335ms\tremaining: 6.24s\n",
      "51:\tlearn: 0.1028176\ttotal: 340ms\tremaining: 6.2s\n",
      "52:\tlearn: 0.1026978\ttotal: 347ms\tremaining: 6.2s\n",
      "53:\tlearn: 0.1025893\ttotal: 351ms\tremaining: 6.15s\n",
      "54:\tlearn: 0.1024435\ttotal: 355ms\tremaining: 6.11s\n",
      "55:\tlearn: 0.1023422\ttotal: 359ms\tremaining: 6.06s\n",
      "56:\tlearn: 0.1022580\ttotal: 363ms\tremaining: 6.01s\n",
      "57:\tlearn: 0.1021515\ttotal: 367ms\tremaining: 5.97s\n",
      "58:\tlearn: 0.1020526\ttotal: 372ms\tremaining: 5.93s\n",
      "59:\tlearn: 0.1019375\ttotal: 376ms\tremaining: 5.88s\n",
      "60:\tlearn: 0.1018543\ttotal: 380ms\tremaining: 5.84s\n",
      "61:\tlearn: 0.1017813\ttotal: 384ms\tremaining: 5.81s\n",
      "62:\tlearn: 0.1016844\ttotal: 388ms\tremaining: 5.78s\n",
      "63:\tlearn: 0.1015909\ttotal: 399ms\tremaining: 5.84s\n",
      "64:\tlearn: 0.1015134\ttotal: 411ms\tremaining: 5.91s\n",
      "65:\tlearn: 0.1014588\ttotal: 422ms\tremaining: 5.96s\n",
      "66:\tlearn: 0.1013652\ttotal: 433ms\tremaining: 6.03s\n",
      "67:\tlearn: 0.1012897\ttotal: 444ms\tremaining: 6.09s\n",
      "68:\tlearn: 0.1012079\ttotal: 456ms\tremaining: 6.15s\n",
      "69:\tlearn: 0.1011218\ttotal: 464ms\tremaining: 6.16s\n",
      "70:\tlearn: 0.1010705\ttotal: 473ms\tremaining: 6.19s\n",
      "71:\tlearn: 0.1010026\ttotal: 479ms\tremaining: 6.17s\n",
      "72:\tlearn: 0.1009313\ttotal: 483ms\tremaining: 6.13s\n",
      "73:\tlearn: 0.1008643\ttotal: 488ms\tremaining: 6.1s\n",
      "74:\tlearn: 0.1007989\ttotal: 492ms\tremaining: 6.06s\n",
      "75:\tlearn: 0.1007301\ttotal: 496ms\tremaining: 6.03s\n",
      "76:\tlearn: 0.1006519\ttotal: 500ms\tremaining: 5.99s\n",
      "77:\tlearn: 0.1005858\ttotal: 504ms\tremaining: 5.96s\n",
      "78:\tlearn: 0.1005246\ttotal: 509ms\tremaining: 5.93s\n",
      "79:\tlearn: 0.1004734\ttotal: 513ms\tremaining: 5.9s\n",
      "80:\tlearn: 0.1004257\ttotal: 517ms\tremaining: 5.87s\n",
      "81:\tlearn: 0.1003802\ttotal: 521ms\tremaining: 5.84s\n",
      "82:\tlearn: 0.1003398\ttotal: 525ms\tremaining: 5.8s\n",
      "83:\tlearn: 0.1002939\ttotal: 530ms\tremaining: 5.78s\n",
      "84:\tlearn: 0.1002323\ttotal: 534ms\tremaining: 5.75s\n",
      "85:\tlearn: 0.1001818\ttotal: 538ms\tremaining: 5.72s\n",
      "86:\tlearn: 0.1001263\ttotal: 542ms\tremaining: 5.69s\n",
      "87:\tlearn: 0.1000824\ttotal: 547ms\tremaining: 5.67s\n",
      "88:\tlearn: 0.1000407\ttotal: 551ms\tremaining: 5.64s\n",
      "89:\tlearn: 0.0999852\ttotal: 556ms\tremaining: 5.62s\n",
      "90:\tlearn: 0.0999592\ttotal: 560ms\tremaining: 5.59s\n",
      "91:\tlearn: 0.0999125\ttotal: 564ms\tremaining: 5.57s\n",
      "92:\tlearn: 0.0998586\ttotal: 568ms\tremaining: 5.54s\n",
      "93:\tlearn: 0.0998269\ttotal: 573ms\tremaining: 5.52s\n",
      "94:\tlearn: 0.0997866\ttotal: 577ms\tremaining: 5.5s\n",
      "95:\tlearn: 0.0997456\ttotal: 581ms\tremaining: 5.47s\n",
      "96:\tlearn: 0.0997064\ttotal: 586ms\tremaining: 5.45s\n",
      "97:\tlearn: 0.0996534\ttotal: 590ms\tremaining: 5.43s\n",
      "98:\tlearn: 0.0996295\ttotal: 598ms\tremaining: 5.44s\n",
      "99:\tlearn: 0.0995862\ttotal: 609ms\tremaining: 5.48s\n",
      "100:\tlearn: 0.0995391\ttotal: 623ms\tremaining: 5.55s\n",
      "101:\tlearn: 0.0994904\ttotal: 637ms\tremaining: 5.61s\n",
      "102:\tlearn: 0.0994455\ttotal: 647ms\tremaining: 5.63s\n",
      "103:\tlearn: 0.0994131\ttotal: 660ms\tremaining: 5.69s\n",
      "104:\tlearn: 0.0993824\ttotal: 679ms\tremaining: 5.78s\n",
      "105:\tlearn: 0.0993265\ttotal: 684ms\tremaining: 5.77s\n",
      "106:\tlearn: 0.0992743\ttotal: 689ms\tremaining: 5.75s\n",
      "107:\tlearn: 0.0992535\ttotal: 695ms\tremaining: 5.74s\n",
      "108:\tlearn: 0.0992187\ttotal: 700ms\tremaining: 5.72s\n",
      "109:\tlearn: 0.0991717\ttotal: 704ms\tremaining: 5.7s\n",
      "110:\tlearn: 0.0991438\ttotal: 712ms\tremaining: 5.7s\n",
      "111:\tlearn: 0.0991079\ttotal: 715ms\tremaining: 5.67s\n",
      "112:\tlearn: 0.0990615\ttotal: 721ms\tremaining: 5.66s\n",
      "113:\tlearn: 0.0990176\ttotal: 728ms\tremaining: 5.66s\n",
      "114:\tlearn: 0.0989837\ttotal: 732ms\tremaining: 5.63s\n",
      "115:\tlearn: 0.0989258\ttotal: 737ms\tremaining: 5.62s\n",
      "116:\tlearn: 0.0988897\ttotal: 741ms\tremaining: 5.59s\n",
      "117:\tlearn: 0.0988602\ttotal: 745ms\tremaining: 5.57s\n",
      "118:\tlearn: 0.0988404\ttotal: 751ms\tremaining: 5.56s\n",
      "119:\tlearn: 0.0988113\ttotal: 755ms\tremaining: 5.53s\n",
      "120:\tlearn: 0.0987693\ttotal: 759ms\tremaining: 5.51s\n",
      "121:\tlearn: 0.0987196\ttotal: 763ms\tremaining: 5.49s\n",
      "122:\tlearn: 0.0986835\ttotal: 767ms\tremaining: 5.47s\n",
      "123:\tlearn: 0.0986367\ttotal: 771ms\tremaining: 5.45s\n",
      "124:\tlearn: 0.0986138\ttotal: 775ms\tremaining: 5.43s\n",
      "125:\tlearn: 0.0985795\ttotal: 779ms\tremaining: 5.41s\n",
      "126:\tlearn: 0.0985474\ttotal: 784ms\tremaining: 5.38s\n",
      "127:\tlearn: 0.0985159\ttotal: 788ms\tremaining: 5.37s\n",
      "128:\tlearn: 0.0984798\ttotal: 793ms\tremaining: 5.35s\n",
      "129:\tlearn: 0.0984442\ttotal: 801ms\tremaining: 5.36s\n",
      "130:\tlearn: 0.0984015\ttotal: 810ms\tremaining: 5.38s\n",
      "131:\tlearn: 0.0983420\ttotal: 820ms\tremaining: 5.39s\n",
      "132:\tlearn: 0.0983084\ttotal: 829ms\tremaining: 5.41s\n",
      "133:\tlearn: 0.0982674\ttotal: 839ms\tremaining: 5.42s\n",
      "134:\tlearn: 0.0982393\ttotal: 850ms\tremaining: 5.45s\n",
      "135:\tlearn: 0.0982118\ttotal: 861ms\tremaining: 5.47s\n",
      "136:\tlearn: 0.0981813\ttotal: 870ms\tremaining: 5.48s\n",
      "137:\tlearn: 0.0981475\ttotal: 879ms\tremaining: 5.49s\n",
      "138:\tlearn: 0.0981245\ttotal: 883ms\tremaining: 5.47s\n",
      "139:\tlearn: 0.0981023\ttotal: 887ms\tremaining: 5.45s\n",
      "140:\tlearn: 0.0980460\ttotal: 891ms\tremaining: 5.43s\n",
      "141:\tlearn: 0.0979889\ttotal: 895ms\tremaining: 5.41s\n",
      "142:\tlearn: 0.0979573\ttotal: 899ms\tremaining: 5.39s\n",
      "143:\tlearn: 0.0979273\ttotal: 903ms\tremaining: 5.37s\n",
      "144:\tlearn: 0.0978858\ttotal: 907ms\tremaining: 5.35s\n",
      "145:\tlearn: 0.0978322\ttotal: 912ms\tremaining: 5.33s\n",
      "146:\tlearn: 0.0977863\ttotal: 916ms\tremaining: 5.31s\n",
      "147:\tlearn: 0.0977473\ttotal: 920ms\tremaining: 5.3s\n",
      "148:\tlearn: 0.0977172\ttotal: 924ms\tremaining: 5.28s\n",
      "149:\tlearn: 0.0976701\ttotal: 928ms\tremaining: 5.26s\n",
      "150:\tlearn: 0.0976346\ttotal: 932ms\tremaining: 5.24s\n",
      "151:\tlearn: 0.0976047\ttotal: 938ms\tremaining: 5.23s\n",
      "152:\tlearn: 0.0975786\ttotal: 941ms\tremaining: 5.21s\n",
      "153:\tlearn: 0.0975420\ttotal: 951ms\tremaining: 5.22s\n",
      "154:\tlearn: 0.0974992\ttotal: 957ms\tremaining: 5.22s\n",
      "155:\tlearn: 0.0974796\ttotal: 965ms\tremaining: 5.22s\n",
      "156:\tlearn: 0.0974521\ttotal: 969ms\tremaining: 5.2s\n",
      "157:\tlearn: 0.0974099\ttotal: 974ms\tremaining: 5.19s\n",
      "158:\tlearn: 0.0973638\ttotal: 979ms\tremaining: 5.18s\n",
      "159:\tlearn: 0.0973142\ttotal: 983ms\tremaining: 5.16s\n",
      "160:\tlearn: 0.0972734\ttotal: 991ms\tremaining: 5.17s\n",
      "161:\tlearn: 0.0972425\ttotal: 1s\tremaining: 5.18s\n",
      "162:\tlearn: 0.0972250\ttotal: 1.01s\tremaining: 5.2s\n",
      "163:\tlearn: 0.0971888\ttotal: 1.02s\tremaining: 5.21s\n",
      "164:\tlearn: 0.0971602\ttotal: 1.03s\tremaining: 5.23s\n",
      "165:\tlearn: 0.0971270\ttotal: 1.04s\tremaining: 5.25s\n",
      "166:\tlearn: 0.0970744\ttotal: 1.05s\tremaining: 5.25s\n",
      "167:\tlearn: 0.0970509\ttotal: 1.06s\tremaining: 5.23s\n",
      "168:\tlearn: 0.0970118\ttotal: 1.07s\tremaining: 5.25s\n",
      "169:\tlearn: 0.0969706\ttotal: 1.07s\tremaining: 5.24s\n",
      "170:\tlearn: 0.0969320\ttotal: 1.09s\tremaining: 5.26s\n",
      "171:\tlearn: 0.0969065\ttotal: 1.09s\tremaining: 5.27s\n",
      "172:\tlearn: 0.0968717\ttotal: 1.11s\tremaining: 5.29s\n",
      "173:\tlearn: 0.0968333\ttotal: 1.12s\tremaining: 5.32s\n",
      "174:\tlearn: 0.0968058\ttotal: 1.13s\tremaining: 5.33s\n",
      "175:\tlearn: 0.0967698\ttotal: 1.15s\tremaining: 5.38s\n",
      "176:\tlearn: 0.0967337\ttotal: 1.17s\tremaining: 5.42s\n",
      "177:\tlearn: 0.0967152\ttotal: 1.18s\tremaining: 5.45s\n",
      "178:\tlearn: 0.0966881\ttotal: 1.2s\tremaining: 5.48s\n",
      "179:\tlearn: 0.0966582\ttotal: 1.21s\tremaining: 5.51s\n",
      "180:\tlearn: 0.0966334\ttotal: 1.22s\tremaining: 5.54s\n",
      "181:\tlearn: 0.0966082\ttotal: 1.24s\tremaining: 5.57s\n",
      "182:\tlearn: 0.0965682\ttotal: 1.25s\tremaining: 5.61s\n",
      "183:\tlearn: 0.0965314\ttotal: 1.27s\tremaining: 5.63s\n",
      "184:\tlearn: 0.0964929\ttotal: 1.29s\tremaining: 5.68s\n",
      "185:\tlearn: 0.0964796\ttotal: 1.3s\tremaining: 5.69s\n",
      "186:\tlearn: 0.0964344\ttotal: 1.31s\tremaining: 5.7s\n",
      "187:\tlearn: 0.0963868\ttotal: 1.32s\tremaining: 5.71s\n",
      "188:\tlearn: 0.0963624\ttotal: 1.33s\tremaining: 5.73s\n",
      "189:\tlearn: 0.0963309\ttotal: 1.35s\tremaining: 5.74s\n",
      "190:\tlearn: 0.0962882\ttotal: 1.35s\tremaining: 5.72s\n",
      "191:\tlearn: 0.0962623\ttotal: 1.35s\tremaining: 5.7s\n",
      "192:\tlearn: 0.0962340\ttotal: 1.36s\tremaining: 5.7s\n",
      "193:\tlearn: 0.0962031\ttotal: 1.37s\tremaining: 5.69s\n",
      "194:\tlearn: 0.0961793\ttotal: 1.38s\tremaining: 5.68s\n",
      "195:\tlearn: 0.0961409\ttotal: 1.38s\tremaining: 5.66s\n",
      "196:\tlearn: 0.0961045\ttotal: 1.38s\tremaining: 5.64s\n",
      "197:\tlearn: 0.0960687\ttotal: 1.39s\tremaining: 5.63s\n",
      "198:\tlearn: 0.0960224\ttotal: 1.4s\tremaining: 5.63s\n",
      "199:\tlearn: 0.0959842\ttotal: 1.41s\tremaining: 5.64s\n",
      "200:\tlearn: 0.0959386\ttotal: 1.42s\tremaining: 5.64s\n",
      "201:\tlearn: 0.0959241\ttotal: 1.43s\tremaining: 5.64s\n",
      "202:\tlearn: 0.0959080\ttotal: 1.44s\tremaining: 5.65s\n",
      "203:\tlearn: 0.0958711\ttotal: 1.45s\tremaining: 5.65s\n",
      "204:\tlearn: 0.0958249\ttotal: 1.45s\tremaining: 5.64s\n",
      "205:\tlearn: 0.0957955\ttotal: 1.46s\tremaining: 5.63s\n",
      "206:\tlearn: 0.0957598\ttotal: 1.47s\tremaining: 5.64s\n",
      "207:\tlearn: 0.0957262\ttotal: 1.48s\tremaining: 5.63s\n",
      "208:\tlearn: 0.0956821\ttotal: 1.49s\tremaining: 5.63s\n",
      "209:\tlearn: 0.0956488\ttotal: 1.49s\tremaining: 5.61s\n",
      "210:\tlearn: 0.0956191\ttotal: 1.5s\tremaining: 5.59s\n",
      "211:\tlearn: 0.0955870\ttotal: 1.5s\tremaining: 5.58s\n",
      "212:\tlearn: 0.0955637\ttotal: 1.5s\tremaining: 5.56s\n",
      "213:\tlearn: 0.0955189\ttotal: 1.51s\tremaining: 5.54s\n",
      "214:\tlearn: 0.0954958\ttotal: 1.51s\tremaining: 5.52s\n",
      "215:\tlearn: 0.0954743\ttotal: 1.52s\tremaining: 5.5s\n",
      "216:\tlearn: 0.0954366\ttotal: 1.52s\tremaining: 5.49s\n",
      "217:\tlearn: 0.0953930\ttotal: 1.53s\tremaining: 5.48s\n",
      "218:\tlearn: 0.0953737\ttotal: 1.54s\tremaining: 5.49s\n",
      "219:\tlearn: 0.0953465\ttotal: 1.56s\tremaining: 5.54s\n",
      "220:\tlearn: 0.0953340\ttotal: 1.58s\tremaining: 5.57s\n",
      "221:\tlearn: 0.0953193\ttotal: 1.59s\tremaining: 5.58s\n",
      "222:\tlearn: 0.0952794\ttotal: 1.6s\tremaining: 5.59s\n",
      "223:\tlearn: 0.0952519\ttotal: 1.62s\tremaining: 5.62s\n",
      "224:\tlearn: 0.0952202\ttotal: 1.64s\tremaining: 5.65s\n",
      "225:\tlearn: 0.0951734\ttotal: 1.66s\tremaining: 5.68s\n",
      "226:\tlearn: 0.0951287\ttotal: 1.68s\tremaining: 5.71s\n",
      "227:\tlearn: 0.0950987\ttotal: 1.69s\tremaining: 5.72s\n",
      "228:\tlearn: 0.0950705\ttotal: 1.7s\tremaining: 5.74s\n",
      "229:\tlearn: 0.0950291\ttotal: 1.71s\tremaining: 5.73s\n",
      "230:\tlearn: 0.0949961\ttotal: 1.73s\tremaining: 5.75s\n",
      "231:\tlearn: 0.0949634\ttotal: 1.74s\tremaining: 5.75s\n",
      "232:\tlearn: 0.0949290\ttotal: 1.75s\tremaining: 5.76s\n",
      "233:\tlearn: 0.0949008\ttotal: 1.76s\tremaining: 5.76s\n",
      "234:\tlearn: 0.0948811\ttotal: 1.77s\tremaining: 5.76s\n",
      "235:\tlearn: 0.0948592\ttotal: 1.77s\tremaining: 5.75s\n",
      "236:\tlearn: 0.0948217\ttotal: 1.78s\tremaining: 5.73s\n",
      "237:\tlearn: 0.0947775\ttotal: 1.78s\tremaining: 5.71s\n",
      "238:\tlearn: 0.0947492\ttotal: 1.79s\tremaining: 5.7s\n",
      "239:\tlearn: 0.0947142\ttotal: 1.79s\tremaining: 5.68s\n",
      "240:\tlearn: 0.0946855\ttotal: 1.8s\tremaining: 5.66s\n",
      "241:\tlearn: 0.0946538\ttotal: 1.8s\tremaining: 5.64s\n",
      "242:\tlearn: 0.0946258\ttotal: 1.81s\tremaining: 5.64s\n",
      "243:\tlearn: 0.0946078\ttotal: 1.82s\tremaining: 5.64s\n",
      "244:\tlearn: 0.0945865\ttotal: 1.83s\tremaining: 5.64s\n",
      "245:\tlearn: 0.0945636\ttotal: 1.84s\tremaining: 5.65s\n",
      "246:\tlearn: 0.0945272\ttotal: 1.85s\tremaining: 5.65s\n",
      "247:\tlearn: 0.0945026\ttotal: 1.86s\tremaining: 5.65s\n",
      "248:\tlearn: 0.0944669\ttotal: 1.87s\tremaining: 5.65s\n",
      "249:\tlearn: 0.0944443\ttotal: 1.88s\tremaining: 5.63s\n",
      "250:\tlearn: 0.0944148\ttotal: 1.88s\tremaining: 5.62s\n",
      "251:\tlearn: 0.0943938\ttotal: 1.89s\tremaining: 5.6s\n",
      "252:\tlearn: 0.0943664\ttotal: 1.9s\tremaining: 5.6s\n",
      "253:\tlearn: 0.0943421\ttotal: 1.9s\tremaining: 5.59s\n",
      "254:\tlearn: 0.0943279\ttotal: 1.91s\tremaining: 5.57s\n",
      "255:\tlearn: 0.0942920\ttotal: 1.91s\tremaining: 5.56s\n",
      "256:\tlearn: 0.0942694\ttotal: 1.92s\tremaining: 5.56s\n",
      "257:\tlearn: 0.0942588\ttotal: 1.94s\tremaining: 5.57s\n",
      "258:\tlearn: 0.0942351\ttotal: 1.96s\tremaining: 5.61s\n",
      "259:\tlearn: 0.0942041\ttotal: 1.97s\tremaining: 5.62s\n",
      "260:\tlearn: 0.0941569\ttotal: 1.99s\tremaining: 5.63s\n",
      "261:\tlearn: 0.0941369\ttotal: 2.01s\tremaining: 5.66s\n",
      "262:\tlearn: 0.0941162\ttotal: 2.03s\tremaining: 5.68s\n",
      "263:\tlearn: 0.0940828\ttotal: 2.04s\tremaining: 5.7s\n",
      "264:\tlearn: 0.0940547\ttotal: 2.06s\tremaining: 5.71s\n",
      "265:\tlearn: 0.0940324\ttotal: 2.07s\tremaining: 5.72s\n",
      "266:\tlearn: 0.0940061\ttotal: 2.09s\tremaining: 5.73s\n",
      "267:\tlearn: 0.0939844\ttotal: 2.1s\tremaining: 5.73s\n",
      "268:\tlearn: 0.0939590\ttotal: 2.11s\tremaining: 5.73s\n",
      "269:\tlearn: 0.0939336\ttotal: 2.12s\tremaining: 5.73s\n",
      "270:\tlearn: 0.0939041\ttotal: 2.13s\tremaining: 5.73s\n",
      "271:\tlearn: 0.0938779\ttotal: 2.14s\tremaining: 5.72s\n",
      "272:\tlearn: 0.0938501\ttotal: 2.15s\tremaining: 5.73s\n",
      "273:\tlearn: 0.0938116\ttotal: 2.16s\tremaining: 5.73s\n",
      "274:\tlearn: 0.0937772\ttotal: 2.17s\tremaining: 5.73s\n",
      "275:\tlearn: 0.0937519\ttotal: 2.18s\tremaining: 5.72s\n",
      "276:\tlearn: 0.0937096\ttotal: 2.19s\tremaining: 5.71s\n",
      "277:\tlearn: 0.0936837\ttotal: 2.2s\tremaining: 5.7s\n",
      "278:\tlearn: 0.0936600\ttotal: 2.2s\tremaining: 5.69s\n",
      "279:\tlearn: 0.0936377\ttotal: 2.21s\tremaining: 5.69s\n",
      "280:\tlearn: 0.0936044\ttotal: 2.22s\tremaining: 5.69s\n",
      "281:\tlearn: 0.0935783\ttotal: 2.23s\tremaining: 5.68s\n",
      "282:\tlearn: 0.0935373\ttotal: 2.24s\tremaining: 5.68s\n",
      "283:\tlearn: 0.0934977\ttotal: 2.25s\tremaining: 5.67s\n",
      "284:\tlearn: 0.0934651\ttotal: 2.26s\tremaining: 5.67s\n",
      "285:\tlearn: 0.0934337\ttotal: 2.27s\tremaining: 5.68s\n",
      "286:\tlearn: 0.0933879\ttotal: 2.29s\tremaining: 5.68s\n",
      "287:\tlearn: 0.0933712\ttotal: 2.3s\tremaining: 5.69s\n",
      "288:\tlearn: 0.0933511\ttotal: 2.31s\tremaining: 5.67s\n",
      "289:\tlearn: 0.0933106\ttotal: 2.31s\tremaining: 5.66s\n",
      "290:\tlearn: 0.0932836\ttotal: 2.32s\tremaining: 5.64s\n",
      "291:\tlearn: 0.0932628\ttotal: 2.32s\tremaining: 5.63s\n",
      "292:\tlearn: 0.0932393\ttotal: 2.33s\tremaining: 5.63s\n",
      "293:\tlearn: 0.0932170\ttotal: 2.35s\tremaining: 5.65s\n",
      "294:\tlearn: 0.0931980\ttotal: 2.37s\tremaining: 5.67s\n",
      "295:\tlearn: 0.0931585\ttotal: 2.39s\tremaining: 5.68s\n",
      "296:\tlearn: 0.0931231\ttotal: 2.4s\tremaining: 5.69s\n",
      "297:\tlearn: 0.0930995\ttotal: 2.42s\tremaining: 5.71s\n",
      "298:\tlearn: 0.0930770\ttotal: 2.44s\tremaining: 5.72s\n",
      "299:\tlearn: 0.0930555\ttotal: 2.45s\tremaining: 5.72s\n",
      "300:\tlearn: 0.0930273\ttotal: 2.47s\tremaining: 5.74s\n",
      "301:\tlearn: 0.0930058\ttotal: 2.49s\tremaining: 5.75s\n",
      "302:\tlearn: 0.0929914\ttotal: 2.51s\tremaining: 5.77s\n",
      "303:\tlearn: 0.0929713\ttotal: 2.53s\tremaining: 5.78s\n",
      "304:\tlearn: 0.0929470\ttotal: 2.54s\tremaining: 5.78s\n",
      "305:\tlearn: 0.0929201\ttotal: 2.55s\tremaining: 5.78s\n",
      "306:\tlearn: 0.0928956\ttotal: 2.56s\tremaining: 5.78s\n",
      "307:\tlearn: 0.0928692\ttotal: 2.57s\tremaining: 5.77s\n",
      "308:\tlearn: 0.0928414\ttotal: 2.58s\tremaining: 5.77s\n",
      "309:\tlearn: 0.0928186\ttotal: 2.6s\tremaining: 5.78s\n",
      "310:\tlearn: 0.0927898\ttotal: 2.6s\tremaining: 5.77s\n",
      "311:\tlearn: 0.0927641\ttotal: 2.61s\tremaining: 5.76s\n",
      "312:\tlearn: 0.0927386\ttotal: 2.62s\tremaining: 5.75s\n",
      "313:\tlearn: 0.0927138\ttotal: 2.63s\tremaining: 5.76s\n",
      "314:\tlearn: 0.0926978\ttotal: 2.65s\tremaining: 5.75s\n",
      "315:\tlearn: 0.0926827\ttotal: 2.66s\tremaining: 5.75s\n",
      "316:\tlearn: 0.0926594\ttotal: 2.67s\tremaining: 5.74s\n",
      "317:\tlearn: 0.0926274\ttotal: 2.68s\tremaining: 5.74s\n",
      "318:\tlearn: 0.0926035\ttotal: 2.69s\tremaining: 5.74s\n",
      "319:\tlearn: 0.0925916\ttotal: 2.7s\tremaining: 5.74s\n",
      "320:\tlearn: 0.0925596\ttotal: 2.72s\tremaining: 5.75s\n",
      "321:\tlearn: 0.0925316\ttotal: 2.73s\tremaining: 5.74s\n",
      "322:\tlearn: 0.0925052\ttotal: 2.73s\tremaining: 5.73s\n",
      "323:\tlearn: 0.0924792\ttotal: 2.74s\tremaining: 5.71s\n",
      "324:\tlearn: 0.0924643\ttotal: 2.74s\tremaining: 5.69s\n",
      "325:\tlearn: 0.0924529\ttotal: 2.74s\tremaining: 5.67s\n",
      "326:\tlearn: 0.0924348\ttotal: 2.75s\tremaining: 5.66s\n",
      "327:\tlearn: 0.0924173\ttotal: 2.75s\tremaining: 5.64s\n",
      "328:\tlearn: 0.0924005\ttotal: 2.76s\tremaining: 5.62s\n",
      "329:\tlearn: 0.0923765\ttotal: 2.76s\tremaining: 5.6s\n",
      "330:\tlearn: 0.0923506\ttotal: 2.76s\tremaining: 5.59s\n",
      "331:\tlearn: 0.0923261\ttotal: 2.77s\tremaining: 5.57s\n",
      "332:\tlearn: 0.0922894\ttotal: 2.77s\tremaining: 5.55s\n",
      "333:\tlearn: 0.0922656\ttotal: 2.78s\tremaining: 5.54s\n",
      "334:\tlearn: 0.0922440\ttotal: 2.78s\tremaining: 5.53s\n",
      "335:\tlearn: 0.0922308\ttotal: 2.79s\tremaining: 5.51s\n",
      "336:\tlearn: 0.0922035\ttotal: 2.79s\tremaining: 5.49s\n",
      "337:\tlearn: 0.0921784\ttotal: 2.8s\tremaining: 5.48s\n",
      "338:\tlearn: 0.0921611\ttotal: 2.81s\tremaining: 5.48s\n",
      "339:\tlearn: 0.0921344\ttotal: 2.83s\tremaining: 5.5s\n",
      "340:\tlearn: 0.0921041\ttotal: 2.86s\tremaining: 5.52s\n",
      "341:\tlearn: 0.0920670\ttotal: 2.88s\tremaining: 5.53s\n",
      "342:\tlearn: 0.0920444\ttotal: 2.9s\tremaining: 5.56s\n",
      "343:\tlearn: 0.0920205\ttotal: 2.92s\tremaining: 5.57s\n",
      "344:\tlearn: 0.0920015\ttotal: 2.94s\tremaining: 5.58s\n",
      "345:\tlearn: 0.0919802\ttotal: 2.95s\tremaining: 5.58s\n",
      "346:\tlearn: 0.0919502\ttotal: 2.97s\tremaining: 5.59s\n",
      "347:\tlearn: 0.0919212\ttotal: 2.99s\tremaining: 5.6s\n",
      "348:\tlearn: 0.0919019\ttotal: 3s\tremaining: 5.6s\n",
      "349:\tlearn: 0.0918831\ttotal: 3.02s\tremaining: 5.61s\n",
      "350:\tlearn: 0.0918535\ttotal: 3.04s\tremaining: 5.62s\n",
      "351:\tlearn: 0.0918331\ttotal: 3.05s\tremaining: 5.62s\n",
      "352:\tlearn: 0.0918233\ttotal: 3.06s\tremaining: 5.61s\n",
      "353:\tlearn: 0.0917979\ttotal: 3.08s\tremaining: 5.61s\n",
      "354:\tlearn: 0.0917791\ttotal: 3.09s\tremaining: 5.61s\n",
      "355:\tlearn: 0.0917551\ttotal: 3.1s\tremaining: 5.6s\n",
      "356:\tlearn: 0.0917378\ttotal: 3.11s\tremaining: 5.6s\n",
      "357:\tlearn: 0.0917174\ttotal: 3.12s\tremaining: 5.59s\n",
      "358:\tlearn: 0.0916961\ttotal: 3.13s\tremaining: 5.59s\n",
      "359:\tlearn: 0.0916811\ttotal: 3.14s\tremaining: 5.58s\n",
      "360:\tlearn: 0.0916604\ttotal: 3.15s\tremaining: 5.58s\n",
      "361:\tlearn: 0.0916419\ttotal: 3.17s\tremaining: 5.58s\n",
      "362:\tlearn: 0.0916212\ttotal: 3.17s\tremaining: 5.57s\n",
      "363:\tlearn: 0.0916017\ttotal: 3.18s\tremaining: 5.55s\n",
      "364:\tlearn: 0.0915872\ttotal: 3.18s\tremaining: 5.53s\n",
      "365:\tlearn: 0.0915640\ttotal: 3.18s\tremaining: 5.51s\n",
      "366:\tlearn: 0.0915545\ttotal: 3.19s\tremaining: 5.5s\n",
      "367:\tlearn: 0.0915325\ttotal: 3.19s\tremaining: 5.48s\n",
      "368:\tlearn: 0.0915052\ttotal: 3.2s\tremaining: 5.47s\n",
      "369:\tlearn: 0.0914889\ttotal: 3.2s\tremaining: 5.45s\n",
      "370:\tlearn: 0.0914623\ttotal: 3.21s\tremaining: 5.43s\n",
      "371:\tlearn: 0.0914479\ttotal: 3.21s\tremaining: 5.42s\n",
      "372:\tlearn: 0.0914223\ttotal: 3.21s\tremaining: 5.4s\n",
      "373:\tlearn: 0.0914042\ttotal: 3.22s\tremaining: 5.39s\n",
      "374:\tlearn: 0.0913717\ttotal: 3.22s\tremaining: 5.37s\n",
      "375:\tlearn: 0.0913493\ttotal: 3.23s\tremaining: 5.36s\n",
      "376:\tlearn: 0.0913320\ttotal: 3.23s\tremaining: 5.34s\n",
      "377:\tlearn: 0.0913105\ttotal: 3.24s\tremaining: 5.33s\n",
      "378:\tlearn: 0.0912915\ttotal: 3.25s\tremaining: 5.33s\n",
      "379:\tlearn: 0.0912706\ttotal: 3.26s\tremaining: 5.32s\n",
      "380:\tlearn: 0.0912512\ttotal: 3.28s\tremaining: 5.33s\n",
      "381:\tlearn: 0.0912285\ttotal: 3.3s\tremaining: 5.34s\n",
      "382:\tlearn: 0.0911997\ttotal: 3.32s\tremaining: 5.36s\n",
      "383:\tlearn: 0.0911807\ttotal: 3.34s\tremaining: 5.37s\n",
      "384:\tlearn: 0.0911700\ttotal: 3.36s\tremaining: 5.37s\n",
      "385:\tlearn: 0.0911450\ttotal: 3.39s\tremaining: 5.39s\n",
      "386:\tlearn: 0.0911249\ttotal: 3.41s\tremaining: 5.39s\n",
      "387:\tlearn: 0.0911072\ttotal: 3.42s\tremaining: 5.39s\n",
      "388:\tlearn: 0.0910821\ttotal: 3.43s\tremaining: 5.39s\n",
      "389:\tlearn: 0.0910513\ttotal: 3.44s\tremaining: 5.38s\n",
      "390:\tlearn: 0.0910177\ttotal: 3.45s\tremaining: 5.37s\n",
      "391:\tlearn: 0.0909927\ttotal: 3.47s\tremaining: 5.38s\n",
      "392:\tlearn: 0.0909803\ttotal: 3.48s\tremaining: 5.38s\n",
      "393:\tlearn: 0.0909552\ttotal: 3.5s\tremaining: 5.38s\n",
      "394:\tlearn: 0.0909191\ttotal: 3.51s\tremaining: 5.37s\n",
      "395:\tlearn: 0.0909001\ttotal: 3.52s\tremaining: 5.36s\n",
      "396:\tlearn: 0.0908680\ttotal: 3.53s\tremaining: 5.36s\n",
      "397:\tlearn: 0.0908483\ttotal: 3.54s\tremaining: 5.35s\n",
      "398:\tlearn: 0.0908248\ttotal: 3.55s\tremaining: 5.35s\n",
      "399:\tlearn: 0.0908045\ttotal: 3.57s\tremaining: 5.35s\n",
      "400:\tlearn: 0.0907770\ttotal: 3.58s\tremaining: 5.35s\n",
      "401:\tlearn: 0.0907570\ttotal: 3.59s\tremaining: 5.34s\n",
      "402:\tlearn: 0.0907281\ttotal: 3.6s\tremaining: 5.34s\n",
      "403:\tlearn: 0.0907108\ttotal: 3.61s\tremaining: 5.33s\n",
      "404:\tlearn: 0.0906837\ttotal: 3.62s\tremaining: 5.31s\n",
      "405:\tlearn: 0.0906614\ttotal: 3.62s\tremaining: 5.3s\n",
      "406:\tlearn: 0.0906400\ttotal: 3.62s\tremaining: 5.28s\n",
      "407:\tlearn: 0.0906057\ttotal: 3.63s\tremaining: 5.27s\n",
      "408:\tlearn: 0.0905861\ttotal: 3.63s\tremaining: 5.25s\n",
      "409:\tlearn: 0.0905653\ttotal: 3.64s\tremaining: 5.24s\n",
      "410:\tlearn: 0.0905468\ttotal: 3.65s\tremaining: 5.23s\n",
      "411:\tlearn: 0.0905148\ttotal: 3.66s\tremaining: 5.22s\n",
      "412:\tlearn: 0.0904879\ttotal: 3.67s\tremaining: 5.22s\n",
      "413:\tlearn: 0.0904658\ttotal: 3.68s\tremaining: 5.21s\n",
      "414:\tlearn: 0.0904510\ttotal: 3.69s\tremaining: 5.21s\n",
      "415:\tlearn: 0.0904232\ttotal: 3.7s\tremaining: 5.2s\n",
      "416:\tlearn: 0.0904089\ttotal: 3.72s\tremaining: 5.2s\n",
      "417:\tlearn: 0.0903960\ttotal: 3.73s\tremaining: 5.2s\n",
      "418:\tlearn: 0.0903755\ttotal: 3.75s\tremaining: 5.19s\n",
      "419:\tlearn: 0.0903600\ttotal: 3.76s\tremaining: 5.19s\n",
      "420:\tlearn: 0.0903315\ttotal: 3.77s\tremaining: 5.19s\n",
      "421:\tlearn: 0.0902845\ttotal: 3.79s\tremaining: 5.19s\n",
      "422:\tlearn: 0.0902675\ttotal: 3.8s\tremaining: 5.19s\n",
      "423:\tlearn: 0.0902526\ttotal: 3.82s\tremaining: 5.19s\n",
      "424:\tlearn: 0.0902380\ttotal: 3.83s\tremaining: 5.19s\n",
      "425:\tlearn: 0.0902248\ttotal: 3.85s\tremaining: 5.19s\n",
      "426:\tlearn: 0.0902068\ttotal: 3.87s\tremaining: 5.19s\n",
      "427:\tlearn: 0.0901918\ttotal: 3.89s\tremaining: 5.19s\n",
      "428:\tlearn: 0.0901706\ttotal: 3.91s\tremaining: 5.21s\n",
      "429:\tlearn: 0.0901489\ttotal: 3.92s\tremaining: 5.2s\n",
      "430:\tlearn: 0.0901362\ttotal: 3.94s\tremaining: 5.2s\n",
      "431:\tlearn: 0.0901231\ttotal: 3.95s\tremaining: 5.19s\n",
      "432:\tlearn: 0.0901041\ttotal: 3.96s\tremaining: 5.18s\n",
      "433:\tlearn: 0.0900783\ttotal: 3.97s\tremaining: 5.17s\n",
      "434:\tlearn: 0.0900485\ttotal: 3.98s\tremaining: 5.17s\n",
      "435:\tlearn: 0.0900290\ttotal: 3.98s\tremaining: 5.16s\n",
      "436:\tlearn: 0.0900213\ttotal: 3.99s\tremaining: 5.14s\n",
      "437:\tlearn: 0.0899824\ttotal: 4s\tremaining: 5.14s\n",
      "438:\tlearn: 0.0899698\ttotal: 4.02s\tremaining: 5.14s\n",
      "439:\tlearn: 0.0899453\ttotal: 4.03s\tremaining: 5.13s\n",
      "440:\tlearn: 0.0899218\ttotal: 4.04s\tremaining: 5.13s\n",
      "441:\tlearn: 0.0898937\ttotal: 4.06s\tremaining: 5.13s\n",
      "442:\tlearn: 0.0898747\ttotal: 4.08s\tremaining: 5.12s\n",
      "443:\tlearn: 0.0898602\ttotal: 4.09s\tremaining: 5.12s\n",
      "444:\tlearn: 0.0898435\ttotal: 4.1s\tremaining: 5.11s\n",
      "445:\tlearn: 0.0898089\ttotal: 4.11s\tremaining: 5.1s\n",
      "446:\tlearn: 0.0897976\ttotal: 4.12s\tremaining: 5.09s\n",
      "447:\tlearn: 0.0897768\ttotal: 4.13s\tremaining: 5.09s\n",
      "448:\tlearn: 0.0897512\ttotal: 4.14s\tremaining: 5.08s\n",
      "449:\tlearn: 0.0897355\ttotal: 4.15s\tremaining: 5.07s\n",
      "450:\tlearn: 0.0897191\ttotal: 4.17s\tremaining: 5.07s\n",
      "451:\tlearn: 0.0897040\ttotal: 4.18s\tremaining: 5.07s\n",
      "452:\tlearn: 0.0896861\ttotal: 4.2s\tremaining: 5.07s\n",
      "453:\tlearn: 0.0896613\ttotal: 4.21s\tremaining: 5.07s\n",
      "454:\tlearn: 0.0896493\ttotal: 4.22s\tremaining: 5.06s\n",
      "455:\tlearn: 0.0896365\ttotal: 4.24s\tremaining: 5.05s\n",
      "456:\tlearn: 0.0896248\ttotal: 4.25s\tremaining: 5.04s\n",
      "457:\tlearn: 0.0895972\ttotal: 4.26s\tremaining: 5.04s\n",
      "458:\tlearn: 0.0895776\ttotal: 4.29s\tremaining: 5.06s\n",
      "459:\tlearn: 0.0895536\ttotal: 4.31s\tremaining: 5.06s\n",
      "460:\tlearn: 0.0895297\ttotal: 4.33s\tremaining: 5.06s\n",
      "461:\tlearn: 0.0895013\ttotal: 4.35s\tremaining: 5.07s\n",
      "462:\tlearn: 0.0894753\ttotal: 4.36s\tremaining: 5.06s\n",
      "463:\tlearn: 0.0894651\ttotal: 4.38s\tremaining: 5.05s\n",
      "464:\tlearn: 0.0894461\ttotal: 4.38s\tremaining: 5.04s\n",
      "465:\tlearn: 0.0894257\ttotal: 4.39s\tremaining: 5.04s\n",
      "466:\tlearn: 0.0894145\ttotal: 4.41s\tremaining: 5.03s\n",
      "467:\tlearn: 0.0893941\ttotal: 4.42s\tremaining: 5.03s\n",
      "468:\tlearn: 0.0893848\ttotal: 4.44s\tremaining: 5.03s\n",
      "469:\tlearn: 0.0893632\ttotal: 4.45s\tremaining: 5.02s\n",
      "470:\tlearn: 0.0893336\ttotal: 4.46s\tremaining: 5.01s\n",
      "471:\tlearn: 0.0893120\ttotal: 4.47s\tremaining: 5s\n",
      "472:\tlearn: 0.0892815\ttotal: 4.49s\tremaining: 5s\n",
      "473:\tlearn: 0.0892597\ttotal: 4.5s\tremaining: 4.99s\n",
      "474:\tlearn: 0.0892241\ttotal: 4.51s\tremaining: 4.98s\n",
      "475:\tlearn: 0.0892079\ttotal: 4.52s\tremaining: 4.97s\n",
      "476:\tlearn: 0.0891878\ttotal: 4.53s\tremaining: 4.97s\n",
      "477:\tlearn: 0.0891646\ttotal: 4.54s\tremaining: 4.96s\n",
      "478:\tlearn: 0.0891515\ttotal: 4.55s\tremaining: 4.95s\n",
      "479:\tlearn: 0.0891324\ttotal: 4.56s\tremaining: 4.94s\n",
      "480:\tlearn: 0.0891136\ttotal: 4.57s\tremaining: 4.93s\n",
      "481:\tlearn: 0.0890964\ttotal: 4.59s\tremaining: 4.93s\n",
      "482:\tlearn: 0.0890804\ttotal: 4.6s\tremaining: 4.92s\n",
      "483:\tlearn: 0.0890624\ttotal: 4.62s\tremaining: 4.92s\n",
      "484:\tlearn: 0.0890350\ttotal: 4.63s\tremaining: 4.92s\n",
      "485:\tlearn: 0.0890132\ttotal: 4.65s\tremaining: 4.92s\n",
      "486:\tlearn: 0.0889992\ttotal: 4.66s\tremaining: 4.91s\n",
      "487:\tlearn: 0.0889808\ttotal: 4.68s\tremaining: 4.92s\n",
      "488:\tlearn: 0.0889645\ttotal: 4.7s\tremaining: 4.91s\n",
      "489:\tlearn: 0.0889451\ttotal: 4.72s\tremaining: 4.91s\n",
      "490:\tlearn: 0.0889192\ttotal: 4.74s\tremaining: 4.91s\n",
      "491:\tlearn: 0.0889018\ttotal: 4.76s\tremaining: 4.91s\n",
      "492:\tlearn: 0.0888800\ttotal: 4.78s\tremaining: 4.91s\n",
      "493:\tlearn: 0.0888652\ttotal: 4.79s\tremaining: 4.91s\n",
      "494:\tlearn: 0.0888467\ttotal: 4.8s\tremaining: 4.9s\n",
      "495:\tlearn: 0.0888255\ttotal: 4.82s\tremaining: 4.89s\n",
      "496:\tlearn: 0.0888060\ttotal: 4.82s\tremaining: 4.88s\n",
      "497:\tlearn: 0.0888002\ttotal: 4.83s\tremaining: 4.87s\n",
      "498:\tlearn: 0.0887736\ttotal: 4.83s\tremaining: 4.85s\n",
      "499:\tlearn: 0.0887517\ttotal: 4.84s\tremaining: 4.84s\n",
      "500:\tlearn: 0.0887420\ttotal: 4.86s\tremaining: 4.84s\n",
      "501:\tlearn: 0.0887248\ttotal: 4.87s\tremaining: 4.83s\n",
      "502:\tlearn: 0.0887061\ttotal: 4.88s\tremaining: 4.82s\n",
      "503:\tlearn: 0.0886961\ttotal: 4.89s\tremaining: 4.81s\n",
      "504:\tlearn: 0.0886784\ttotal: 4.9s\tremaining: 4.8s\n",
      "505:\tlearn: 0.0886643\ttotal: 4.91s\tremaining: 4.8s\n",
      "506:\tlearn: 0.0886516\ttotal: 4.92s\tremaining: 4.79s\n",
      "507:\tlearn: 0.0886376\ttotal: 4.93s\tremaining: 4.78s\n",
      "508:\tlearn: 0.0886085\ttotal: 4.94s\tremaining: 4.77s\n",
      "509:\tlearn: 0.0885874\ttotal: 4.95s\tremaining: 4.76s\n",
      "510:\tlearn: 0.0885742\ttotal: 4.96s\tremaining: 4.75s\n",
      "511:\tlearn: 0.0885579\ttotal: 4.97s\tremaining: 4.74s\n",
      "512:\tlearn: 0.0885470\ttotal: 4.98s\tremaining: 4.73s\n",
      "513:\tlearn: 0.0885292\ttotal: 4.99s\tremaining: 4.72s\n",
      "514:\tlearn: 0.0885141\ttotal: 5s\tremaining: 4.71s\n",
      "515:\tlearn: 0.0884983\ttotal: 5.01s\tremaining: 4.7s\n",
      "516:\tlearn: 0.0884738\ttotal: 5.02s\tremaining: 4.69s\n",
      "517:\tlearn: 0.0884532\ttotal: 5.03s\tremaining: 4.68s\n",
      "518:\tlearn: 0.0884355\ttotal: 5.04s\tremaining: 4.67s\n",
      "519:\tlearn: 0.0884206\ttotal: 5.05s\tremaining: 4.66s\n",
      "520:\tlearn: 0.0884093\ttotal: 5.05s\tremaining: 4.65s\n",
      "521:\tlearn: 0.0883920\ttotal: 5.06s\tremaining: 4.63s\n",
      "522:\tlearn: 0.0883711\ttotal: 5.06s\tremaining: 4.62s\n",
      "523:\tlearn: 0.0883486\ttotal: 5.07s\tremaining: 4.6s\n",
      "524:\tlearn: 0.0883313\ttotal: 5.07s\tremaining: 4.59s\n",
      "525:\tlearn: 0.0883208\ttotal: 5.08s\tremaining: 4.57s\n",
      "526:\tlearn: 0.0882993\ttotal: 5.08s\tremaining: 4.56s\n",
      "527:\tlearn: 0.0882845\ttotal: 5.08s\tremaining: 4.54s\n",
      "528:\tlearn: 0.0882701\ttotal: 5.09s\tremaining: 4.53s\n",
      "529:\tlearn: 0.0882478\ttotal: 5.1s\tremaining: 4.52s\n",
      "530:\tlearn: 0.0882368\ttotal: 5.11s\tremaining: 4.51s\n",
      "531:\tlearn: 0.0882184\ttotal: 5.12s\tremaining: 4.5s\n",
      "532:\tlearn: 0.0881976\ttotal: 5.13s\tremaining: 4.5s\n",
      "533:\tlearn: 0.0881813\ttotal: 5.14s\tremaining: 4.49s\n",
      "534:\tlearn: 0.0881650\ttotal: 5.15s\tremaining: 4.48s\n",
      "535:\tlearn: 0.0881429\ttotal: 5.16s\tremaining: 4.47s\n",
      "536:\tlearn: 0.0881237\ttotal: 5.17s\tremaining: 4.46s\n",
      "537:\tlearn: 0.0881094\ttotal: 5.18s\tremaining: 4.45s\n",
      "538:\tlearn: 0.0881030\ttotal: 5.19s\tremaining: 4.44s\n",
      "539:\tlearn: 0.0880882\ttotal: 5.2s\tremaining: 4.43s\n",
      "540:\tlearn: 0.0880682\ttotal: 5.21s\tremaining: 4.42s\n",
      "541:\tlearn: 0.0880517\ttotal: 5.22s\tremaining: 4.41s\n",
      "542:\tlearn: 0.0880354\ttotal: 5.24s\tremaining: 4.41s\n",
      "543:\tlearn: 0.0880259\ttotal: 5.25s\tremaining: 4.4s\n",
      "544:\tlearn: 0.0880079\ttotal: 5.25s\tremaining: 4.39s\n",
      "545:\tlearn: 0.0879974\ttotal: 5.26s\tremaining: 4.38s\n",
      "546:\tlearn: 0.0879855\ttotal: 5.27s\tremaining: 4.36s\n",
      "547:\tlearn: 0.0879769\ttotal: 5.28s\tremaining: 4.35s\n",
      "548:\tlearn: 0.0879655\ttotal: 5.28s\tremaining: 4.34s\n",
      "549:\tlearn: 0.0879560\ttotal: 5.29s\tremaining: 4.33s\n",
      "550:\tlearn: 0.0879472\ttotal: 5.3s\tremaining: 4.32s\n",
      "551:\tlearn: 0.0879340\ttotal: 5.31s\tremaining: 4.31s\n",
      "552:\tlearn: 0.0879108\ttotal: 5.32s\tremaining: 4.3s\n",
      "553:\tlearn: 0.0878924\ttotal: 5.33s\tremaining: 4.29s\n",
      "554:\tlearn: 0.0878575\ttotal: 5.34s\tremaining: 4.28s\n",
      "555:\tlearn: 0.0878402\ttotal: 5.35s\tremaining: 4.27s\n",
      "556:\tlearn: 0.0878189\ttotal: 5.36s\tremaining: 4.26s\n",
      "557:\tlearn: 0.0878034\ttotal: 5.37s\tremaining: 4.25s\n",
      "558:\tlearn: 0.0877933\ttotal: 5.38s\tremaining: 4.25s\n",
      "559:\tlearn: 0.0877753\ttotal: 5.39s\tremaining: 4.24s\n",
      "560:\tlearn: 0.0877663\ttotal: 5.41s\tremaining: 4.23s\n",
      "561:\tlearn: 0.0877525\ttotal: 5.41s\tremaining: 4.22s\n",
      "562:\tlearn: 0.0877351\ttotal: 5.42s\tremaining: 4.21s\n",
      "563:\tlearn: 0.0877231\ttotal: 5.42s\tremaining: 4.19s\n",
      "564:\tlearn: 0.0877097\ttotal: 5.42s\tremaining: 4.18s\n",
      "565:\tlearn: 0.0876998\ttotal: 5.43s\tremaining: 4.16s\n",
      "566:\tlearn: 0.0876787\ttotal: 5.43s\tremaining: 4.15s\n",
      "567:\tlearn: 0.0876572\ttotal: 5.44s\tremaining: 4.13s\n",
      "568:\tlearn: 0.0876429\ttotal: 5.44s\tremaining: 4.12s\n",
      "569:\tlearn: 0.0876262\ttotal: 5.45s\tremaining: 4.11s\n",
      "570:\tlearn: 0.0876096\ttotal: 5.45s\tremaining: 4.09s\n",
      "571:\tlearn: 0.0875899\ttotal: 5.45s\tremaining: 4.08s\n",
      "572:\tlearn: 0.0875723\ttotal: 5.46s\tremaining: 4.07s\n",
      "573:\tlearn: 0.0875501\ttotal: 5.46s\tremaining: 4.05s\n",
      "574:\tlearn: 0.0875284\ttotal: 5.47s\tremaining: 4.04s\n",
      "575:\tlearn: 0.0875132\ttotal: 5.47s\tremaining: 4.03s\n",
      "576:\tlearn: 0.0874976\ttotal: 5.48s\tremaining: 4.01s\n",
      "577:\tlearn: 0.0874765\ttotal: 5.48s\tremaining: 4s\n",
      "578:\tlearn: 0.0874530\ttotal: 5.49s\tremaining: 3.99s\n",
      "579:\tlearn: 0.0874383\ttotal: 5.49s\tremaining: 3.98s\n",
      "580:\tlearn: 0.0874304\ttotal: 5.5s\tremaining: 3.97s\n",
      "581:\tlearn: 0.0874193\ttotal: 5.51s\tremaining: 3.96s\n",
      "582:\tlearn: 0.0873955\ttotal: 5.52s\tremaining: 3.95s\n",
      "583:\tlearn: 0.0873794\ttotal: 5.53s\tremaining: 3.94s\n",
      "584:\tlearn: 0.0873687\ttotal: 5.54s\tremaining: 3.93s\n",
      "585:\tlearn: 0.0873584\ttotal: 5.55s\tremaining: 3.92s\n",
      "586:\tlearn: 0.0873387\ttotal: 5.56s\tremaining: 3.91s\n",
      "587:\tlearn: 0.0873250\ttotal: 5.57s\tremaining: 3.9s\n",
      "588:\tlearn: 0.0873072\ttotal: 5.58s\tremaining: 3.89s\n",
      "589:\tlearn: 0.0872959\ttotal: 5.61s\tremaining: 3.9s\n",
      "590:\tlearn: 0.0872768\ttotal: 5.62s\tremaining: 3.89s\n",
      "591:\tlearn: 0.0872666\ttotal: 5.64s\tremaining: 3.89s\n",
      "592:\tlearn: 0.0872417\ttotal: 5.65s\tremaining: 3.88s\n",
      "593:\tlearn: 0.0872165\ttotal: 5.67s\tremaining: 3.88s\n",
      "594:\tlearn: 0.0871936\ttotal: 5.69s\tremaining: 3.87s\n",
      "595:\tlearn: 0.0871758\ttotal: 5.71s\tremaining: 3.87s\n",
      "596:\tlearn: 0.0871658\ttotal: 5.72s\tremaining: 3.86s\n",
      "597:\tlearn: 0.0871588\ttotal: 5.74s\tremaining: 3.86s\n",
      "598:\tlearn: 0.0871400\ttotal: 5.75s\tremaining: 3.85s\n",
      "599:\tlearn: 0.0871269\ttotal: 5.76s\tremaining: 3.84s\n",
      "600:\tlearn: 0.0870915\ttotal: 5.77s\tremaining: 3.83s\n",
      "601:\tlearn: 0.0870709\ttotal: 5.79s\tremaining: 3.82s\n",
      "602:\tlearn: 0.0870503\ttotal: 5.79s\tremaining: 3.81s\n",
      "603:\tlearn: 0.0870341\ttotal: 5.81s\tremaining: 3.81s\n",
      "604:\tlearn: 0.0870195\ttotal: 5.82s\tremaining: 3.8s\n",
      "605:\tlearn: 0.0870008\ttotal: 5.83s\tremaining: 3.79s\n",
      "606:\tlearn: 0.0869847\ttotal: 5.84s\tremaining: 3.78s\n",
      "607:\tlearn: 0.0869591\ttotal: 5.85s\tremaining: 3.77s\n",
      "608:\tlearn: 0.0869381\ttotal: 5.85s\tremaining: 3.76s\n",
      "609:\tlearn: 0.0869195\ttotal: 5.86s\tremaining: 3.74s\n",
      "610:\tlearn: 0.0868977\ttotal: 5.86s\tremaining: 3.73s\n",
      "611:\tlearn: 0.0868860\ttotal: 5.86s\tremaining: 3.72s\n",
      "612:\tlearn: 0.0868715\ttotal: 5.87s\tremaining: 3.7s\n",
      "613:\tlearn: 0.0868445\ttotal: 5.87s\tremaining: 3.69s\n",
      "614:\tlearn: 0.0868218\ttotal: 5.88s\tremaining: 3.68s\n",
      "615:\tlearn: 0.0868095\ttotal: 5.88s\tremaining: 3.67s\n",
      "616:\tlearn: 0.0867962\ttotal: 5.89s\tremaining: 3.65s\n",
      "617:\tlearn: 0.0867839\ttotal: 5.89s\tremaining: 3.64s\n",
      "618:\tlearn: 0.0867752\ttotal: 5.89s\tremaining: 3.63s\n",
      "619:\tlearn: 0.0867667\ttotal: 5.9s\tremaining: 3.62s\n",
      "620:\tlearn: 0.0867504\ttotal: 5.9s\tremaining: 3.6s\n",
      "621:\tlearn: 0.0867377\ttotal: 5.92s\tremaining: 3.59s\n",
      "622:\tlearn: 0.0867036\ttotal: 5.92s\tremaining: 3.58s\n",
      "623:\tlearn: 0.0866963\ttotal: 5.93s\tremaining: 3.58s\n",
      "624:\tlearn: 0.0866738\ttotal: 5.95s\tremaining: 3.57s\n",
      "625:\tlearn: 0.0866570\ttotal: 5.96s\tremaining: 3.56s\n",
      "626:\tlearn: 0.0866339\ttotal: 5.97s\tremaining: 3.55s\n",
      "627:\tlearn: 0.0866150\ttotal: 5.98s\tremaining: 3.54s\n",
      "628:\tlearn: 0.0866016\ttotal: 5.99s\tremaining: 3.53s\n",
      "629:\tlearn: 0.0865890\ttotal: 6s\tremaining: 3.52s\n",
      "630:\tlearn: 0.0865679\ttotal: 6s\tremaining: 3.51s\n",
      "631:\tlearn: 0.0865497\ttotal: 6.02s\tremaining: 3.5s\n",
      "632:\tlearn: 0.0865249\ttotal: 6.03s\tremaining: 3.5s\n",
      "633:\tlearn: 0.0865082\ttotal: 6.05s\tremaining: 3.49s\n",
      "634:\tlearn: 0.0864912\ttotal: 6.07s\tremaining: 3.49s\n",
      "635:\tlearn: 0.0864724\ttotal: 6.08s\tremaining: 3.48s\n",
      "636:\tlearn: 0.0864554\ttotal: 6.1s\tremaining: 3.48s\n",
      "637:\tlearn: 0.0864373\ttotal: 6.12s\tremaining: 3.47s\n",
      "638:\tlearn: 0.0864203\ttotal: 6.13s\tremaining: 3.46s\n",
      "639:\tlearn: 0.0864075\ttotal: 6.15s\tremaining: 3.46s\n",
      "640:\tlearn: 0.0863931\ttotal: 6.16s\tremaining: 3.45s\n",
      "641:\tlearn: 0.0863829\ttotal: 6.17s\tremaining: 3.44s\n",
      "642:\tlearn: 0.0863619\ttotal: 6.18s\tremaining: 3.43s\n",
      "643:\tlearn: 0.0863443\ttotal: 6.21s\tremaining: 3.43s\n",
      "644:\tlearn: 0.0863255\ttotal: 6.21s\tremaining: 3.42s\n",
      "645:\tlearn: 0.0863190\ttotal: 6.22s\tremaining: 3.41s\n",
      "646:\tlearn: 0.0863071\ttotal: 6.24s\tremaining: 3.4s\n",
      "647:\tlearn: 0.0862954\ttotal: 6.24s\tremaining: 3.39s\n",
      "648:\tlearn: 0.0862869\ttotal: 6.25s\tremaining: 3.38s\n",
      "649:\tlearn: 0.0862722\ttotal: 6.26s\tremaining: 3.37s\n",
      "650:\tlearn: 0.0862578\ttotal: 6.28s\tremaining: 3.36s\n",
      "651:\tlearn: 0.0862492\ttotal: 6.28s\tremaining: 3.35s\n",
      "652:\tlearn: 0.0862254\ttotal: 6.29s\tremaining: 3.34s\n",
      "653:\tlearn: 0.0862004\ttotal: 6.3s\tremaining: 3.33s\n",
      "654:\tlearn: 0.0861878\ttotal: 6.32s\tremaining: 3.33s\n",
      "655:\tlearn: 0.0861722\ttotal: 6.33s\tremaining: 3.32s\n",
      "656:\tlearn: 0.0861601\ttotal: 6.34s\tremaining: 3.31s\n",
      "657:\tlearn: 0.0861389\ttotal: 6.36s\tremaining: 3.3s\n",
      "658:\tlearn: 0.0861314\ttotal: 6.37s\tremaining: 3.29s\n",
      "659:\tlearn: 0.0861157\ttotal: 6.38s\tremaining: 3.29s\n",
      "660:\tlearn: 0.0861023\ttotal: 6.39s\tremaining: 3.28s\n",
      "661:\tlearn: 0.0860836\ttotal: 6.4s\tremaining: 3.27s\n",
      "662:\tlearn: 0.0860654\ttotal: 6.41s\tremaining: 3.26s\n",
      "663:\tlearn: 0.0860507\ttotal: 6.42s\tremaining: 3.25s\n",
      "664:\tlearn: 0.0860399\ttotal: 6.43s\tremaining: 3.24s\n",
      "665:\tlearn: 0.0860210\ttotal: 6.45s\tremaining: 3.23s\n",
      "666:\tlearn: 0.0860051\ttotal: 6.47s\tremaining: 3.23s\n",
      "667:\tlearn: 0.0859867\ttotal: 6.49s\tremaining: 3.23s\n",
      "668:\tlearn: 0.0859669\ttotal: 6.51s\tremaining: 3.22s\n",
      "669:\tlearn: 0.0859470\ttotal: 6.52s\tremaining: 3.21s\n",
      "670:\tlearn: 0.0859338\ttotal: 6.54s\tremaining: 3.21s\n",
      "671:\tlearn: 0.0859212\ttotal: 6.55s\tremaining: 3.2s\n",
      "672:\tlearn: 0.0859092\ttotal: 6.58s\tremaining: 3.19s\n",
      "673:\tlearn: 0.0858903\ttotal: 6.59s\tremaining: 3.19s\n",
      "674:\tlearn: 0.0858754\ttotal: 6.61s\tremaining: 3.18s\n",
      "675:\tlearn: 0.0858639\ttotal: 6.62s\tremaining: 3.17s\n",
      "676:\tlearn: 0.0858438\ttotal: 6.64s\tremaining: 3.17s\n",
      "677:\tlearn: 0.0858267\ttotal: 6.65s\tremaining: 3.16s\n",
      "678:\tlearn: 0.0858104\ttotal: 6.67s\tremaining: 3.15s\n",
      "679:\tlearn: 0.0857973\ttotal: 6.68s\tremaining: 3.15s\n",
      "680:\tlearn: 0.0857820\ttotal: 6.69s\tremaining: 3.13s\n",
      "681:\tlearn: 0.0857622\ttotal: 6.7s\tremaining: 3.13s\n",
      "682:\tlearn: 0.0857421\ttotal: 6.71s\tremaining: 3.12s\n",
      "683:\tlearn: 0.0857226\ttotal: 6.73s\tremaining: 3.11s\n",
      "684:\tlearn: 0.0856988\ttotal: 6.74s\tremaining: 3.1s\n",
      "685:\tlearn: 0.0856873\ttotal: 6.75s\tremaining: 3.09s\n",
      "686:\tlearn: 0.0856691\ttotal: 6.76s\tremaining: 3.08s\n",
      "687:\tlearn: 0.0856624\ttotal: 6.77s\tremaining: 3.07s\n",
      "688:\tlearn: 0.0856433\ttotal: 6.78s\tremaining: 3.06s\n",
      "689:\tlearn: 0.0856355\ttotal: 6.79s\tremaining: 3.05s\n",
      "690:\tlearn: 0.0856211\ttotal: 6.8s\tremaining: 3.04s\n",
      "691:\tlearn: 0.0856105\ttotal: 6.81s\tremaining: 3.03s\n",
      "692:\tlearn: 0.0855967\ttotal: 6.82s\tremaining: 3.02s\n",
      "693:\tlearn: 0.0855823\ttotal: 6.83s\tremaining: 3.01s\n",
      "694:\tlearn: 0.0855664\ttotal: 6.84s\tremaining: 3s\n",
      "695:\tlearn: 0.0855553\ttotal: 6.85s\tremaining: 2.99s\n",
      "696:\tlearn: 0.0855419\ttotal: 6.86s\tremaining: 2.98s\n",
      "697:\tlearn: 0.0855262\ttotal: 6.86s\tremaining: 2.97s\n",
      "698:\tlearn: 0.0855031\ttotal: 6.87s\tremaining: 2.96s\n",
      "699:\tlearn: 0.0854901\ttotal: 6.87s\tremaining: 2.94s\n",
      "700:\tlearn: 0.0854775\ttotal: 6.88s\tremaining: 2.93s\n",
      "701:\tlearn: 0.0854655\ttotal: 6.88s\tremaining: 2.92s\n",
      "702:\tlearn: 0.0854471\ttotal: 6.88s\tremaining: 2.91s\n",
      "703:\tlearn: 0.0854248\ttotal: 6.89s\tremaining: 2.9s\n",
      "704:\tlearn: 0.0854023\ttotal: 6.89s\tremaining: 2.88s\n",
      "705:\tlearn: 0.0853865\ttotal: 6.9s\tremaining: 2.87s\n",
      "706:\tlearn: 0.0853757\ttotal: 6.9s\tremaining: 2.86s\n",
      "707:\tlearn: 0.0853604\ttotal: 6.9s\tremaining: 2.85s\n",
      "708:\tlearn: 0.0853448\ttotal: 6.91s\tremaining: 2.84s\n",
      "709:\tlearn: 0.0853259\ttotal: 6.91s\tremaining: 2.82s\n",
      "710:\tlearn: 0.0853183\ttotal: 6.92s\tremaining: 2.81s\n",
      "711:\tlearn: 0.0853125\ttotal: 6.92s\tremaining: 2.8s\n",
      "712:\tlearn: 0.0852903\ttotal: 6.93s\tremaining: 2.79s\n",
      "713:\tlearn: 0.0852802\ttotal: 6.94s\tremaining: 2.78s\n",
      "714:\tlearn: 0.0852634\ttotal: 6.95s\tremaining: 2.77s\n",
      "715:\tlearn: 0.0852484\ttotal: 6.96s\tremaining: 2.76s\n",
      "716:\tlearn: 0.0852382\ttotal: 6.97s\tremaining: 2.75s\n",
      "717:\tlearn: 0.0852252\ttotal: 6.98s\tremaining: 2.74s\n",
      "718:\tlearn: 0.0852184\ttotal: 7s\tremaining: 2.73s\n",
      "719:\tlearn: 0.0852111\ttotal: 7.01s\tremaining: 2.73s\n",
      "720:\tlearn: 0.0852022\ttotal: 7.03s\tremaining: 2.72s\n",
      "721:\tlearn: 0.0851863\ttotal: 7.04s\tremaining: 2.71s\n",
      "722:\tlearn: 0.0851699\ttotal: 7.05s\tremaining: 2.7s\n",
      "723:\tlearn: 0.0851562\ttotal: 7.07s\tremaining: 2.69s\n",
      "724:\tlearn: 0.0851473\ttotal: 7.09s\tremaining: 2.69s\n",
      "725:\tlearn: 0.0851343\ttotal: 7.11s\tremaining: 2.68s\n",
      "726:\tlearn: 0.0851119\ttotal: 7.13s\tremaining: 2.67s\n",
      "727:\tlearn: 0.0850984\ttotal: 7.14s\tremaining: 2.67s\n",
      "728:\tlearn: 0.0850939\ttotal: 7.16s\tremaining: 2.66s\n",
      "729:\tlearn: 0.0850807\ttotal: 7.17s\tremaining: 2.65s\n",
      "730:\tlearn: 0.0850680\ttotal: 7.19s\tremaining: 2.64s\n",
      "731:\tlearn: 0.0850553\ttotal: 7.2s\tremaining: 2.64s\n",
      "732:\tlearn: 0.0850454\ttotal: 7.22s\tremaining: 2.63s\n",
      "733:\tlearn: 0.0850333\ttotal: 7.24s\tremaining: 2.62s\n",
      "734:\tlearn: 0.0850234\ttotal: 7.25s\tremaining: 2.62s\n",
      "735:\tlearn: 0.0850077\ttotal: 7.28s\tremaining: 2.61s\n",
      "736:\tlearn: 0.0849890\ttotal: 7.29s\tremaining: 2.6s\n",
      "737:\tlearn: 0.0849727\ttotal: 7.3s\tremaining: 2.59s\n",
      "738:\tlearn: 0.0849534\ttotal: 7.32s\tremaining: 2.58s\n",
      "739:\tlearn: 0.0849459\ttotal: 7.33s\tremaining: 2.58s\n",
      "740:\tlearn: 0.0849281\ttotal: 7.35s\tremaining: 2.57s\n",
      "741:\tlearn: 0.0849089\ttotal: 7.37s\tremaining: 2.56s\n",
      "742:\tlearn: 0.0848821\ttotal: 7.38s\tremaining: 2.55s\n",
      "743:\tlearn: 0.0848648\ttotal: 7.39s\tremaining: 2.54s\n",
      "744:\tlearn: 0.0848453\ttotal: 7.4s\tremaining: 2.53s\n",
      "745:\tlearn: 0.0848282\ttotal: 7.41s\tremaining: 2.52s\n",
      "746:\tlearn: 0.0848104\ttotal: 7.42s\tremaining: 2.51s\n",
      "747:\tlearn: 0.0847964\ttotal: 7.43s\tremaining: 2.5s\n",
      "748:\tlearn: 0.0847813\ttotal: 7.44s\tremaining: 2.49s\n",
      "749:\tlearn: 0.0847601\ttotal: 7.45s\tremaining: 2.48s\n",
      "750:\tlearn: 0.0847434\ttotal: 7.46s\tremaining: 2.47s\n",
      "751:\tlearn: 0.0847301\ttotal: 7.47s\tremaining: 2.46s\n",
      "752:\tlearn: 0.0847130\ttotal: 7.49s\tremaining: 2.46s\n",
      "753:\tlearn: 0.0847013\ttotal: 7.5s\tremaining: 2.45s\n",
      "754:\tlearn: 0.0846790\ttotal: 7.51s\tremaining: 2.44s\n",
      "755:\tlearn: 0.0846668\ttotal: 7.51s\tremaining: 2.42s\n",
      "756:\tlearn: 0.0846507\ttotal: 7.52s\tremaining: 2.41s\n",
      "757:\tlearn: 0.0846406\ttotal: 7.52s\tremaining: 2.4s\n",
      "758:\tlearn: 0.0846299\ttotal: 7.53s\tremaining: 2.39s\n",
      "759:\tlearn: 0.0846181\ttotal: 7.53s\tremaining: 2.38s\n",
      "760:\tlearn: 0.0846013\ttotal: 7.53s\tremaining: 2.37s\n",
      "761:\tlearn: 0.0845769\ttotal: 7.54s\tremaining: 2.35s\n",
      "762:\tlearn: 0.0845703\ttotal: 7.54s\tremaining: 2.34s\n",
      "763:\tlearn: 0.0845535\ttotal: 7.55s\tremaining: 2.33s\n",
      "764:\tlearn: 0.0845365\ttotal: 7.55s\tremaining: 2.32s\n",
      "765:\tlearn: 0.0845232\ttotal: 7.57s\tremaining: 2.31s\n",
      "766:\tlearn: 0.0845058\ttotal: 7.58s\tremaining: 2.3s\n",
      "767:\tlearn: 0.0844895\ttotal: 7.59s\tremaining: 2.29s\n",
      "768:\tlearn: 0.0844736\ttotal: 7.6s\tremaining: 2.28s\n",
      "769:\tlearn: 0.0844549\ttotal: 7.61s\tremaining: 2.27s\n",
      "770:\tlearn: 0.0844364\ttotal: 7.63s\tremaining: 2.27s\n",
      "771:\tlearn: 0.0844243\ttotal: 7.65s\tremaining: 2.26s\n",
      "772:\tlearn: 0.0844043\ttotal: 7.67s\tremaining: 2.25s\n",
      "773:\tlearn: 0.0843856\ttotal: 7.68s\tremaining: 2.24s\n",
      "774:\tlearn: 0.0843775\ttotal: 7.69s\tremaining: 2.23s\n",
      "775:\tlearn: 0.0843629\ttotal: 7.71s\tremaining: 2.22s\n",
      "776:\tlearn: 0.0843516\ttotal: 7.72s\tremaining: 2.22s\n",
      "777:\tlearn: 0.0843373\ttotal: 7.74s\tremaining: 2.21s\n",
      "778:\tlearn: 0.0843279\ttotal: 7.76s\tremaining: 2.2s\n",
      "779:\tlearn: 0.0843182\ttotal: 7.77s\tremaining: 2.19s\n",
      "780:\tlearn: 0.0843062\ttotal: 7.79s\tremaining: 2.18s\n",
      "781:\tlearn: 0.0842898\ttotal: 7.8s\tremaining: 2.17s\n",
      "782:\tlearn: 0.0842762\ttotal: 7.82s\tremaining: 2.17s\n",
      "783:\tlearn: 0.0842667\ttotal: 7.83s\tremaining: 2.16s\n",
      "784:\tlearn: 0.0842471\ttotal: 7.84s\tremaining: 2.15s\n",
      "785:\tlearn: 0.0842335\ttotal: 7.85s\tremaining: 2.14s\n",
      "786:\tlearn: 0.0842187\ttotal: 7.86s\tremaining: 2.13s\n",
      "787:\tlearn: 0.0842027\ttotal: 7.87s\tremaining: 2.12s\n",
      "788:\tlearn: 0.0841892\ttotal: 7.88s\tremaining: 2.11s\n",
      "789:\tlearn: 0.0841789\ttotal: 7.89s\tremaining: 2.1s\n",
      "790:\tlearn: 0.0841728\ttotal: 7.91s\tremaining: 2.09s\n",
      "791:\tlearn: 0.0841576\ttotal: 7.92s\tremaining: 2.08s\n",
      "792:\tlearn: 0.0841438\ttotal: 7.93s\tremaining: 2.07s\n",
      "793:\tlearn: 0.0841254\ttotal: 7.94s\tremaining: 2.06s\n",
      "794:\tlearn: 0.0841152\ttotal: 7.94s\tremaining: 2.05s\n",
      "795:\tlearn: 0.0840969\ttotal: 7.95s\tremaining: 2.04s\n",
      "796:\tlearn: 0.0840791\ttotal: 7.95s\tremaining: 2.02s\n",
      "797:\tlearn: 0.0840614\ttotal: 7.96s\tremaining: 2.02s\n",
      "798:\tlearn: 0.0840417\ttotal: 7.97s\tremaining: 2.01s\n",
      "799:\tlearn: 0.0840320\ttotal: 7.99s\tremaining: 2s\n",
      "800:\tlearn: 0.0840126\ttotal: 8s\tremaining: 1.99s\n",
      "801:\tlearn: 0.0839962\ttotal: 8.01s\tremaining: 1.98s\n",
      "802:\tlearn: 0.0839815\ttotal: 8.02s\tremaining: 1.97s\n",
      "803:\tlearn: 0.0839671\ttotal: 8.03s\tremaining: 1.96s\n",
      "804:\tlearn: 0.0839560\ttotal: 8.04s\tremaining: 1.95s\n",
      "805:\tlearn: 0.0839437\ttotal: 8.05s\tremaining: 1.94s\n",
      "806:\tlearn: 0.0839237\ttotal: 8.06s\tremaining: 1.93s\n",
      "807:\tlearn: 0.0839055\ttotal: 8.07s\tremaining: 1.92s\n",
      "808:\tlearn: 0.0838956\ttotal: 8.08s\tremaining: 1.91s\n",
      "809:\tlearn: 0.0838880\ttotal: 8.09s\tremaining: 1.9s\n",
      "810:\tlearn: 0.0838657\ttotal: 8.1s\tremaining: 1.89s\n",
      "811:\tlearn: 0.0838540\ttotal: 8.1s\tremaining: 1.88s\n",
      "812:\tlearn: 0.0838425\ttotal: 8.1s\tremaining: 1.86s\n",
      "813:\tlearn: 0.0838341\ttotal: 8.11s\tremaining: 1.85s\n",
      "814:\tlearn: 0.0838143\ttotal: 8.11s\tremaining: 1.84s\n",
      "815:\tlearn: 0.0838043\ttotal: 8.13s\tremaining: 1.83s\n",
      "816:\tlearn: 0.0837879\ttotal: 8.15s\tremaining: 1.82s\n",
      "817:\tlearn: 0.0837764\ttotal: 8.17s\tremaining: 1.82s\n",
      "818:\tlearn: 0.0837632\ttotal: 8.19s\tremaining: 1.81s\n",
      "819:\tlearn: 0.0837514\ttotal: 8.21s\tremaining: 1.8s\n",
      "820:\tlearn: 0.0837435\ttotal: 8.23s\tremaining: 1.79s\n",
      "821:\tlearn: 0.0837336\ttotal: 8.24s\tremaining: 1.78s\n",
      "822:\tlearn: 0.0837222\ttotal: 8.26s\tremaining: 1.77s\n",
      "823:\tlearn: 0.0837099\ttotal: 8.28s\tremaining: 1.77s\n",
      "824:\tlearn: 0.0836997\ttotal: 8.3s\tremaining: 1.76s\n",
      "825:\tlearn: 0.0836946\ttotal: 8.31s\tremaining: 1.75s\n",
      "826:\tlearn: 0.0836848\ttotal: 8.33s\tremaining: 1.74s\n",
      "827:\tlearn: 0.0836771\ttotal: 8.34s\tremaining: 1.73s\n",
      "828:\tlearn: 0.0836626\ttotal: 8.36s\tremaining: 1.72s\n",
      "829:\tlearn: 0.0836487\ttotal: 8.37s\tremaining: 1.72s\n",
      "830:\tlearn: 0.0836410\ttotal: 8.39s\tremaining: 1.71s\n",
      "831:\tlearn: 0.0836332\ttotal: 8.41s\tremaining: 1.7s\n",
      "832:\tlearn: 0.0836251\ttotal: 8.43s\tremaining: 1.69s\n",
      "833:\tlearn: 0.0836093\ttotal: 8.44s\tremaining: 1.68s\n",
      "834:\tlearn: 0.0835988\ttotal: 8.45s\tremaining: 1.67s\n",
      "835:\tlearn: 0.0835834\ttotal: 8.46s\tremaining: 1.66s\n",
      "836:\tlearn: 0.0835731\ttotal: 8.47s\tremaining: 1.65s\n",
      "837:\tlearn: 0.0835521\ttotal: 8.48s\tremaining: 1.64s\n",
      "838:\tlearn: 0.0835430\ttotal: 8.49s\tremaining: 1.63s\n",
      "839:\tlearn: 0.0835280\ttotal: 8.5s\tremaining: 1.62s\n",
      "840:\tlearn: 0.0835209\ttotal: 8.51s\tremaining: 1.61s\n",
      "841:\tlearn: 0.0835051\ttotal: 8.52s\tremaining: 1.6s\n",
      "842:\tlearn: 0.0834911\ttotal: 8.53s\tremaining: 1.59s\n",
      "843:\tlearn: 0.0834826\ttotal: 8.53s\tremaining: 1.58s\n",
      "844:\tlearn: 0.0834715\ttotal: 8.54s\tremaining: 1.56s\n",
      "845:\tlearn: 0.0834626\ttotal: 8.55s\tremaining: 1.55s\n",
      "846:\tlearn: 0.0834514\ttotal: 8.56s\tremaining: 1.55s\n",
      "847:\tlearn: 0.0834366\ttotal: 8.58s\tremaining: 1.54s\n",
      "848:\tlearn: 0.0834274\ttotal: 8.59s\tremaining: 1.53s\n",
      "849:\tlearn: 0.0834148\ttotal: 8.61s\tremaining: 1.52s\n",
      "850:\tlearn: 0.0834013\ttotal: 8.62s\tremaining: 1.51s\n",
      "851:\tlearn: 0.0833777\ttotal: 8.63s\tremaining: 1.5s\n",
      "852:\tlearn: 0.0833565\ttotal: 8.64s\tremaining: 1.49s\n",
      "853:\tlearn: 0.0833403\ttotal: 8.65s\tremaining: 1.48s\n",
      "854:\tlearn: 0.0833306\ttotal: 8.66s\tremaining: 1.47s\n",
      "855:\tlearn: 0.0833075\ttotal: 8.68s\tremaining: 1.46s\n",
      "856:\tlearn: 0.0832950\ttotal: 8.69s\tremaining: 1.45s\n",
      "857:\tlearn: 0.0832847\ttotal: 8.71s\tremaining: 1.44s\n",
      "858:\tlearn: 0.0832679\ttotal: 8.73s\tremaining: 1.43s\n",
      "859:\tlearn: 0.0832562\ttotal: 8.74s\tremaining: 1.42s\n",
      "860:\tlearn: 0.0832466\ttotal: 8.76s\tremaining: 1.41s\n",
      "861:\tlearn: 0.0832382\ttotal: 8.77s\tremaining: 1.4s\n",
      "862:\tlearn: 0.0832162\ttotal: 8.78s\tremaining: 1.39s\n",
      "863:\tlearn: 0.0832007\ttotal: 8.8s\tremaining: 1.39s\n",
      "864:\tlearn: 0.0831888\ttotal: 8.81s\tremaining: 1.38s\n",
      "865:\tlearn: 0.0831767\ttotal: 8.83s\tremaining: 1.37s\n",
      "866:\tlearn: 0.0831618\ttotal: 8.85s\tremaining: 1.36s\n",
      "867:\tlearn: 0.0831462\ttotal: 8.87s\tremaining: 1.35s\n",
      "868:\tlearn: 0.0831364\ttotal: 8.88s\tremaining: 1.34s\n",
      "869:\tlearn: 0.0831239\ttotal: 8.9s\tremaining: 1.33s\n",
      "870:\tlearn: 0.0831142\ttotal: 8.91s\tremaining: 1.32s\n",
      "871:\tlearn: 0.0830955\ttotal: 8.92s\tremaining: 1.31s\n",
      "872:\tlearn: 0.0830813\ttotal: 8.93s\tremaining: 1.3s\n",
      "873:\tlearn: 0.0830667\ttotal: 8.94s\tremaining: 1.29s\n",
      "874:\tlearn: 0.0830478\ttotal: 8.96s\tremaining: 1.28s\n",
      "875:\tlearn: 0.0830279\ttotal: 8.97s\tremaining: 1.27s\n",
      "876:\tlearn: 0.0830221\ttotal: 8.98s\tremaining: 1.26s\n",
      "877:\tlearn: 0.0830134\ttotal: 8.99s\tremaining: 1.25s\n",
      "878:\tlearn: 0.0830072\ttotal: 9s\tremaining: 1.24s\n",
      "879:\tlearn: 0.0829949\ttotal: 9.01s\tremaining: 1.23s\n",
      "880:\tlearn: 0.0829828\ttotal: 9.02s\tremaining: 1.22s\n",
      "881:\tlearn: 0.0829666\ttotal: 9.03s\tremaining: 1.21s\n",
      "882:\tlearn: 0.0829583\ttotal: 9.05s\tremaining: 1.2s\n",
      "883:\tlearn: 0.0829477\ttotal: 9.06s\tremaining: 1.19s\n",
      "884:\tlearn: 0.0829318\ttotal: 9.07s\tremaining: 1.18s\n",
      "885:\tlearn: 0.0829241\ttotal: 9.08s\tremaining: 1.17s\n",
      "886:\tlearn: 0.0829098\ttotal: 9.09s\tremaining: 1.16s\n",
      "887:\tlearn: 0.0828983\ttotal: 9.1s\tremaining: 1.15s\n",
      "888:\tlearn: 0.0828774\ttotal: 9.11s\tremaining: 1.14s\n",
      "889:\tlearn: 0.0828688\ttotal: 9.12s\tremaining: 1.13s\n",
      "890:\tlearn: 0.0828546\ttotal: 9.13s\tremaining: 1.12s\n",
      "891:\tlearn: 0.0828460\ttotal: 9.13s\tremaining: 1.1s\n",
      "892:\tlearn: 0.0828272\ttotal: 9.14s\tremaining: 1.09s\n",
      "893:\tlearn: 0.0828062\ttotal: 9.14s\tremaining: 1.08s\n",
      "894:\tlearn: 0.0827917\ttotal: 9.15s\tremaining: 1.07s\n",
      "895:\tlearn: 0.0827796\ttotal: 9.15s\tremaining: 1.06s\n",
      "896:\tlearn: 0.0827682\ttotal: 9.15s\tremaining: 1.05s\n",
      "897:\tlearn: 0.0827573\ttotal: 9.16s\tremaining: 1.04s\n",
      "898:\tlearn: 0.0827476\ttotal: 9.16s\tremaining: 1.03s\n",
      "899:\tlearn: 0.0827249\ttotal: 9.17s\tremaining: 1.02s\n",
      "900:\tlearn: 0.0827170\ttotal: 9.17s\tremaining: 1.01s\n",
      "901:\tlearn: 0.0827044\ttotal: 9.18s\tremaining: 997ms\n",
      "902:\tlearn: 0.0826972\ttotal: 9.18s\tremaining: 986ms\n",
      "903:\tlearn: 0.0826904\ttotal: 9.18s\tremaining: 975ms\n",
      "904:\tlearn: 0.0826807\ttotal: 9.19s\tremaining: 965ms\n",
      "905:\tlearn: 0.0826736\ttotal: 9.19s\tremaining: 954ms\n",
      "906:\tlearn: 0.0826567\ttotal: 9.2s\tremaining: 944ms\n",
      "907:\tlearn: 0.0826493\ttotal: 9.21s\tremaining: 934ms\n",
      "908:\tlearn: 0.0826431\ttotal: 9.22s\tremaining: 924ms\n",
      "909:\tlearn: 0.0826331\ttotal: 9.24s\tremaining: 914ms\n",
      "910:\tlearn: 0.0826240\ttotal: 9.25s\tremaining: 903ms\n",
      "911:\tlearn: 0.0825999\ttotal: 9.26s\tremaining: 893ms\n",
      "912:\tlearn: 0.0825883\ttotal: 9.27s\tremaining: 883ms\n",
      "913:\tlearn: 0.0825616\ttotal: 9.28s\tremaining: 873ms\n",
      "914:\tlearn: 0.0825542\ttotal: 9.29s\tremaining: 863ms\n",
      "915:\tlearn: 0.0825414\ttotal: 9.3s\tremaining: 853ms\n",
      "916:\tlearn: 0.0825266\ttotal: 9.31s\tremaining: 843ms\n",
      "917:\tlearn: 0.0825117\ttotal: 9.32s\tremaining: 833ms\n",
      "918:\tlearn: 0.0825038\ttotal: 9.33s\tremaining: 822ms\n",
      "919:\tlearn: 0.0824946\ttotal: 9.33s\tremaining: 812ms\n",
      "920:\tlearn: 0.0824738\ttotal: 9.34s\tremaining: 801ms\n",
      "921:\tlearn: 0.0824593\ttotal: 9.34s\tremaining: 790ms\n",
      "922:\tlearn: 0.0824446\ttotal: 9.35s\tremaining: 780ms\n",
      "923:\tlearn: 0.0824300\ttotal: 9.36s\tremaining: 770ms\n",
      "924:\tlearn: 0.0824100\ttotal: 9.36s\tremaining: 759ms\n",
      "925:\tlearn: 0.0823936\ttotal: 9.37s\tremaining: 748ms\n",
      "926:\tlearn: 0.0823817\ttotal: 9.38s\tremaining: 738ms\n",
      "927:\tlearn: 0.0823680\ttotal: 9.39s\tremaining: 728ms\n",
      "928:\tlearn: 0.0823517\ttotal: 9.4s\tremaining: 718ms\n",
      "929:\tlearn: 0.0823365\ttotal: 9.41s\tremaining: 708ms\n",
      "930:\tlearn: 0.0823232\ttotal: 9.42s\tremaining: 698ms\n",
      "931:\tlearn: 0.0823103\ttotal: 9.43s\tremaining: 688ms\n",
      "932:\tlearn: 0.0823000\ttotal: 9.44s\tremaining: 678ms\n",
      "933:\tlearn: 0.0822730\ttotal: 9.45s\tremaining: 668ms\n",
      "934:\tlearn: 0.0822654\ttotal: 9.46s\tremaining: 658ms\n",
      "935:\tlearn: 0.0822439\ttotal: 9.47s\tremaining: 648ms\n",
      "936:\tlearn: 0.0822293\ttotal: 9.48s\tremaining: 638ms\n",
      "937:\tlearn: 0.0822161\ttotal: 9.49s\tremaining: 627ms\n",
      "938:\tlearn: 0.0821954\ttotal: 9.5s\tremaining: 617ms\n",
      "939:\tlearn: 0.0821856\ttotal: 9.52s\tremaining: 608ms\n",
      "940:\tlearn: 0.0821740\ttotal: 9.53s\tremaining: 598ms\n",
      "941:\tlearn: 0.0821594\ttotal: 9.54s\tremaining: 588ms\n",
      "942:\tlearn: 0.0821399\ttotal: 9.56s\tremaining: 578ms\n",
      "943:\tlearn: 0.0821297\ttotal: 9.57s\tremaining: 568ms\n",
      "944:\tlearn: 0.0821229\ttotal: 9.58s\tremaining: 558ms\n",
      "945:\tlearn: 0.0821145\ttotal: 9.6s\tremaining: 548ms\n",
      "946:\tlearn: 0.0821000\ttotal: 9.62s\tremaining: 538ms\n",
      "947:\tlearn: 0.0820861\ttotal: 9.63s\tremaining: 528ms\n",
      "948:\tlearn: 0.0820757\ttotal: 9.65s\tremaining: 518ms\n",
      "949:\tlearn: 0.0820563\ttotal: 9.66s\tremaining: 508ms\n",
      "950:\tlearn: 0.0820362\ttotal: 9.68s\tremaining: 499ms\n",
      "951:\tlearn: 0.0820166\ttotal: 9.69s\tremaining: 489ms\n",
      "952:\tlearn: 0.0819970\ttotal: 9.7s\tremaining: 478ms\n",
      "953:\tlearn: 0.0819886\ttotal: 9.71s\tremaining: 468ms\n",
      "954:\tlearn: 0.0819837\ttotal: 9.72s\tremaining: 458ms\n",
      "955:\tlearn: 0.0819689\ttotal: 9.73s\tremaining: 448ms\n",
      "956:\tlearn: 0.0819552\ttotal: 9.74s\tremaining: 438ms\n",
      "957:\tlearn: 0.0819447\ttotal: 9.75s\tremaining: 428ms\n",
      "958:\tlearn: 0.0819360\ttotal: 9.76s\tremaining: 417ms\n",
      "959:\tlearn: 0.0819230\ttotal: 9.78s\tremaining: 407ms\n",
      "960:\tlearn: 0.0819078\ttotal: 9.78s\tremaining: 397ms\n",
      "961:\tlearn: 0.0818943\ttotal: 9.8s\tremaining: 387ms\n",
      "962:\tlearn: 0.0818767\ttotal: 9.81s\tremaining: 377ms\n",
      "963:\tlearn: 0.0818594\ttotal: 9.82s\tremaining: 367ms\n",
      "964:\tlearn: 0.0818498\ttotal: 9.84s\tremaining: 357ms\n",
      "965:\tlearn: 0.0818326\ttotal: 9.85s\tremaining: 347ms\n",
      "966:\tlearn: 0.0818137\ttotal: 9.86s\tremaining: 336ms\n",
      "967:\tlearn: 0.0818035\ttotal: 9.87s\tremaining: 326ms\n",
      "968:\tlearn: 0.0817935\ttotal: 9.87s\tremaining: 316ms\n",
      "969:\tlearn: 0.0817888\ttotal: 9.88s\tremaining: 306ms\n",
      "970:\tlearn: 0.0817689\ttotal: 9.89s\tremaining: 296ms\n",
      "971:\tlearn: 0.0817598\ttotal: 9.9s\tremaining: 285ms\n",
      "972:\tlearn: 0.0817476\ttotal: 9.91s\tremaining: 275ms\n",
      "973:\tlearn: 0.0817397\ttotal: 9.92s\tremaining: 265ms\n",
      "974:\tlearn: 0.0817256\ttotal: 9.93s\tremaining: 255ms\n",
      "975:\tlearn: 0.0817144\ttotal: 9.94s\tremaining: 244ms\n",
      "976:\tlearn: 0.0817025\ttotal: 9.95s\tremaining: 234ms\n",
      "977:\tlearn: 0.0816901\ttotal: 9.96s\tremaining: 224ms\n",
      "978:\tlearn: 0.0816839\ttotal: 9.98s\tremaining: 214ms\n",
      "979:\tlearn: 0.0816769\ttotal: 9.99s\tremaining: 204ms\n",
      "980:\tlearn: 0.0816676\ttotal: 10s\tremaining: 194ms\n",
      "981:\tlearn: 0.0816603\ttotal: 10s\tremaining: 184ms\n",
      "982:\tlearn: 0.0816537\ttotal: 10s\tremaining: 174ms\n",
      "983:\tlearn: 0.0816337\ttotal: 10.1s\tremaining: 164ms\n",
      "984:\tlearn: 0.0816237\ttotal: 10.1s\tremaining: 153ms\n",
      "985:\tlearn: 0.0816118\ttotal: 10.1s\tremaining: 143ms\n",
      "986:\tlearn: 0.0816049\ttotal: 10.1s\tremaining: 133ms\n",
      "987:\tlearn: 0.0815985\ttotal: 10.1s\tremaining: 123ms\n",
      "988:\tlearn: 0.0815845\ttotal: 10.1s\tremaining: 113ms\n",
      "989:\tlearn: 0.0815724\ttotal: 10.2s\tremaining: 103ms\n",
      "990:\tlearn: 0.0815637\ttotal: 10.2s\tremaining: 92.4ms\n",
      "991:\tlearn: 0.0815517\ttotal: 10.2s\tremaining: 82.2ms\n",
      "992:\tlearn: 0.0815437\ttotal: 10.2s\tremaining: 71.9ms\n",
      "993:\tlearn: 0.0815344\ttotal: 10.2s\tremaining: 61.7ms\n",
      "994:\tlearn: 0.0815205\ttotal: 10.2s\tremaining: 51.4ms\n",
      "995:\tlearn: 0.0815068\ttotal: 10.2s\tremaining: 41.1ms\n",
      "996:\tlearn: 0.0814856\ttotal: 10.3s\tremaining: 30.8ms\n",
      "997:\tlearn: 0.0814701\ttotal: 10.3s\tremaining: 20.6ms\n",
      "998:\tlearn: 0.0814586\ttotal: 10.3s\tremaining: 10.3ms\n",
      "999:\tlearn: 0.0814440\ttotal: 10.3s\tremaining: 0us\n"
     ]
    },
    {
     "data": {
      "text/plain": [
       "0.7440809181122787"
      ]
     },
     "execution_count": 222,
     "metadata": {},
     "output_type": "execute_result"
    }
   ],
   "source": [
    "#X_train,X_test, y_train, y_test = my_split_func(X,y)\n",
    "\n",
    "from catboost import CatBoostRegressor\n",
    "\n",
    "CBR = CatBoostRegressor(random_seed = 20)\n",
    "\n",
    "CBR.fit(X_train_new, y_train)\n",
    "CBR.score(X_test_new,y_test)"
   ]
  },
  {
   "cell_type": "code",
   "execution_count": 244,
   "metadata": {},
   "outputs": [
    {
     "data": {
      "text/plain": [
       "0.0990187144068133"
      ]
     },
     "execution_count": 244,
     "metadata": {},
     "output_type": "execute_result"
    }
   ],
   "source": [
    "cbr_preds = CBR.predict(X_test_new)\n",
    "rmse = np.sqrt(mse(y_test, cbr_preds))\n",
    "rmse"
   ]
  },
  {
   "cell_type": "code",
   "execution_count": 233,
   "metadata": {},
   "outputs": [
    {
     "data": {
      "text/plain": [
       "0.7297302734714081"
      ]
     },
     "execution_count": 233,
     "metadata": {},
     "output_type": "execute_result"
    }
   ],
   "source": [
    "#X_train,X_test, y_train, y_test = my_split_func(X,y)\n",
    "\n",
    "\n",
    "from sklearn.ensemble import RandomForestRegressor\n",
    "RFC = RandomForestRegressor(random_state = 4)\n",
    "\n",
    "RFC.fit(X_train_new, y_train)\n",
    "RFC.score(X_test_new, y_test)"
   ]
  },
  {
   "cell_type": "code",
   "execution_count": 237,
   "metadata": {},
   "outputs": [],
   "source": [
    "rfc_preds = RFC.predict(X_test_new)"
   ]
  },
  {
   "cell_type": "code",
   "execution_count": 238,
   "metadata": {},
   "outputs": [
    {
     "data": {
      "text/plain": [
       "0.10175708327093884"
      ]
     },
     "execution_count": 238,
     "metadata": {},
     "output_type": "execute_result"
    }
   ],
   "source": [
    "from sklearn.metrics import mean_squared_error as mse\n",
    "rmse = np.sqrt(mse(y_test,rfc_preds))\n",
    "rmse"
   ]
  },
  {
   "cell_type": "code",
   "execution_count": 223,
   "metadata": {},
   "outputs": [
    {
     "data": {
      "text/plain": [
       "0.7295927330733809"
      ]
     },
     "execution_count": 223,
     "metadata": {},
     "output_type": "execute_result"
    }
   ],
   "source": [
    "from xgboost import XGBRegressor\n",
    "XGBR = XGBRegressor(random_state = 100)\n",
    "XGBR.fit(X_train_new,y_train)\n",
    "XGBR.score(X_test_new,y_test)"
   ]
  },
  {
   "cell_type": "code",
   "execution_count": 229,
   "metadata": {},
   "outputs": [
    {
     "data": {
      "text/plain": [
       "array([0.19194572, 0.18317264, 0.606079  , 0.41990297, 0.27610725,\n",
       "       0.2143593 , 0.21721016, 0.22074655, 0.16151817, 0.25265791])"
      ]
     },
     "execution_count": 229,
     "metadata": {},
     "output_type": "execute_result"
    }
   ],
   "source": [
    "preds = CBR.predict(df_test_new)\n",
    "preds[:10]"
   ]
  },
  {
   "cell_type": "code",
   "execution_count": 230,
   "metadata": {},
   "outputs": [],
   "source": [
    "s = pd.read_csv('SampleSubmission.csv')\n",
    "s['Target'] = preds"
   ]
  },
  {
   "cell_type": "code",
   "execution_count": 231,
   "metadata": {},
   "outputs": [],
   "source": [
    "s.to_csv('jSubmission.csv', index = False)"
   ]
  },
  {
   "cell_type": "code",
   "execution_count": 227,
   "metadata": {},
   "outputs": [
    {
     "data": {
      "text/plain": [
       "ID        0\n",
       "Target    0\n",
       "dtype: int64"
      ]
     },
     "execution_count": 227,
     "metadata": {},
     "output_type": "execute_result"
    }
   ],
   "source": [
    "s.isna().sum()"
   ]
  },
  {
   "cell_type": "code",
   "execution_count": 228,
   "metadata": {},
   "outputs": [
    {
     "data": {
      "text/html": [
       "<div>\n",
       "<style scoped>\n",
       "    .dataframe tbody tr th:only-of-type {\n",
       "        vertical-align: middle;\n",
       "    }\n",
       "\n",
       "    .dataframe tbody tr th {\n",
       "        vertical-align: top;\n",
       "    }\n",
       "\n",
       "    .dataframe thead th {\n",
       "        text-align: right;\n",
       "    }\n",
       "</style>\n",
       "<table border=\"1\" class=\"dataframe\">\n",
       "  <thead>\n",
       "    <tr style=\"text-align: right;\">\n",
       "      <th></th>\n",
       "      <th>ID</th>\n",
       "      <th>Target</th>\n",
       "    </tr>\n",
       "  </thead>\n",
       "  <tbody>\n",
       "    <tr>\n",
       "      <th>0</th>\n",
       "      <td>ID_AAcismbB</td>\n",
       "      <td>0.156312</td>\n",
       "    </tr>\n",
       "    <tr>\n",
       "      <th>1</th>\n",
       "      <td>ID_AAeBMsji</td>\n",
       "      <td>0.228195</td>\n",
       "    </tr>\n",
       "    <tr>\n",
       "      <th>2</th>\n",
       "      <td>ID_AAjFMjzy</td>\n",
       "      <td>0.611215</td>\n",
       "    </tr>\n",
       "    <tr>\n",
       "      <th>3</th>\n",
       "      <td>ID_AAmMOEEC</td>\n",
       "      <td>0.417036</td>\n",
       "    </tr>\n",
       "    <tr>\n",
       "      <th>4</th>\n",
       "      <td>ID_ABguzDxp</td>\n",
       "      <td>0.253940</td>\n",
       "    </tr>\n",
       "  </tbody>\n",
       "</table>\n",
       "</div>"
      ],
      "text/plain": [
       "            ID    Target\n",
       "0  ID_AAcismbB  0.156312\n",
       "1  ID_AAeBMsji  0.228195\n",
       "2  ID_AAjFMjzy  0.611215\n",
       "3  ID_AAmMOEEC  0.417036\n",
       "4  ID_ABguzDxp  0.253940"
      ]
     },
     "execution_count": 228,
     "metadata": {},
     "output_type": "execute_result"
    }
   ],
   "source": [
    "s.head()"
   ]
  },
  {
   "cell_type": "code",
   "execution_count": null,
   "metadata": {},
   "outputs": [],
   "source": []
  }
 ],
 "metadata": {
  "kernelspec": {
   "display_name": "Python 3",
   "language": "python",
   "name": "python3"
  },
  "language_info": {
   "codemirror_mode": {
    "name": "ipython",
    "version": 3
   },
   "file_extension": ".py",
   "mimetype": "text/x-python",
   "name": "python",
   "nbconvert_exporter": "python",
   "pygments_lexer": "ipython3",
   "version": "3.8.5"
  }
 },
 "nbformat": 4,
 "nbformat_minor": 4
}
